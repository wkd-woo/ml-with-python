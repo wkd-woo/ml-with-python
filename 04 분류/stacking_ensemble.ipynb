{
  "nbformat": 4,
  "nbformat_minor": 0,
  "metadata": {
    "colab": {
      "name": "stacking-ensemble.ipynb",
      "provenance": [],
      "collapsed_sections": [],
      "mount_file_id": "1fjflE56vdkmCL65t3lMzmHBeLVUqDwMM",
      "authorship_tag": "ABX9TyPt+iXIGGlmRh1C1iDI82+S"
    },
    "kernelspec": {
      "name": "python3",
      "display_name": "Python 3"
    },
    "language_info": {
      "name": "python"
    }
  },
  "cells": [
    {
      "cell_type": "markdown",
      "metadata": {
        "id": "zbUGcLpYYQQj"
      },
      "source": [
        "## 스태킹 앙상블\n",
        "\n",
        "스태킹(Stacking(은 개별적인 여러 알고리즘을 결합해 예측 결과를 도출한다는 점에서 앞서 소개한 배깅(Bagging) 및 부스팅(Boosting)과 공통점을 가지고 있다.\n",
        "\n",
        "하지만 가장 큰 차이점은 개별 알고리즘으로 예측한 데이터를 기반으로 다시 예측을 수행한다는 것이다.\n",
        "\n",
        "즉, 개별 알고리즘의 예측 결과 데이터 세트를 최종적인 메타 데이터 세트로 만들어 별도의 ML 알고리즘으로 최종 학습을 수행하고    \n",
        "테스트 데이터를 기반으로 다시 최종 예측을 수행하느 방식이다.   \n",
        "*(이렇게 개별 모델의 예측된 데이터 세트를 다시 기반으로 하여 학습하고 예측하는 방식을 메타 모델이라고 한다.)*\n",
        "\n",
        "---\n",
        "\n",
        "스태킹 모델은 두 종류의 모델이 필요하다.\n",
        "\n",
        "첫 번째는 개별적인 기반 모델이고, 두 번째 이 개별 기반 모델의 예측 데이터를 학습 데이터로 만들어서 학습하는 최종 메타 모델이다.\n",
        "\n",
        "스태킹 모델의 핵심은 여러 개별 모델의 예측 데이터를 각각 스태킹 형태로 결합해 최종 메타 모델의 학습용 피처 데이터 세트와 테스트용 피처 데이터 세트를 만드는 것이다.\n",
        "\n",
        "---\n",
        "\n",
        "스태킹을 현실 모델에 적용하는 경우는 그렇게 많지 않지만,    \n",
        "캐글과 같은 대회에서 높은 순위를 차지하기 위해 조금이라도 성능 수치를 높여야 할 경우 자주 사용된다.\n",
        "\n",
        "스태킹을 적용할 때는 많은 개별 모델이 필요하다. 2~3개의 개별 모델만을 결합해서는 쉽게 예측 성능을 향상시킬 수 없으며,\n",
        "\n",
        "스태킹을 적용한다고 해서 반드시 성능 향상이 되리라는 보장도 없다.\n",
        "\n",
        "일반적으로 성능이 비슷한 모델을 결합해 좀 더 나은 성능 향상을 도출하기 위해 적용된다.\n",
        "\n"
      ]
    },
    {
      "cell_type": "code",
      "metadata": {
        "id": "p6OaYJw7Um3W"
      },
      "source": [
        "import numpy as np\n",
        "\n",
        "from sklearn.neighbors import KNeighborsClassifier\n",
        "from sklearn.ensemble import RandomForestClassifier, AdaBoostClassifier\n",
        "from sklearn.tree import DecisionTreeClassifier\n",
        "from sklearn.linear_model import LogisticRegression\n",
        "\n",
        "from sklearn.datasets import load_breast_cancer\n",
        "from sklearn.model_selection import train_test_split\n",
        "from sklearn.metrics import accuracy_score"
      ],
      "execution_count": 7,
      "outputs": []
    },
    {
      "cell_type": "code",
      "metadata": {
        "id": "0ZjPZ0JJZ-LZ"
      },
      "source": [
        "cancer_data = load_breast_cancer()"
      ],
      "execution_count": 8,
      "outputs": []
    },
    {
      "cell_type": "code",
      "metadata": {
        "id": "geKGLHlMaAzL"
      },
      "source": [
        "X_data = cancer_data.data\n",
        "y_label = cancer_data.target"
      ],
      "execution_count": 9,
      "outputs": []
    },
    {
      "cell_type": "code",
      "metadata": {
        "id": "NDMPMHsnaEMH"
      },
      "source": [
        "X_train, X_test, y_train, y_test = train_test_split(X_data, y_label, test_size=0.2, random_state=0)"
      ],
      "execution_count": 10,
      "outputs": []
    },
    {
      "cell_type": "code",
      "metadata": {
        "colab": {
          "base_uri": "https://localhost:8080/"
        },
        "id": "pBY8CAnRaK0Z",
        "outputId": "0b1a0d0c-e190-4397-f9aa-f2354577581a"
      },
      "source": [
        "# 개별 ML 생성\n",
        "\n",
        "knn_clf = KNeighborsClassifier(n_neighbors=4)\n",
        "rf_clf = RandomForestClassifier(n_estimators=100, random_state=0)\n",
        "dt_clf = DecisionTreeClassifier()\n",
        "ada_clf = AdaBoostClassifier(n_estimators=100)\n",
        "\n",
        "# 스태킹으로 만들어진 데이터 세트를 학습, 예측할 최종 모델\n",
        "lr_final = LogisticRegression(C=10)\n",
        "\n",
        "# 개별 모델들을 학습.\n",
        "knn_clf.fit(X_train, y_train)\n",
        "rf_clf.fit(X_train, y_train)\n",
        "dt_clf.fit(X_train, y_train)\n",
        "ada_clf.fit(X_train, y_train)"
      ],
      "execution_count": 11,
      "outputs": [
        {
          "output_type": "execute_result",
          "data": {
            "text/plain": [
              "AdaBoostClassifier(algorithm='SAMME.R', base_estimator=None, learning_rate=1.0,\n",
              "                   n_estimators=100, random_state=None)"
            ]
          },
          "metadata": {
            "tags": []
          },
          "execution_count": 11
        }
      ]
    },
    {
      "cell_type": "code",
      "metadata": {
        "colab": {
          "base_uri": "https://localhost:8080/"
        },
        "id": "TjTrGIsFalsA",
        "outputId": "acb18a19-528d-4951-d23a-251cd578680e"
      },
      "source": [
        "# 학습된 개별 모델들이 각자 반환하는 예측 데이터 세트를 생성하고 개별 모델의 정확도 측정.\n",
        "knn_pred = knn_clf.predict(X_test)\n",
        "rf_pred = rf_clf.predict(X_test)\n",
        "dt_pred = dt_clf.predict(X_test)\n",
        "ada_pred = ada_clf.predict(X_test)\n",
        "\n",
        "print('KNN 정확도: {0:.4f}'.format(accuracy_score(y_test, knn_pred)))\n",
        "print('랜덤 포레스트 정확도: {0:.4f}'.format(accuracy_score(y_test, rf_pred)))\n",
        "print('결정 트리 정확도: {0:.4f}'.format(accuracy_score(y_test, dt_pred)))\n",
        "print('에이다부스트 정확도: {0:.4f}'.format(accuracy_score(y_test, ada_pred)))"
      ],
      "execution_count": 13,
      "outputs": [
        {
          "output_type": "stream",
          "text": [
            "KNN 정확도: 0.9211\n",
            "랜덤 포레스트 정확도: 0.9649\n",
            "결정 트리 정확도: 0.9123\n",
            "에이다부스트 정확도: 0.9561\n"
          ],
          "name": "stdout"
        }
      ]
    },
    {
      "cell_type": "markdown",
      "metadata": {
        "id": "R5gzHVA2buJy"
      },
      "source": [
        "개별 알고리즘으로부터 예측된 예측값을 칼럼 레벨로 옆으로 붙여서 피처 값으로 만들어, 최종 메타 모델인 로지스틱 회귀에서 학습 데이터로 다시 사용한다.\n",
        "\n",
        "반환된 예측 데이터 세트는 1차원 형태의 ndarray이므로 먼저 반환된 예측 결과를 행으로 붙인 뒤,    \n",
        "넘파이의 transpose()를 이용해 행과 열의 위치를 바꾼 ndarray로 변환하면 된다.\n"
      ]
    },
    {
      "cell_type": "code",
      "metadata": {
        "colab": {
          "base_uri": "https://localhost:8080/"
        },
        "id": "K5gFjF_fbPnw",
        "outputId": "76f77edd-30db-4881-c8d1-9541f9ff7944"
      },
      "source": [
        "pred = np.array([knn_pred, rf_pred, dt_pred, ada_pred])\n",
        "print(pred.shape)\n",
        "\n",
        "# transpose를 이용해 행과 열의 위치 교환. 칼럼 레벨로 각 알고리즘의 예측 결과를 피처로 만듦.\n",
        "pred = np.transpose(pred)\n",
        "print(pred.shape)"
      ],
      "execution_count": 14,
      "outputs": [
        {
          "output_type": "stream",
          "text": [
            "(4, 114)\n",
            "(114, 4)\n"
          ],
          "name": "stdout"
        }
      ]
    },
    {
      "cell_type": "markdown",
      "metadata": {
        "id": "2xZCvOPKceWW"
      },
      "source": [
        "\n",
        "이렇게 예측 데이터로 생성된 데이터 세트를 기반으로 최종 메타 모델인 로지스틱 회귀를 학습하고 예측 정확도를 측정한다.\n"
      ]
    },
    {
      "cell_type": "code",
      "metadata": {
        "colab": {
          "base_uri": "https://localhost:8080/"
        },
        "id": "thbwRGcocNfY",
        "outputId": "f69c7ca0-bd93-4dcd-87da-a7ac41dc48a8"
      },
      "source": [
        "lr_final.fit(pred, y_test)\n",
        "final = lr_final.predict(pred)\n",
        "\n",
        "print('최종 메타 모델의 예측 정확도: {0:.4f}'.format(accuracy_score(y_test, final)))"
      ],
      "execution_count": 17,
      "outputs": [
        {
          "output_type": "stream",
          "text": [
            "최종 메타 모델의 예측 정확도: 0.9737\n"
          ],
          "name": "stdout"
        }
      ]
    },
    {
      "cell_type": "markdown",
      "metadata": {
        "id": "4w1sJ_Ttcjy1"
      },
      "source": [
        "\n",
        "개별 모델의 예측 데이터를 스태킹으로 재구성해 최종 메타 모델에서 학습하고 예측한 결과,\n",
        "\n",
        "정확도가 97.37%로 개별 모델 정확도보다 향상되었다.    \n",
        "*(물론 이러한 스태킹 기법으로 예측을 한다고 무조건 개별 모델보다는 좋아진다는 보장은 없다)*\n",
        "\n",
        "지금까지 기본 스태킹 모델의 구성과 적용을 알아보았고, 이제부터는 과적합을 개선하기 위한 CV 세트 기반의 스태킹 모델을 살펴본다.\n",
        "\n",
        "<br>\n",
        "\n",
        "---\n",
        "\n"
      ]
    },
    {
      "cell_type": "markdown",
      "metadata": {
        "id": "VvgY4t-5c9FW"
      },
      "source": [
        "### CV 세트 기반의 스태킹\n",
        "\n",
        "`CV 세트 기반의 스태킹 모델`은 과적합을 개선하기 위해 최종 메타 모델을 위한 데이터 세트를 만들 때 교차 검증 기반으로 예측된 결과 데이터 세트를 이용한다.\n",
        "\n",
        "앞 예제에서 마지막에 메타 모델인 로지스틱 회귀 모델 기반에서 최종 학습할 때 레이블 데이터 세트로 학습 데이터가 아닌 테스트용 레이블 데이터 세트를 기반으로 학습했기에 과적합 문제가 발생할 수 있다.\n",
        "\n",
        "<br>\n",
        "\n",
        "CV 세트 기반의 스태킹은 이에 대한 개선을 위해 개별 모델들이 각각 교차 검증으로 메타 모델을 위한 학습용 스태킹 데이터 생성과 예측을 위한 테스트용 스태킹 데이터를 생성한 뒤 이를 기반으로 메타 모델이 학습과 예측을 수행한다.\n",
        "\n",
        "이는 다음과 같이 **2단계의 스탭**으로 구분될 수 있다.\n",
        "\n",
        "\n",
        "> * **스텝 1**: 각 모델별로 원본 학습/테스트 데이터를 예측한 결과 값을 기반으로 메타 모델을 위한 학습용/테스트용 데이터를 생성한다.\n",
        "> * **스텝 2**: 스텝 1에서 개별 모델들이 생성한 학습용 데이터를 모두 스태킹 형태로 합쳐서 메타 모델이 학습할 최종 학습용 데이터 세트를 생성한다.   \\\n",
        "마찬가지로 각 모델들이 생성한 테스트용 데이터를 모두 스태킹 형태로 합쳐서 메타 모델이 예측되어야 할 최종 테스트 데이트 세트를 생성한다.    \\\n",
        "메타 모델은 최종적으로 생성된 학습 데이터 세트와 원본 학습 데이터의 레이블 데이터를 기반으로 학습한 뒤,    \\\n",
        "최종적으로 생성된 테스트 데이터 세트를 예측하고, 원본 테스트 데이터의 레이블 데이터를 기반으로 평가한다.\n",
        ">"
      ]
    },
    {
      "cell_type": "code",
      "metadata": {
        "id": "a6Fgiy8scX0e"
      },
      "source": [
        "from sklearn.model_selection import KFold\n",
        "from sklearn.metrics import mean_absolute_error"
      ],
      "execution_count": 18,
      "outputs": []
    },
    {
      "cell_type": "code",
      "metadata": {
        "id": "tHZUIxADgHd3"
      },
      "source": [
        "# 개별 기반 모델에서 최종 메타 모델이 사용할 학습 및 테스트용 데이터를 생성하기 위한 함수.\n",
        "def get_stacking_base_datasets(model, X_train_n, y_train_n, X_test_n, n_folds ):\n",
        "  # 지정된 n_folds 값으로 KFold 생성\n",
        "  kf = KFold(n_splits=n_folds, shuffle=False, random_state=0)\n",
        "  # 추후에 메타 모델이 사용할 학습 데이터 반환을 위한 넘파이 배열 초기화\n",
        "  train_fold_pred = np.zeros((X_train_n.shape[0], 1))\n",
        "  test_pred = np.zeros((X_test_n.shape[0], n_folds))\n",
        "  print(model.__class__.__name__, 'model 시작' )\n",
        "\n",
        "  for folder_counter, (train_index, valid_index) in enumerate(kf.split(X_train_n)):\n",
        "    # 입력된 학습 데이터에서 기반 모델이 학습/예측할 폴드 데이터 세트 추출\n",
        "    print('\\t 폴드 세트: ', folder_counter, '시작')\n",
        "    X_tr = X_train_n[train_index]\n",
        "    y_tr = y_train_n[train_index]\n",
        "    X_te = X_train_n[valid_index]\n",
        "\n",
        "    # 폴드 세트 내부에서 다시 만들어진 학습 데이터로 기반 모델의 학습 수행.\n",
        "    model.fit(X_tr, y_tr)\n",
        "    # 폴드 세트 내부에서 다시 만들어진 검증 데이터로 기반 모델 예측 후 데이터 저장.\n",
        "    train_fold_pred[valid_index, :] = model.predict(X_te).reshape(-1, 1)\n",
        "    # 입력된 원본 테스트 데이터를 폴드 세트내 학습된 기반 모델에서 예측 후 데이터 저장.\n",
        "    test_pred[:, folder_counter] = model.predict(X_test_n)\n",
        "  \n",
        "  # 폴드 세트 내에서 원본 테스트 데이터를 예측한 데이터를 평균하여 테스트 데이터로 생성\n",
        "  test_pred_mean = np.mean(test_pred, axis=1).reshape(-1, 1)\n",
        "\n",
        "  # train_fold_pred는 최종 메타 모델이 사용하는 학습 데이터, test_pred_mean은 테스트 데이터\n",
        "  \n",
        "  return train_fold_pred, test_pred_mean"
      ],
      "execution_count": 19,
      "outputs": []
    },
    {
      "cell_type": "code",
      "metadata": {
        "colab": {
          "base_uri": "https://localhost:8080/"
        },
        "id": "-PV7xX5Ih4vK",
        "outputId": "3e5b996d-6c93-458a-a852-047b21b5c075"
      },
      "source": [
        "knn_train, knn_test = get_stacking_base_datasets(knn_clf, X_train, y_train, X_test, 7)\n",
        "rf_train, rf_test = get_stacking_base_datasets(rf_clf, X_train, y_train, X_test, 7)\n",
        "dt_train, dt_test = get_stacking_base_datasets(dt_clf, X_train, y_train, X_test, 7)\n",
        "ada_train, ada_test = get_stacking_base_datasets(ada_clf, X_train, y_train, X_test, 7)"
      ],
      "execution_count": 20,
      "outputs": [
        {
          "output_type": "stream",
          "text": [
            "/usr/local/lib/python3.7/dist-packages/sklearn/model_selection/_split.py:296: FutureWarning: Setting a random_state has no effect since shuffle is False. This will raise an error in 0.24. You should leave random_state to its default (None), or set shuffle=True.\n",
            "  FutureWarning\n",
            "/usr/local/lib/python3.7/dist-packages/sklearn/model_selection/_split.py:296: FutureWarning: Setting a random_state has no effect since shuffle is False. This will raise an error in 0.24. You should leave random_state to its default (None), or set shuffle=True.\n",
            "  FutureWarning\n"
          ],
          "name": "stderr"
        },
        {
          "output_type": "stream",
          "text": [
            "KNeighborsClassifier model 시작\n",
            "\t 폴드 세트:  0 시작\n",
            "\t 폴드 세트:  1 시작\n",
            "\t 폴드 세트:  2 시작\n",
            "\t 폴드 세트:  3 시작\n",
            "\t 폴드 세트:  4 시작\n",
            "\t 폴드 세트:  5 시작\n",
            "\t 폴드 세트:  6 시작\n",
            "RandomForestClassifier model 시작\n",
            "\t 폴드 세트:  0 시작\n",
            "\t 폴드 세트:  1 시작\n",
            "\t 폴드 세트:  2 시작\n",
            "\t 폴드 세트:  3 시작\n",
            "\t 폴드 세트:  4 시작\n",
            "\t 폴드 세트:  5 시작\n",
            "\t 폴드 세트:  6 시작\n"
          ],
          "name": "stdout"
        },
        {
          "output_type": "stream",
          "text": [
            "/usr/local/lib/python3.7/dist-packages/sklearn/model_selection/_split.py:296: FutureWarning: Setting a random_state has no effect since shuffle is False. This will raise an error in 0.24. You should leave random_state to its default (None), or set shuffle=True.\n",
            "  FutureWarning\n",
            "/usr/local/lib/python3.7/dist-packages/sklearn/model_selection/_split.py:296: FutureWarning: Setting a random_state has no effect since shuffle is False. This will raise an error in 0.24. You should leave random_state to its default (None), or set shuffle=True.\n",
            "  FutureWarning\n"
          ],
          "name": "stderr"
        },
        {
          "output_type": "stream",
          "text": [
            "DecisionTreeClassifier model 시작\n",
            "\t 폴드 세트:  0 시작\n",
            "\t 폴드 세트:  1 시작\n",
            "\t 폴드 세트:  2 시작\n",
            "\t 폴드 세트:  3 시작\n",
            "\t 폴드 세트:  4 시작\n",
            "\t 폴드 세트:  5 시작\n",
            "\t 폴드 세트:  6 시작\n",
            "AdaBoostClassifier model 시작\n",
            "\t 폴드 세트:  0 시작\n",
            "\t 폴드 세트:  1 시작\n",
            "\t 폴드 세트:  2 시작\n",
            "\t 폴드 세트:  3 시작\n",
            "\t 폴드 세트:  4 시작\n",
            "\t 폴드 세트:  5 시작\n",
            "\t 폴드 세트:  6 시작\n"
          ],
          "name": "stdout"
        }
      ]
    },
    {
      "cell_type": "code",
      "metadata": {
        "colab": {
          "base_uri": "https://localhost:8080/"
        },
        "id": "Vo5_09q4iNIL",
        "outputId": "0f9ab0be-67ed-49be-f22a-eaa493e1800a"
      },
      "source": [
        "Stack_final_X_train = np.concatenate((knn_train, rf_train, dt_train, ada_train), axis=1)\n",
        "Stack_final_X_test = np.concatenate((knn_test, rf_test, dt_test, ada_test), axis=1)\n",
        "print('원본 학습 피처 데이터 Shape:', X_train.shape, '원본 테스트 피처 Shape:', X_test.shape)\n",
        "print('스태킹 학습 피처 데이터 Shape:', Stack_final_X_train.shape,\n",
        "      '스태킹 테스트 피처 데이터 Shape', Stack_final_X_test.shape)"
      ],
      "execution_count": 22,
      "outputs": [
        {
          "output_type": "stream",
          "text": [
            "원본 학습 피처 데이터 Shape: (455, 30) 원본 테스트 피처 Shape: (114, 30)\n",
            "스태킹 학습 피처 데이터 Shape: (455, 4) 스태킹 테스트 피처 데이터 Shape (114, 4)\n"
          ],
          "name": "stdout"
        }
      ]
    },
    {
      "cell_type": "code",
      "metadata": {
        "colab": {
          "base_uri": "https://localhost:8080/"
        },
        "id": "QEmGprN-i0LK",
        "outputId": "5d9d728b-3c48-431b-c465-ad9ecf82cf3e"
      },
      "source": [
        "lr_final.fit(Stack_final_X_train, y_train)\n",
        "stack_final = lr_final.predict(Stack_final_X_test)\n",
        "\n",
        "print('최종 메타 모델의 예측 정확도: {0:.4f}'.format(accuracy_score(y_test, stack_final)))"
      ],
      "execution_count": 23,
      "outputs": [
        {
          "output_type": "stream",
          "text": [
            "최종 메타 모델의 예측 정확도: 0.9737\n"
          ],
          "name": "stdout"
        }
      ]
    },
    {
      "cell_type": "markdown",
      "metadata": {
        "id": "HAEj3wWzm0hU"
      },
      "source": [
        "\n",
        "최종 메타 모델의 예측 정확도가 약 97.37%로 측정되었다.\n",
        "\n",
        "지금까지의 예제에서는 개별 모델의 알고리즘에서 파라미터 튜닝을 최적으로 하지 않았지만,    \n",
        "스태킹을 이루는 모델은 최적으로 파라미터를 튜닝한 상태에서 스태킹 모델을 만드는 것이 일반적이다.\n",
        "\n",
        "여러 명으로 이뤄진 분석 팀에서 개별적으로 각각 모델을 최적으로 학습시켜서 스태킹 모델을 더 빠르게 최적화할 수 있을 것이다.   \n",
        "\n",
        "> 일반적으로 스태킹 모델의 파라미터 튜닝은 개별 알고리즘의 파라미터를 최적으로 튜닝하는 것을 말한다.\n",
        "\n",
        "`스태킹 모델`은 **분류(Classification)** 뿐만 아니라 **회귀(Regression)**에도 적용 가능하다.\n",
        "\n",
        "5장 회귀의 마지막 실습 절에서 스태킹 모델을 활용해 모델의 예측 성능을 개선해본다."
      ]
    },
    {
      "cell_type": "code",
      "metadata": {
        "id": "VP5WU3FWiwFp"
      },
      "source": [
        ""
      ],
      "execution_count": null,
      "outputs": []
    }
  ]
}