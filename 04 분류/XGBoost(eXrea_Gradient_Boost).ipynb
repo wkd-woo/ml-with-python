{
  "nbformat": 4,
  "nbformat_minor": 0,
  "metadata": {
    "colab": {
      "name": "XGBoost(eXrea-Gradient-Boost).ipynb",
      "provenance": [],
      "authorship_tag": "ABX9TyP1HoM39g3uV++mhM9M5I00"
    },
    "kernelspec": {
      "name": "python3",
      "display_name": "Python 3"
    },
    "language_info": {
      "name": "python"
    }
  },
  "cells": [
    {
      "cell_type": "markdown",
      "metadata": {
        "id": "MTNg-lmUYsq3"
      },
      "source": [
        "## XGBoost(eXtra Gradient Boost)\n",
        "### XGBoost 개요\n",
        "\n",
        "XGBoost는 트리 기반의 앙상블 학습에서 가장 각광받고 있는 알고리즘 중 하나이다.\n",
        "\n",
        "유명한 캐글 경연 대회(Kaggle Contest)에서 상위를 차지한 많은 데이터 과학자가 XGBoost를 이용하면서 널리 알려졌다.\n",
        "\n",
        "압도적인 수치의 차이는 아니지만, 분류에 있어서 일반적으로 다른 머신러닝보다 뛰어난 예측 성능을 나타낸다.\n",
        "\n",
        "XGBoost는 GBM에 기반하고 있지만, GBM의 단점인 느린 수행 시간 및 과적합 규제(Regularization) 부재 등의 문제를 해결해서 매우 각광을 받고 있다.\n",
        "\n",
        "특히 XGBoost는 병렬 CPU 환경에서 병렬 학습이 가능해 기존 GBM보다 빠르게 학습을 완료할 수 있다.\n",
        "\n",
        "<br>\n",
        "\n",
        "---\n",
        "\n"
      ]
    },
    {
      "cell_type": "markdown",
      "metadata": {
        "id": "gW-qB22DZP9G"
      },
      "source": [
        "### 파이썬 래퍼 XGBoost 하이퍼 파라미터\n",
        "\n",
        "GBM(Gradient Boosting Machine)의 하이퍼 파라미터를 어느정도 이해했으면 XGBoost 하이퍼 파라미터도 이해하는데 큰 어려움이 없다.\n",
        "\n",
        "XGBoost는 GBM과 유사한 하이퍼 파라미터를 동일하게 가지고 있으며, 여기에 조기 중단(early stopping), 과적합을 규제하기 위한 하이퍼 파라미터 등이 추가됐다."
      ]
    },
    {
      "cell_type": "markdown",
      "metadata": {
        "id": "3CvgaZnHZnYb"
      },
      "source": [
        "XGBoost는 자체적으로 교차 검증, 성능 평가, 피처 중요도 등의 시각화 기능을 가지고 있다.\n",
        "\n",
        "또한 XGBoost는 기본 GBM에서 부족한 다른 여러 가지 성능 향상 기능이 있다.\n",
        "\n",
        "그 중에 수행 속도를 향상시키기 위한 대표적인 기능으로 조기 중단(Early Stopping) 기능이 있다.\n",
        "\n",
        "기본 GBM의 경우 n_estimators(또는 num_boost_rounds)에 지정된 횟수만큼 반복적으로 학습 오류를 감소시키며 학습을 진행하면서 중간에 반복을 멈출 수 없고 n_estimators에 지정된 횟수를 다 완료해야 한다.\n",
        "\n",
        "XGBoost, 그리고 뒤에서 소개할 LightGBM은 모두 조기 중단 기능이 있어서 n_estimators에 지정한 부스팅 반복 횟수에 도달하지 않더라도 예측 오류가 더 이상 개선되지 않으면 반복을 끝까지 수행하지 않고 중지해 수행 시간을 개선할 수 있다.\n",
        "\n",
        "예를 들어 n_estimators를 200으로 설정하고 조기 중단 파라미터 값을 50으로 설정하면, 1부터 200회까지 부스팅을 반복하다가 50회를 반복하는 동안 학습 오류가 감소하지 않으면 더 이상 부스팅을 진행하지 않고 종료한다."
      ]
    },
    {
      "cell_type": "markdown",
      "metadata": {
        "id": "ucwCC02haUh-"
      },
      "source": [
        "<br><br>\n",
        "\n",
        "---\n",
        "\n",
        "### 파이썬 래퍼 XGBoost 적용 - 위스콘신 유방암 예측\n",
        "\n",
        "위스콘신 유방암 데이터 세트를 활용하여 파이썬 래퍼 XGBoost API의 사용법을 살펴본다.\n",
        "\n",
        "XG Boost의 파이썬 패키지인 xgboost는 자체적으로 교차 검증, 성능 평가, 피처 중요도 등의 시각화(plotting) 기능을 가지고 있다.    \n",
        "또한 조기 중단 기능이 있어서 num_rounds로 쩡한 부스팅 반복 횟수에 도달하지 않더라도 더 이상 예측 오류가 개선되지 않으면 반복을 끝까지 수행하지 않고 중지해 수행 시간을 개선하는 기능도 가지고 있다.\n",
        "\n",
        "일반적으로 수행 성능 향상 XGBoost는 GBM와는 다르게 병렬 처리와 조기 중단 등으로 빠른 수행시간 처리가 가능하지만, CPU 코어가 많지 않은 개인용 PC에서는 수행시간 향상을 경험하기 어려울 수도 있다.\n",
        "\n",
        "---\n",
        "<br>\n",
        "\n",
        "위스콘신 유방암 데이터 세트는 종용의 크기, 모양 등의 다양한 속성값을 기반으로 악성 종양(malignant)인지 양성 종양(benign)인지를 분류한 데이터 세트입니다.\n",
        "\n",
        "종양은 양성 종양(benign tumor)과 악성 종양(malignant tumor)으로 구분할 수 있으며,\n",
        "\n",
        "양성 종양이 비교적 성장 속도가 느리고 전이되지 않는 것에 반해, 악성 종양은 주위 조직에 침입하면서 빠르게 성장하고 신체 각 부위에 확산되거나 전이되어 생명을 위협한다.\n",
        "\n",
        "위스콘신 유방암 데이터 세트에 기반해 종양의 다양한 피처에 따라 악성 종양(malignant)인지 일반 양성종양(benign)인지를 XGBoost를 이용해 예측한다.\n",
        "\n"
      ]
    },
    {
      "cell_type": "code",
      "metadata": {
        "id": "6-kMNNnaYfiS"
      },
      "source": [
        "import xgboost as xgb\n",
        "from xgboost import plot_importance\n",
        "import pandas as pd\n",
        "import numpy as np\n",
        "from sklearn.datasets import load_breast_cancer\n",
        "from sklearn.model_selection import train_test_split\n",
        "import warnings\n",
        "warnings.filterwarnings('ignore')"
      ],
      "execution_count": 1,
      "outputs": []
    },
    {
      "cell_type": "code",
      "metadata": {
        "id": "0aJeEtF-b7oI"
      },
      "source": [
        "dataset = load_breast_cancer()\n",
        "X_features = dataset.data\n",
        "y_label = dataset.target"
      ],
      "execution_count": 2,
      "outputs": []
    },
    {
      "cell_type": "code",
      "metadata": {
        "colab": {
          "base_uri": "https://localhost:8080/",
          "height": 195
        },
        "id": "BmofLNiicDZo",
        "outputId": "ecb7c8f5-c502-45e0-8eb8-ba04747d097a"
      },
      "source": [
        "cancer_df = pd.DataFrame(data=X_features, columns=dataset.feature_names)\n",
        "cancer_df['target'] = y_label\n",
        "cancer_df.head(3)"
      ],
      "execution_count": 4,
      "outputs": [
        {
          "output_type": "execute_result",
          "data": {
            "text/html": [
              "<div>\n",
              "<style scoped>\n",
              "    .dataframe tbody tr th:only-of-type {\n",
              "        vertical-align: middle;\n",
              "    }\n",
              "\n",
              "    .dataframe tbody tr th {\n",
              "        vertical-align: top;\n",
              "    }\n",
              "\n",
              "    .dataframe thead th {\n",
              "        text-align: right;\n",
              "    }\n",
              "</style>\n",
              "<table border=\"1\" class=\"dataframe\">\n",
              "  <thead>\n",
              "    <tr style=\"text-align: right;\">\n",
              "      <th></th>\n",
              "      <th>mean radius</th>\n",
              "      <th>mean texture</th>\n",
              "      <th>mean perimeter</th>\n",
              "      <th>mean area</th>\n",
              "      <th>mean smoothness</th>\n",
              "      <th>mean compactness</th>\n",
              "      <th>mean concavity</th>\n",
              "      <th>mean concave points</th>\n",
              "      <th>mean symmetry</th>\n",
              "      <th>mean fractal dimension</th>\n",
              "      <th>radius error</th>\n",
              "      <th>texture error</th>\n",
              "      <th>perimeter error</th>\n",
              "      <th>area error</th>\n",
              "      <th>smoothness error</th>\n",
              "      <th>compactness error</th>\n",
              "      <th>concavity error</th>\n",
              "      <th>concave points error</th>\n",
              "      <th>symmetry error</th>\n",
              "      <th>fractal dimension error</th>\n",
              "      <th>worst radius</th>\n",
              "      <th>worst texture</th>\n",
              "      <th>worst perimeter</th>\n",
              "      <th>worst area</th>\n",
              "      <th>worst smoothness</th>\n",
              "      <th>worst compactness</th>\n",
              "      <th>worst concavity</th>\n",
              "      <th>worst concave points</th>\n",
              "      <th>worst symmetry</th>\n",
              "      <th>worst fractal dimension</th>\n",
              "      <th>target</th>\n",
              "    </tr>\n",
              "  </thead>\n",
              "  <tbody>\n",
              "    <tr>\n",
              "      <th>0</th>\n",
              "      <td>17.99</td>\n",
              "      <td>10.38</td>\n",
              "      <td>122.8</td>\n",
              "      <td>1001.0</td>\n",
              "      <td>0.11840</td>\n",
              "      <td>0.27760</td>\n",
              "      <td>0.3001</td>\n",
              "      <td>0.14710</td>\n",
              "      <td>0.2419</td>\n",
              "      <td>0.07871</td>\n",
              "      <td>1.0950</td>\n",
              "      <td>0.9053</td>\n",
              "      <td>8.589</td>\n",
              "      <td>153.40</td>\n",
              "      <td>0.006399</td>\n",
              "      <td>0.04904</td>\n",
              "      <td>0.05373</td>\n",
              "      <td>0.01587</td>\n",
              "      <td>0.03003</td>\n",
              "      <td>0.006193</td>\n",
              "      <td>25.38</td>\n",
              "      <td>17.33</td>\n",
              "      <td>184.6</td>\n",
              "      <td>2019.0</td>\n",
              "      <td>0.1622</td>\n",
              "      <td>0.6656</td>\n",
              "      <td>0.7119</td>\n",
              "      <td>0.2654</td>\n",
              "      <td>0.4601</td>\n",
              "      <td>0.11890</td>\n",
              "      <td>0</td>\n",
              "    </tr>\n",
              "    <tr>\n",
              "      <th>1</th>\n",
              "      <td>20.57</td>\n",
              "      <td>17.77</td>\n",
              "      <td>132.9</td>\n",
              "      <td>1326.0</td>\n",
              "      <td>0.08474</td>\n",
              "      <td>0.07864</td>\n",
              "      <td>0.0869</td>\n",
              "      <td>0.07017</td>\n",
              "      <td>0.1812</td>\n",
              "      <td>0.05667</td>\n",
              "      <td>0.5435</td>\n",
              "      <td>0.7339</td>\n",
              "      <td>3.398</td>\n",
              "      <td>74.08</td>\n",
              "      <td>0.005225</td>\n",
              "      <td>0.01308</td>\n",
              "      <td>0.01860</td>\n",
              "      <td>0.01340</td>\n",
              "      <td>0.01389</td>\n",
              "      <td>0.003532</td>\n",
              "      <td>24.99</td>\n",
              "      <td>23.41</td>\n",
              "      <td>158.8</td>\n",
              "      <td>1956.0</td>\n",
              "      <td>0.1238</td>\n",
              "      <td>0.1866</td>\n",
              "      <td>0.2416</td>\n",
              "      <td>0.1860</td>\n",
              "      <td>0.2750</td>\n",
              "      <td>0.08902</td>\n",
              "      <td>0</td>\n",
              "    </tr>\n",
              "    <tr>\n",
              "      <th>2</th>\n",
              "      <td>19.69</td>\n",
              "      <td>21.25</td>\n",
              "      <td>130.0</td>\n",
              "      <td>1203.0</td>\n",
              "      <td>0.10960</td>\n",
              "      <td>0.15990</td>\n",
              "      <td>0.1974</td>\n",
              "      <td>0.12790</td>\n",
              "      <td>0.2069</td>\n",
              "      <td>0.05999</td>\n",
              "      <td>0.7456</td>\n",
              "      <td>0.7869</td>\n",
              "      <td>4.585</td>\n",
              "      <td>94.03</td>\n",
              "      <td>0.006150</td>\n",
              "      <td>0.04006</td>\n",
              "      <td>0.03832</td>\n",
              "      <td>0.02058</td>\n",
              "      <td>0.02250</td>\n",
              "      <td>0.004571</td>\n",
              "      <td>23.57</td>\n",
              "      <td>25.53</td>\n",
              "      <td>152.5</td>\n",
              "      <td>1709.0</td>\n",
              "      <td>0.1444</td>\n",
              "      <td>0.4245</td>\n",
              "      <td>0.4504</td>\n",
              "      <td>0.2430</td>\n",
              "      <td>0.3613</td>\n",
              "      <td>0.08758</td>\n",
              "      <td>0</td>\n",
              "    </tr>\n",
              "  </tbody>\n",
              "</table>\n",
              "</div>"
            ],
            "text/plain": [
              "   mean radius  mean texture  ...  worst fractal dimension  target\n",
              "0        17.99         10.38  ...                  0.11890       0\n",
              "1        20.57         17.77  ...                  0.08902       0\n",
              "2        19.69         21.25  ...                  0.08758       0\n",
              "\n",
              "[3 rows x 31 columns]"
            ]
          },
          "metadata": {
            "tags": []
          },
          "execution_count": 4
        }
      ]
    },
    {
      "cell_type": "code",
      "metadata": {
        "colab": {
          "base_uri": "https://localhost:8080/"
        },
        "id": "3j-EJUZjcMGh",
        "outputId": "9612bea8-3e77-459b-999e-47234699017f"
      },
      "source": [
        "print(dataset.target_names)\n",
        "print(cancer_df['target'].value_counts())"
      ],
      "execution_count": 5,
      "outputs": [
        {
          "output_type": "stream",
          "text": [
            "['malignant' 'benign']\n",
            "1    357\n",
            "0    212\n",
            "Name: target, dtype: int64\n"
          ],
          "name": "stdout"
        }
      ]
    },
    {
      "cell_type": "code",
      "metadata": {
        "colab": {
          "base_uri": "https://localhost:8080/"
        },
        "id": "7AGNqokFcXQs",
        "outputId": "41ca0ac5-c8c4-48b0-d238-3f70dd5a48e8"
      },
      "source": [
        "# 전체 데이터 중 80%는 학습용 데이터, 20%는 테스트용 데이터 추출\n",
        "X_train, X_test, y_train, y_test = train_test_split(X_features, y_label, test_size=0.2, random_state=156)\n",
        "\n",
        "print(X_train.shape, X_test.shape)"
      ],
      "execution_count": 6,
      "outputs": [
        {
          "output_type": "stream",
          "text": [
            "(455, 30) (114, 30)\n"
          ],
          "name": "stdout"
        }
      ]
    },
    {
      "cell_type": "markdown",
      "metadata": {
        "id": "ZRClD4sIc51-"
      },
      "source": [
        "파이썬 래퍼 XGBoost는 사이킷런과 차이가 여러 가지 있지만, \n",
        "\n",
        "먼저 눈에 띄는 차이는 학습용과 테스트용 데이터 세트를 위해 별도의 객체인 DMatrix를 생성한다는 점이다.\n",
        "\n",
        "DMatrix는 주로 넘파이 입력 파라미터를 받아서 만들어지는 XGBoost만의 전용 데이터 세트이다.\n",
        "\n",
        "DMatrix의 주요 입력 파라미터는 data와 label이다. data는 피처 데이터 세트이며, label은 분류의 경우에는 레이블 데이터 세트, 회귀에 경우는 숫자형인 종속값 데이터 세트이다.\n",
        "\n",
        "DMatrix는 넘파이 외에 libsvm txt 포맷 파일, xgboost 이진 버퍼 파일을 파라미터로 입력받아 변환할 수 있다. 판다스의 DataFrame으로 데이터 인터페이스를 하기 위해 DataFrame.values를 이용해 넘파이로 일차 변환한 뒤에 이를 이용해 DMatrix 변환을 적용한다."
      ]
    },
    {
      "cell_type": "code",
      "metadata": {
        "id": "_DQfYB-zcofs"
      },
      "source": [
        "dtrain = xgb.DMatrix(data=X_train, label=y_train)\n",
        "dtest = xgb.DMatrix(data=X_test, label=y_test)"
      ],
      "execution_count": 7,
      "outputs": []
    },
    {
      "cell_type": "code",
      "metadata": {
        "id": "XGtyWc_edo6Q"
      },
      "source": [
        "params = {\n",
        "    'max_depth':3,\n",
        "    'eta': 0.1,\n",
        "    'objective':'binary:logistic',\n",
        "    'eval_metric':'logloss',\n",
        "    'early_stoppings':100\n",
        "}\n",
        "\n",
        "num_rounds = 400"
      ],
      "execution_count": 8,
      "outputs": []
    },
    {
      "cell_type": "markdown",
      "metadata": {
        "id": "AhPnQAW7d88g"
      },
      "source": [
        "위에 지정된 하이퍼 파라미터로 XGBoost 모델을 학습시킨다.\n",
        "\n",
        "파이썬 래퍼 XGBoost는 하이퍼 파라미터를 xgboost 모듈의 train() 함수에 파라미터로 전달한다(사이킷런의 경우는 Estimator의 생성자를 하이퍼 파라미터로 전달하는 데 반해 차이가 있다)\n",
        "\n",
        "학습 시 XGBoost는 수행 속도를 개선하기 위해서 조기 중단 기능을 제공한다.\n",
        "\n",
        "앞에서도 설명했듯이 조기 중단은 XGBoost가 수행성능을 개선하기 위해 더 이상 지표 개선이 없을 경우에 num_boost_round 횟수를 모두 채우지 않고 중간에 반복을 빠져 나올 수 있도록 하는 것이다.\n",
        "\n",
        "early_stopping_rounds 파라미터를 설정해 조기 중단을 수행하기 위해서는 반드시 eval_set과 eval_metric이 함께 설정돼야 한다. Xgboost는 반복마다 eval_set으로 지정된 데이터 세트에서 eval_metric의 지정된 평가 지표로 예측 오류를 측정한다.\n",
        "\n",
        "* eva_set는 성능 평가를 수행할 평가용 데이터 세트를 설정\n",
        "* eval_metric은 평가 세트에 적용할 성능 평가 방법. 분류일 경우 주로 'error'(분류 오류), 'logloss'를 적용.\n",
        "\n",
        "evals 파라미터에 학습 데이터 세트와 eval 데이터 세트를 명기해주면 평가를 eval 데이터 세트에 수행하면서  조기 중단을 적용할 수 있다.\n",
        "\n",
        "조기 중단을 수행하려면 반드시 evals 파라미터에 eval 데이터 세트를 명기해줘야 한다.\n",
        "\n",
        "이제 xgboost 모듈의 train() 함수를 호출하면 학습을 수행한다.\n",
        "\n",
        "이 때 반복 시마다 evals에 표시된 데이터 세트에 대해 평가 지표 결과가 출력된다.\n",
        "\n",
        "train()은 학습이 완료된 모델 객체를 반환한다."
      ]
    },
    {
      "cell_type": "code",
      "metadata": {
        "colab": {
          "base_uri": "https://localhost:8080/"
        },
        "id": "ihm6y0Kqd76n",
        "outputId": "ad5170c1-1029-47ce-cdb3-45bf54824cba"
      },
      "source": [
        "# train 데이터 세트는 'train', evaluation(test) 데이터 세트는 'eval'로 명기한다.\n",
        "\n",
        "wlist = [(dtrain, 'train'), (dtest, 'eval')]\n",
        "\n",
        "# 하이퍼 파라미터와 early stopping 파라미터를 train() 함수의 파라미터로 전달\n",
        "xgb_model = xgb.train(params = params, dtrain=dtrain, num_boost_round=num_rounds, early_stopping_rounds=100, evals=wlist)"
      ],
      "execution_count": 9,
      "outputs": [
        {
          "output_type": "stream",
          "text": [
            "[0]\ttrain-logloss:0.609688\teval-logloss:0.61352\n",
            "Multiple eval metrics have been passed: 'eval-logloss' will be used for early stopping.\n",
            "\n",
            "Will train until eval-logloss hasn't improved in 100 rounds.\n",
            "[1]\ttrain-logloss:0.540803\teval-logloss:0.547843\n",
            "[2]\ttrain-logloss:0.483753\teval-logloss:0.494248\n",
            "[3]\ttrain-logloss:0.434457\teval-logloss:0.447986\n",
            "[4]\ttrain-logloss:0.39055\teval-logloss:0.409109\n",
            "[5]\ttrain-logloss:0.354146\teval-logloss:0.374977\n",
            "[6]\ttrain-logloss:0.321222\teval-logloss:0.345714\n",
            "[7]\ttrain-logloss:0.292593\teval-logloss:0.320529\n",
            "[8]\ttrain-logloss:0.267467\teval-logloss:0.29721\n",
            "[9]\ttrain-logloss:0.245153\teval-logloss:0.277991\n",
            "[10]\ttrain-logloss:0.225694\teval-logloss:0.260302\n",
            "[11]\ttrain-logloss:0.207938\teval-logloss:0.246037\n",
            "[12]\ttrain-logloss:0.192184\teval-logloss:0.231556\n",
            "[13]\ttrain-logloss:0.177916\teval-logloss:0.22005\n",
            "[14]\ttrain-logloss:0.165222\teval-logloss:0.208572\n",
            "[15]\ttrain-logloss:0.153622\teval-logloss:0.199993\n",
            "[16]\ttrain-logloss:0.14333\teval-logloss:0.190118\n",
            "[17]\ttrain-logloss:0.133985\teval-logloss:0.181818\n",
            "[18]\ttrain-logloss:0.125599\teval-logloss:0.174729\n",
            "[19]\ttrain-logloss:0.117286\teval-logloss:0.167657\n",
            "[20]\ttrain-logloss:0.109688\teval-logloss:0.158202\n",
            "[21]\ttrain-logloss:0.102975\teval-logloss:0.154725\n",
            "[22]\ttrain-logloss:0.097067\teval-logloss:0.148947\n",
            "[23]\ttrain-logloss:0.091428\teval-logloss:0.143308\n",
            "[24]\ttrain-logloss:0.086335\teval-logloss:0.136344\n",
            "[25]\ttrain-logloss:0.081311\teval-logloss:0.132778\n",
            "[26]\ttrain-logloss:0.076857\teval-logloss:0.127912\n",
            "[27]\ttrain-logloss:0.072836\teval-logloss:0.125263\n",
            "[28]\ttrain-logloss:0.069248\teval-logloss:0.119978\n",
            "[29]\ttrain-logloss:0.065549\teval-logloss:0.116412\n",
            "[30]\ttrain-logloss:0.062414\teval-logloss:0.114502\n",
            "[31]\ttrain-logloss:0.059591\teval-logloss:0.112572\n",
            "[32]\ttrain-logloss:0.057096\teval-logloss:0.11154\n",
            "[33]\ttrain-logloss:0.054407\teval-logloss:0.108681\n",
            "[34]\ttrain-logloss:0.052036\teval-logloss:0.106681\n",
            "[35]\ttrain-logloss:0.049751\teval-logloss:0.104207\n",
            "[36]\ttrain-logloss:0.04775\teval-logloss:0.102962\n",
            "[37]\ttrain-logloss:0.045853\teval-logloss:0.100576\n",
            "[38]\ttrain-logloss:0.044015\teval-logloss:0.098683\n",
            "[39]\ttrain-logloss:0.042263\teval-logloss:0.096444\n",
            "[40]\ttrain-logloss:0.040649\teval-logloss:0.095869\n",
            "[41]\ttrain-logloss:0.039126\teval-logloss:0.094242\n",
            "[42]\ttrain-logloss:0.037377\teval-logloss:0.094715\n",
            "[43]\ttrain-logloss:0.036106\teval-logloss:0.094272\n",
            "[44]\ttrain-logloss:0.034941\teval-logloss:0.093894\n",
            "[45]\ttrain-logloss:0.033654\teval-logloss:0.094184\n",
            "[46]\ttrain-logloss:0.032528\teval-logloss:0.09402\n",
            "[47]\ttrain-logloss:0.031485\teval-logloss:0.09236\n",
            "[48]\ttrain-logloss:0.030389\teval-logloss:0.093012\n",
            "[49]\ttrain-logloss:0.029467\teval-logloss:0.091273\n",
            "[50]\ttrain-logloss:0.028545\teval-logloss:0.090051\n",
            "[51]\ttrain-logloss:0.027525\teval-logloss:0.089605\n",
            "[52]\ttrain-logloss:0.026555\teval-logloss:0.089577\n",
            "[53]\ttrain-logloss:0.025682\teval-logloss:0.090703\n",
            "[54]\ttrain-logloss:0.025004\teval-logloss:0.089579\n",
            "[55]\ttrain-logloss:0.024297\teval-logloss:0.090357\n",
            "[56]\ttrain-logloss:0.023574\teval-logloss:0.091587\n",
            "[57]\ttrain-logloss:0.022965\teval-logloss:0.091527\n",
            "[58]\ttrain-logloss:0.022488\teval-logloss:0.091986\n",
            "[59]\ttrain-logloss:0.021854\teval-logloss:0.091951\n",
            "[60]\ttrain-logloss:0.021316\teval-logloss:0.091939\n",
            "[61]\ttrain-logloss:0.020794\teval-logloss:0.091461\n",
            "[62]\ttrain-logloss:0.020218\teval-logloss:0.090311\n",
            "[63]\ttrain-logloss:0.019701\teval-logloss:0.089407\n",
            "[64]\ttrain-logloss:0.01918\teval-logloss:0.089719\n",
            "[65]\ttrain-logloss:0.018724\teval-logloss:0.089743\n",
            "[66]\ttrain-logloss:0.018325\teval-logloss:0.089622\n",
            "[67]\ttrain-logloss:0.017867\teval-logloss:0.088734\n",
            "[68]\ttrain-logloss:0.017598\teval-logloss:0.088621\n",
            "[69]\ttrain-logloss:0.017243\teval-logloss:0.089739\n",
            "[70]\ttrain-logloss:0.01688\teval-logloss:0.089981\n",
            "[71]\ttrain-logloss:0.016641\teval-logloss:0.089782\n",
            "[72]\ttrain-logloss:0.016287\teval-logloss:0.089584\n",
            "[73]\ttrain-logloss:0.015983\teval-logloss:0.089533\n",
            "[74]\ttrain-logloss:0.015658\teval-logloss:0.088748\n",
            "[75]\ttrain-logloss:0.015393\teval-logloss:0.088597\n",
            "[76]\ttrain-logloss:0.015151\teval-logloss:0.08812\n",
            "[77]\ttrain-logloss:0.01488\teval-logloss:0.088396\n",
            "[78]\ttrain-logloss:0.014637\teval-logloss:0.088736\n",
            "[79]\ttrain-logloss:0.014491\teval-logloss:0.088153\n",
            "[80]\ttrain-logloss:0.014185\teval-logloss:0.087577\n",
            "[81]\ttrain-logloss:0.014005\teval-logloss:0.087412\n",
            "[82]\ttrain-logloss:0.013772\teval-logloss:0.08849\n",
            "[83]\ttrain-logloss:0.013568\teval-logloss:0.088575\n",
            "[84]\ttrain-logloss:0.013414\teval-logloss:0.08807\n",
            "[85]\ttrain-logloss:0.013253\teval-logloss:0.087641\n",
            "[86]\ttrain-logloss:0.013109\teval-logloss:0.087416\n",
            "[87]\ttrain-logloss:0.012926\teval-logloss:0.087611\n",
            "[88]\ttrain-logloss:0.012714\teval-logloss:0.087065\n",
            "[89]\ttrain-logloss:0.012544\teval-logloss:0.08727\n",
            "[90]\ttrain-logloss:0.012353\teval-logloss:0.087161\n",
            "[91]\ttrain-logloss:0.012226\teval-logloss:0.086962\n",
            "[92]\ttrain-logloss:0.012065\teval-logloss:0.087166\n",
            "[93]\ttrain-logloss:0.011927\teval-logloss:0.087067\n",
            "[94]\ttrain-logloss:0.011821\teval-logloss:0.086592\n",
            "[95]\ttrain-logloss:0.011649\teval-logloss:0.086116\n",
            "[96]\ttrain-logloss:0.011482\teval-logloss:0.087139\n",
            "[97]\ttrain-logloss:0.01136\teval-logloss:0.086768\n",
            "[98]\ttrain-logloss:0.011239\teval-logloss:0.086694\n",
            "[99]\ttrain-logloss:0.011132\teval-logloss:0.086547\n",
            "[100]\ttrain-logloss:0.011002\teval-logloss:0.086498\n",
            "[101]\ttrain-logloss:0.010852\teval-logloss:0.08641\n",
            "[102]\ttrain-logloss:0.010755\teval-logloss:0.086288\n",
            "[103]\ttrain-logloss:0.010636\teval-logloss:0.086258\n",
            "[104]\ttrain-logloss:0.0105\teval-logloss:0.086835\n",
            "[105]\ttrain-logloss:0.010395\teval-logloss:0.086767\n",
            "[106]\ttrain-logloss:0.010305\teval-logloss:0.087321\n",
            "[107]\ttrain-logloss:0.010197\teval-logloss:0.087304\n",
            "[108]\ttrain-logloss:0.010072\teval-logloss:0.08728\n",
            "[109]\ttrain-logloss:0.01\teval-logloss:0.087298\n",
            "[110]\ttrain-logloss:0.009914\teval-logloss:0.087289\n",
            "[111]\ttrain-logloss:0.009798\teval-logloss:0.088002\n",
            "[112]\ttrain-logloss:0.00971\teval-logloss:0.087936\n",
            "[113]\ttrain-logloss:0.009628\teval-logloss:0.087843\n",
            "[114]\ttrain-logloss:0.009558\teval-logloss:0.088066\n",
            "[115]\ttrain-logloss:0.009483\teval-logloss:0.087649\n",
            "[116]\ttrain-logloss:0.009416\teval-logloss:0.087298\n",
            "[117]\ttrain-logloss:0.009306\teval-logloss:0.087799\n",
            "[118]\ttrain-logloss:0.009228\teval-logloss:0.087751\n",
            "[119]\ttrain-logloss:0.009154\teval-logloss:0.08768\n",
            "[120]\ttrain-logloss:0.009118\teval-logloss:0.087626\n",
            "[121]\ttrain-logloss:0.009016\teval-logloss:0.08757\n",
            "[122]\ttrain-logloss:0.008972\teval-logloss:0.087547\n",
            "[123]\ttrain-logloss:0.008904\teval-logloss:0.087156\n",
            "[124]\ttrain-logloss:0.008837\teval-logloss:0.08767\n",
            "[125]\ttrain-logloss:0.008803\teval-logloss:0.087737\n",
            "[126]\ttrain-logloss:0.008709\teval-logloss:0.088275\n",
            "[127]\ttrain-logloss:0.008645\teval-logloss:0.088309\n",
            "[128]\ttrain-logloss:0.008613\teval-logloss:0.088266\n",
            "[129]\ttrain-logloss:0.008555\teval-logloss:0.087886\n",
            "[130]\ttrain-logloss:0.008463\teval-logloss:0.088861\n",
            "[131]\ttrain-logloss:0.008416\teval-logloss:0.088675\n",
            "[132]\ttrain-logloss:0.008385\teval-logloss:0.088743\n",
            "[133]\ttrain-logloss:0.0083\teval-logloss:0.089218\n",
            "[134]\ttrain-logloss:0.00827\teval-logloss:0.089179\n",
            "[135]\ttrain-logloss:0.008218\teval-logloss:0.088821\n",
            "[136]\ttrain-logloss:0.008157\teval-logloss:0.088512\n",
            "[137]\ttrain-logloss:0.008076\teval-logloss:0.08848\n",
            "[138]\ttrain-logloss:0.008047\teval-logloss:0.088386\n",
            "[139]\ttrain-logloss:0.007973\teval-logloss:0.089145\n",
            "[140]\ttrain-logloss:0.007946\teval-logloss:0.08911\n",
            "[141]\ttrain-logloss:0.007898\teval-logloss:0.088765\n",
            "[142]\ttrain-logloss:0.007872\teval-logloss:0.088678\n",
            "[143]\ttrain-logloss:0.007847\teval-logloss:0.088389\n",
            "[144]\ttrain-logloss:0.007776\teval-logloss:0.089271\n",
            "[145]\ttrain-logloss:0.007752\teval-logloss:0.089238\n",
            "[146]\ttrain-logloss:0.007728\teval-logloss:0.089139\n",
            "[147]\ttrain-logloss:0.007689\teval-logloss:0.088907\n",
            "[148]\ttrain-logloss:0.007621\teval-logloss:0.089416\n",
            "[149]\ttrain-logloss:0.007598\teval-logloss:0.089388\n",
            "[150]\ttrain-logloss:0.007575\teval-logloss:0.089108\n",
            "[151]\ttrain-logloss:0.007521\teval-logloss:0.088735\n",
            "[152]\ttrain-logloss:0.007498\teval-logloss:0.088717\n",
            "[153]\ttrain-logloss:0.007464\teval-logloss:0.088484\n",
            "[154]\ttrain-logloss:0.00741\teval-logloss:0.088471\n",
            "[155]\ttrain-logloss:0.007389\teval-logloss:0.088545\n",
            "[156]\ttrain-logloss:0.007367\teval-logloss:0.088521\n",
            "[157]\ttrain-logloss:0.007345\teval-logloss:0.088547\n",
            "[158]\ttrain-logloss:0.007323\teval-logloss:0.088275\n",
            "[159]\ttrain-logloss:0.007303\teval-logloss:0.0883\n",
            "[160]\ttrain-logloss:0.007282\teval-logloss:0.08828\n",
            "[161]\ttrain-logloss:0.007261\teval-logloss:0.088013\n",
            "[162]\ttrain-logloss:0.007241\teval-logloss:0.087758\n",
            "[163]\ttrain-logloss:0.007221\teval-logloss:0.087784\n",
            "[164]\ttrain-logloss:0.0072\teval-logloss:0.087777\n",
            "[165]\ttrain-logloss:0.00718\teval-logloss:0.087517\n",
            "[166]\ttrain-logloss:0.007161\teval-logloss:0.087542\n",
            "[167]\ttrain-logloss:0.007142\teval-logloss:0.087642\n",
            "[168]\ttrain-logloss:0.007122\teval-logloss:0.08739\n",
            "[169]\ttrain-logloss:0.007103\teval-logloss:0.087377\n",
            "[170]\ttrain-logloss:0.007084\teval-logloss:0.087298\n",
            "[171]\ttrain-logloss:0.007065\teval-logloss:0.087368\n",
            "[172]\ttrain-logloss:0.007047\teval-logloss:0.087395\n",
            "[173]\ttrain-logloss:0.007028\teval-logloss:0.087385\n",
            "[174]\ttrain-logloss:0.007009\teval-logloss:0.087132\n",
            "[175]\ttrain-logloss:0.006991\teval-logloss:0.087159\n",
            "[176]\ttrain-logloss:0.006973\teval-logloss:0.086955\n",
            "[177]\ttrain-logloss:0.006955\teval-logloss:0.087053\n",
            "[178]\ttrain-logloss:0.006937\teval-logloss:0.08697\n",
            "[179]\ttrain-logloss:0.00692\teval-logloss:0.086973\n",
            "[180]\ttrain-logloss:0.006901\teval-logloss:0.087038\n",
            "[181]\ttrain-logloss:0.006884\teval-logloss:0.086799\n",
            "[182]\ttrain-logloss:0.006866\teval-logloss:0.086826\n",
            "[183]\ttrain-logloss:0.006849\teval-logloss:0.086582\n",
            "[184]\ttrain-logloss:0.006831\teval-logloss:0.086588\n",
            "[185]\ttrain-logloss:0.006815\teval-logloss:0.086614\n",
            "[186]\ttrain-logloss:0.006798\teval-logloss:0.086372\n",
            "[187]\ttrain-logloss:0.006781\teval-logloss:0.086369\n",
            "[188]\ttrain-logloss:0.006764\teval-logloss:0.086297\n",
            "[189]\ttrain-logloss:0.006747\teval-logloss:0.086104\n",
            "[190]\ttrain-logloss:0.00673\teval-logloss:0.086023\n",
            "[191]\ttrain-logloss:0.006714\teval-logloss:0.08605\n",
            "[192]\ttrain-logloss:0.006698\teval-logloss:0.086149\n",
            "[193]\ttrain-logloss:0.006682\teval-logloss:0.085916\n",
            "[194]\ttrain-logloss:0.006666\teval-logloss:0.085915\n",
            "[195]\ttrain-logloss:0.00665\teval-logloss:0.085984\n",
            "[196]\ttrain-logloss:0.006634\teval-logloss:0.086012\n",
            "[197]\ttrain-logloss:0.006618\teval-logloss:0.085922\n",
            "[198]\ttrain-logloss:0.006603\teval-logloss:0.085853\n",
            "[199]\ttrain-logloss:0.006587\teval-logloss:0.085874\n",
            "[200]\ttrain-logloss:0.006572\teval-logloss:0.085888\n",
            "[201]\ttrain-logloss:0.006556\teval-logloss:0.08595\n",
            "[202]\ttrain-logloss:0.006542\teval-logloss:0.08573\n",
            "[203]\ttrain-logloss:0.006527\teval-logloss:0.08573\n",
            "[204]\ttrain-logloss:0.006512\teval-logloss:0.085753\n",
            "[205]\ttrain-logloss:0.006497\teval-logloss:0.085821\n",
            "[206]\ttrain-logloss:0.006483\teval-logloss:0.08584\n",
            "[207]\ttrain-logloss:0.006469\teval-logloss:0.085776\n",
            "[208]\ttrain-logloss:0.006455\teval-logloss:0.085686\n",
            "[209]\ttrain-logloss:0.00644\teval-logloss:0.08571\n",
            "[210]\ttrain-logloss:0.006427\teval-logloss:0.085806\n",
            "[211]\ttrain-logloss:0.006413\teval-logloss:0.085593\n",
            "[212]\ttrain-logloss:0.006399\teval-logloss:0.085801\n",
            "[213]\ttrain-logloss:0.006385\teval-logloss:0.085807\n",
            "[214]\ttrain-logloss:0.006372\teval-logloss:0.085744\n",
            "[215]\ttrain-logloss:0.006359\teval-logloss:0.085658\n",
            "[216]\ttrain-logloss:0.006345\teval-logloss:0.085843\n",
            "[217]\ttrain-logloss:0.006332\teval-logloss:0.085632\n",
            "[218]\ttrain-logloss:0.006319\teval-logloss:0.085726\n",
            "[219]\ttrain-logloss:0.006306\teval-logloss:0.085783\n",
            "[220]\ttrain-logloss:0.006293\teval-logloss:0.085791\n",
            "[221]\ttrain-logloss:0.00628\teval-logloss:0.085817\n",
            "[222]\ttrain-logloss:0.006268\teval-logloss:0.085757\n",
            "[223]\ttrain-logloss:0.006255\teval-logloss:0.085674\n",
            "[224]\ttrain-logloss:0.006242\teval-logloss:0.08586\n",
            "[225]\ttrain-logloss:0.00623\teval-logloss:0.085871\n",
            "[226]\ttrain-logloss:0.006218\teval-logloss:0.085927\n",
            "[227]\ttrain-logloss:0.006206\teval-logloss:0.085954\n",
            "[228]\ttrain-logloss:0.006194\teval-logloss:0.085874\n",
            "[229]\ttrain-logloss:0.006182\teval-logloss:0.086057\n",
            "[230]\ttrain-logloss:0.00617\teval-logloss:0.086002\n",
            "[231]\ttrain-logloss:0.006158\teval-logloss:0.085922\n",
            "[232]\ttrain-logloss:0.006147\teval-logloss:0.086102\n",
            "[233]\ttrain-logloss:0.006135\teval-logloss:0.086115\n",
            "[234]\ttrain-logloss:0.006124\teval-logloss:0.086169\n",
            "[235]\ttrain-logloss:0.006112\teval-logloss:0.086263\n",
            "[236]\ttrain-logloss:0.006101\teval-logloss:0.086291\n",
            "[237]\ttrain-logloss:0.00609\teval-logloss:0.086217\n",
            "[238]\ttrain-logloss:0.006079\teval-logloss:0.086395\n",
            "[239]\ttrain-logloss:0.006068\teval-logloss:0.086342\n",
            "[240]\ttrain-logloss:0.006057\teval-logloss:0.08618\n",
            "[241]\ttrain-logloss:0.006046\teval-logloss:0.086195\n",
            "[242]\ttrain-logloss:0.006036\teval-logloss:0.086248\n",
            "[243]\ttrain-logloss:0.006025\teval-logloss:0.086263\n",
            "[244]\ttrain-logloss:0.006014\teval-logloss:0.086293\n",
            "[245]\ttrain-logloss:0.006004\teval-logloss:0.086222\n",
            "[246]\ttrain-logloss:0.005993\teval-logloss:0.086398\n",
            "[247]\ttrain-logloss:0.005983\teval-logloss:0.086347\n",
            "[248]\ttrain-logloss:0.005972\teval-logloss:0.086276\n",
            "[249]\ttrain-logloss:0.005962\teval-logloss:0.086448\n",
            "[250]\ttrain-logloss:0.005952\teval-logloss:0.086294\n",
            "[251]\ttrain-logloss:0.005942\teval-logloss:0.086312\n",
            "[252]\ttrain-logloss:0.005932\teval-logloss:0.086364\n",
            "[253]\ttrain-logloss:0.005922\teval-logloss:0.086394\n",
            "[254]\ttrain-logloss:0.005912\teval-logloss:0.08649\n",
            "[255]\ttrain-logloss:0.005903\teval-logloss:0.086441\n",
            "[256]\ttrain-logloss:0.005893\teval-logloss:0.08629\n",
            "[257]\ttrain-logloss:0.005883\teval-logloss:0.086459\n",
            "[258]\ttrain-logloss:0.005874\teval-logloss:0.086391\n",
            "[259]\ttrain-logloss:0.005864\teval-logloss:0.086441\n",
            "[260]\ttrain-logloss:0.005855\teval-logloss:0.086461\n",
            "[261]\ttrain-logloss:0.005845\teval-logloss:0.086491\n",
            "[262]\ttrain-logloss:0.005836\teval-logloss:0.086445\n",
            "[263]\ttrain-logloss:0.005827\teval-logloss:0.086466\n",
            "[264]\ttrain-logloss:0.005818\teval-logloss:0.086319\n",
            "[265]\ttrain-logloss:0.005809\teval-logloss:0.086488\n",
            "[266]\ttrain-logloss:0.0058\teval-logloss:0.086538\n",
            "[267]\ttrain-logloss:0.005791\teval-logloss:0.086471\n",
            "[268]\ttrain-logloss:0.005782\teval-logloss:0.086501\n",
            "[269]\ttrain-logloss:0.005773\teval-logloss:0.086522\n",
            "[270]\ttrain-logloss:0.005764\teval-logloss:0.086689\n",
            "[271]\ttrain-logloss:0.005755\teval-logloss:0.086738\n",
            "[272]\ttrain-logloss:0.005747\teval-logloss:0.086829\n",
            "[273]\ttrain-logloss:0.005738\teval-logloss:0.086684\n",
            "[274]\ttrain-logloss:0.005729\teval-logloss:0.08664\n",
            "[275]\ttrain-logloss:0.005721\teval-logloss:0.086496\n",
            "[276]\ttrain-logloss:0.005712\teval-logloss:0.086355\n",
            "[277]\ttrain-logloss:0.005704\teval-logloss:0.086519\n",
            "[278]\ttrain-logloss:0.005696\teval-logloss:0.086567\n",
            "[279]\ttrain-logloss:0.005687\teval-logloss:0.08659\n",
            "[280]\ttrain-logloss:0.005679\teval-logloss:0.086679\n",
            "[281]\ttrain-logloss:0.005671\teval-logloss:0.086637\n",
            "[282]\ttrain-logloss:0.005663\teval-logloss:0.086499\n",
            "[283]\ttrain-logloss:0.005655\teval-logloss:0.086356\n",
            "[284]\ttrain-logloss:0.005646\teval-logloss:0.086405\n",
            "[285]\ttrain-logloss:0.005639\teval-logloss:0.086429\n",
            "[286]\ttrain-logloss:0.005631\teval-logloss:0.086456\n",
            "[287]\ttrain-logloss:0.005623\teval-logloss:0.086504\n",
            "[288]\ttrain-logloss:0.005615\teval-logloss:0.08637\n",
            "[289]\ttrain-logloss:0.005608\teval-logloss:0.086457\n",
            "[290]\ttrain-logloss:0.0056\teval-logloss:0.086453\n",
            "[291]\ttrain-logloss:0.005593\teval-logloss:0.086322\n",
            "[292]\ttrain-logloss:0.005585\teval-logloss:0.086284\n",
            "[293]\ttrain-logloss:0.005577\teval-logloss:0.086148\n",
            "[294]\ttrain-logloss:0.00557\teval-logloss:0.086196\n",
            "[295]\ttrain-logloss:0.005563\teval-logloss:0.086221\n",
            "[296]\ttrain-logloss:0.005556\teval-logloss:0.086308\n",
            "[297]\ttrain-logloss:0.005548\teval-logloss:0.086178\n",
            "[298]\ttrain-logloss:0.005541\teval-logloss:0.086263\n",
            "[299]\ttrain-logloss:0.005534\teval-logloss:0.086131\n",
            "[300]\ttrain-logloss:0.005526\teval-logloss:0.086179\n",
            "[301]\ttrain-logloss:0.005519\teval-logloss:0.086052\n",
            "[302]\ttrain-logloss:0.005512\teval-logloss:0.086016\n",
            "[303]\ttrain-logloss:0.005505\teval-logloss:0.086101\n",
            "[304]\ttrain-logloss:0.005498\teval-logloss:0.085977\n",
            "[305]\ttrain-logloss:0.005491\teval-logloss:0.086059\n",
            "[306]\ttrain-logloss:0.005484\teval-logloss:0.085971\n",
            "[307]\ttrain-logloss:0.005478\teval-logloss:0.085998\n",
            "[308]\ttrain-logloss:0.005471\teval-logloss:0.085998\n",
            "[309]\ttrain-logloss:0.005464\teval-logloss:0.085877\n",
            "[310]\ttrain-logloss:0.005457\teval-logloss:0.085923\n",
            "[311]\ttrain-logloss:0.00545\teval-logloss:0.085948\n",
            "Stopping. Best iteration:\n",
            "[211]\ttrain-logloss:0.006413\teval-logloss:0.085593\n",
            "\n"
          ],
          "name": "stdout"
        }
      ]
    },
    {
      "cell_type": "markdown",
      "metadata": {
        "id": "95CMaPaxgP4g"
      },
      "source": [
        "train() 으로 학습을 수행하면 반복 시 train-error와 eval-logloss가 지속적으로 감소한다.\n",
        "\n",
        "xgboost를 이용해 모델의 학습이 완료됐으면 이를 이용해 테스트 데이터 세트에 예측을 수행한다.\n",
        "\n",
        "파이썬 래퍼 XGBoost는 train() 함수를 호출해 학습이 완료된 모델 객체를 반환하게 되는데,\n",
        "\n",
        "이 모델 객체는 예측을 위해 predict() 메서드를 이용한다.\n",
        "\n",
        "한 가지 유의할 점은 사이킷런의 predict() 메서드는 예측 결과 클래스 값(즉, 0, 1)을 반환하는 데 반해 xgboost의 predict()는 예측 결괏값이 아닌 예측 결과를 추정할 수 있느 확률 값을 반환한다는 것이다."
      ]
    },
    {
      "cell_type": "code",
      "metadata": {
        "colab": {
          "base_uri": "https://localhost:8080/"
        },
        "id": "QRG2YobbgKCa",
        "outputId": "113cf3d0-7ea8-42ed-a0d5-5f2432738495"
      },
      "source": [
        " pred_probs = xgb_model.predict(dtest)\n",
        " print('predict() 수행 결괏값을 10개만 표시, 예측 확률값으로 표시됨')\n",
        " print(np.round(pred_probs[:10], 3))\n",
        "\n",
        " # 예측 확률이 0.5보다 크면 1, 그렇지 않으면 0으로 예측값 결정해 리스트 객체인 preds에 저장\n",
        "preds = [ 1 if x > 0.5 else 0 for x in pred_probs ]\n",
        "print('예측값 10개만 표시:', preds[:10])"
      ],
      "execution_count": 10,
      "outputs": [
        {
          "output_type": "stream",
          "text": [
            "predict() 수행 결괏값을 10개만 표시, 예측 확률값으로 표시됨\n",
            "[0.934 0.003 0.91  0.094 0.993 1.    1.    0.999 0.997 0.   ]\n",
            "예측값 10개만 표시: [1, 0, 1, 0, 1, 1, 1, 1, 1, 0]\n"
          ],
          "name": "stdout"
        }
      ]
    },
    {
      "cell_type": "code",
      "metadata": {
        "id": "cBN8QyFzhYJn"
      },
      "source": [
        "from sklearn.metrics import accuracy_score, precision_score, recall_score, roc_auc_score\n",
        "from sklearn.metrics import f1_score, confusion_matrix, precision_recall_curve, roc_curve\n",
        "\n",
        "def get_clf_eval(y_test, pred=None, pred_proba=None):\n",
        "  confusion = confusion_matrix( y_test, pred)\n",
        "  accuracy = accuracy_score(y_test, pred)\n",
        "  precision = precision_score(y_test, pred)\n",
        "  recall = recall_score(y_test, pred)\n",
        "  f1 = f1_score(y_test, pred)\n",
        "  # ROC-AUC 추가\n",
        "  roc_auc = roc_auc_score(y_test, pred_proba)\n",
        "  print('오차 행렬')\n",
        "  print(confusion)\n",
        "  # ROC-AUC 추가\n",
        "  print('정확도: {0:.4f}, 정밀도: {1:.4f}, 재현율: {2:.4f}, F1: {3:.4f}, AUC:{4:.4f}'.format(accuracy, precision, recall, f1, roc_auc))"
      ],
      "execution_count": 20,
      "outputs": []
    },
    {
      "cell_type": "code",
      "metadata": {
        "colab": {
          "base_uri": "https://localhost:8080/"
        },
        "id": "jAjh8EzwhFDp",
        "outputId": "b4646a82-e910-4052-ace7-a2665bde5063"
      },
      "source": [
        "get_clf_eval(y_test, preds, pred_probs)"
      ],
      "execution_count": 21,
      "outputs": [
        {
          "output_type": "stream",
          "text": [
            "오차 행렬\n",
            "[[35  2]\n",
            " [ 1 76]]\n",
            "정확도: 0.9737, 정밀도: 0.9744, 재현율: 0.9870, F1: 0.9806, AUC:0.9951\n"
          ],
          "name": "stdout"
        }
      ]
    },
    {
      "cell_type": "markdown",
      "metadata": {
        "id": "WkBN-3S7hxCd"
      },
      "source": [
        "\n",
        "이번에는 xgboost 패키지에 내장된 시각화 기능을 수행한다.\n",
        "\n",
        "xgboost의 plot_importance() API는 피처의 중요도를 막대그래프 형식으로 나타낸다.\n",
        "\n",
        "기본 평가 지표로 f1 스코어를 기반으로 해 각 피처의 중요도를 나타낸다.\n",
        "\n",
        "사이킷런은 Estimator 객체의 feature_importances_ 속성을 이용해 직접 시각화 코드를 작성해야 하지만, xgboost 패키지는 plot_importance()를 이용해 바로 피처 중요도를 시각화할 수 있다.\n",
        "\n",
        "plot_importance() 호출 시 파라미터로 앞에서 학습이 완료된 모델 객체 및 맷플롯립의 ax 객체를 입력하기만 하면 된다.\n",
        "\n",
        "내장된 plot_importance() 이용 시 유의 할 점은 xgboost 넘파이 기반의 피처 데이터로 학습 시에 피처명을 제대로 알 수 가 없으므로 f0, f1와 같이 피처 순서별로 f자 뒤에 순서를 붙여서 X축에 피처들로 나열한다. (즉 f0은 첫 번째 피처, f1는 두 번째 피처를 의미한다.)"
      ]
    },
    {
      "cell_type": "code",
      "metadata": {
        "colab": {
          "base_uri": "https://localhost:8080/",
          "height": 748
        },
        "id": "-2lifg3mhKOk",
        "outputId": "4aac9cc0-357b-4a2f-bbda-492143a70b2f"
      },
      "source": [
        "from xgboost import plot_importance\n",
        "import matplotlib.pyplot as plt\n",
        "%matplotlib inline\n",
        "\n",
        "fig, ax = plt.subplots(figsize=(10, 12))\n",
        "plot_importance(xgb_model, ax=ax)"
      ],
      "execution_count": 22,
      "outputs": [
        {
          "output_type": "execute_result",
          "data": {
            "text/plain": [
              "<matplotlib.axes._subplots.AxesSubplot at 0x7fd9f7bfd8d0>"
            ]
          },
          "metadata": {
            "tags": []
          },
          "execution_count": 22
        },
        {
          "output_type": "display_data",
          "data": {
            "image/png": "[encoded data removed]",
            "text/plain": [
              "<Figure size 720x864 with 1 Axes>"
            ]
          },
          "metadata": {
            "tags": [],
            "needs_background": "light"
          }
        }
      ]
    },
    {
      "cell_type": "markdown",
      "metadata": {
        "id": "C-1DwNTZkGTD"
      },
      "source": [
        ""
      ]
    },
    {
      "cell_type": "markdown",
      "metadata": {
        "id": "ijBBAYOxkGvK"
      },
      "source": [
        "### 사이킷런 래퍼 XGBoost의 개요 및 적용\n",
        "\n",
        "사이킷 런을 위핸 래퍼 XGBoost는 크게 분류를 위핸 래퍼 클래스인 XGBClassifier, 회귀를 위한 래퍼 클래스인 XGBRegressor이다.\n",
        "\n",
        "\n",
        "XGBClassifier 클래스의 fit(), predict(), predict_proba()를 이용해 학습과 예측을 수행한다."
      ]
    },
    {
      "cell_type": "code",
      "metadata": {
        "id": "b-KtnlsxipO0"
      },
      "source": [
        "# 사이킷런 래퍼 XGBoost 클래스인 XGBClassifier 임포트\n",
        "from xgboost import XGBClassifier\n",
        "\n",
        "xgb_wrapper = XGBClassifier(n_estimators=400, learning_rate=0.1, max_depth=3)\n",
        "xgb_wrapper.fit(X_train, y_train)\n",
        "w_preds = xgb_wrapper.predict(X_test)\n",
        "w_pred_proba = xgb_wrapper.predict_proba(X_test)[:, 1]"
      ],
      "execution_count": 24,
      "outputs": []
    },
    {
      "cell_type": "code",
      "metadata": {
        "colab": {
          "base_uri": "https://localhost:8080/"
        },
        "id": "YnyKhq1Ok6vv",
        "outputId": "9d7c9f76-5af4-4e9a-a0cf-03e1f5ccde7b"
      },
      "source": [
        "get_clf_eval(y_test, w_preds, w_pred_proba)"
      ],
      "execution_count": 25,
      "outputs": [
        {
          "output_type": "stream",
          "text": [
            "오차 행렬\n",
            "[[35  2]\n",
            " [ 1 76]]\n",
            "정확도: 0.9737, 정밀도: 0.9744, 재현율: 0.9870, F1: 0.9806, AUC:0.9951\n"
          ],
          "name": "stdout"
        }
      ]
    },
    {
      "cell_type": "code",
      "metadata": {
        "colab": {
          "base_uri": "https://localhost:8080/"
        },
        "id": "-WIjgW70lBs8",
        "outputId": "ef4e55af-31b3-421a-9704-9ef16624a4f7"
      },
      "source": [
        "from xgboost import XGBClassifier\n",
        "\n",
        "xgb_wrapper = XGBClassifier(n_estimators=400, learning_rate=0.1, max_depth=3)\n",
        "evals = [(X_test, y_test)]\n",
        "xgb_wrapper.fit(X_train, y_train, early_stopping_rounds=100, eval_metric=\"logloss\", eval_set=evals, verbose=True)\n",
        "\n",
        "ws100_preds = xgb_wrapper.predict(X_test)\n",
        "ws100_pred_proba = xgb_wrapper.predict_proba(X_test)[:, 1]"
      ],
      "execution_count": 27,
      "outputs": [
        {
          "output_type": "stream",
          "text": [
            "[0]\tvalidation_0-logloss:0.61352\n",
            "Will train until validation_0-logloss hasn't improved in 100 rounds.\n",
            "[1]\tvalidation_0-logloss:0.547842\n",
            "[2]\tvalidation_0-logloss:0.494247\n",
            "[3]\tvalidation_0-logloss:0.447986\n",
            "[4]\tvalidation_0-logloss:0.409109\n",
            "[5]\tvalidation_0-logloss:0.374977\n",
            "[6]\tvalidation_0-logloss:0.345714\n",
            "[7]\tvalidation_0-logloss:0.320529\n",
            "[8]\tvalidation_0-logloss:0.29721\n",
            "[9]\tvalidation_0-logloss:0.277991\n",
            "[10]\tvalidation_0-logloss:0.260302\n",
            "[11]\tvalidation_0-logloss:0.246037\n",
            "[12]\tvalidation_0-logloss:0.231556\n",
            "[13]\tvalidation_0-logloss:0.22005\n",
            "[14]\tvalidation_0-logloss:0.208572\n",
            "[15]\tvalidation_0-logloss:0.199993\n",
            "[16]\tvalidation_0-logloss:0.190118\n",
            "[17]\tvalidation_0-logloss:0.181818\n",
            "[18]\tvalidation_0-logloss:0.174729\n",
            "[19]\tvalidation_0-logloss:0.167657\n",
            "[20]\tvalidation_0-logloss:0.158202\n",
            "[21]\tvalidation_0-logloss:0.154725\n",
            "[22]\tvalidation_0-logloss:0.148947\n",
            "[23]\tvalidation_0-logloss:0.143308\n",
            "[24]\tvalidation_0-logloss:0.136344\n",
            "[25]\tvalidation_0-logloss:0.132778\n",
            "[26]\tvalidation_0-logloss:0.127912\n",
            "[27]\tvalidation_0-logloss:0.125263\n",
            "[28]\tvalidation_0-logloss:0.119978\n",
            "[29]\tvalidation_0-logloss:0.116412\n",
            "[30]\tvalidation_0-logloss:0.114502\n",
            "[31]\tvalidation_0-logloss:0.112572\n",
            "[32]\tvalidation_0-logloss:0.11154\n",
            "[33]\tvalidation_0-logloss:0.108681\n",
            "[34]\tvalidation_0-logloss:0.106681\n",
            "[35]\tvalidation_0-logloss:0.104207\n",
            "[36]\tvalidation_0-logloss:0.102962\n",
            "[37]\tvalidation_0-logloss:0.100576\n",
            "[38]\tvalidation_0-logloss:0.098683\n",
            "[39]\tvalidation_0-logloss:0.096444\n",
            "[40]\tvalidation_0-logloss:0.095869\n",
            "[41]\tvalidation_0-logloss:0.094242\n",
            "[42]\tvalidation_0-logloss:0.094715\n",
            "[43]\tvalidation_0-logloss:0.094272\n",
            "[44]\tvalidation_0-logloss:0.093894\n",
            "[45]\tvalidation_0-logloss:0.094184\n",
            "[46]\tvalidation_0-logloss:0.09402\n",
            "[47]\tvalidation_0-logloss:0.09236\n",
            "[48]\tvalidation_0-logloss:0.093012\n",
            "[49]\tvalidation_0-logloss:0.091272\n",
            "[50]\tvalidation_0-logloss:0.090051\n",
            "[51]\tvalidation_0-logloss:0.089605\n",
            "[52]\tvalidation_0-logloss:0.089577\n",
            "[53]\tvalidation_0-logloss:0.090703\n",
            "[54]\tvalidation_0-logloss:0.089579\n",
            "[55]\tvalidation_0-logloss:0.090357\n",
            "[56]\tvalidation_0-logloss:0.091587\n",
            "[57]\tvalidation_0-logloss:0.091527\n",
            "[58]\tvalidation_0-logloss:0.091986\n",
            "[59]\tvalidation_0-logloss:0.091951\n",
            "[60]\tvalidation_0-logloss:0.091939\n",
            "[61]\tvalidation_0-logloss:0.091461\n",
            "[62]\tvalidation_0-logloss:0.090311\n",
            "[63]\tvalidation_0-logloss:0.089407\n",
            "[64]\tvalidation_0-logloss:0.089719\n",
            "[65]\tvalidation_0-logloss:0.089743\n",
            "[66]\tvalidation_0-logloss:0.089622\n",
            "[67]\tvalidation_0-logloss:0.088734\n",
            "[68]\tvalidation_0-logloss:0.088621\n",
            "[69]\tvalidation_0-logloss:0.089739\n",
            "[70]\tvalidation_0-logloss:0.089981\n",
            "[71]\tvalidation_0-logloss:0.089782\n",
            "[72]\tvalidation_0-logloss:0.089584\n",
            "[73]\tvalidation_0-logloss:0.089533\n",
            "[74]\tvalidation_0-logloss:0.088748\n",
            "[75]\tvalidation_0-logloss:0.088597\n",
            "[76]\tvalidation_0-logloss:0.08812\n",
            "[77]\tvalidation_0-logloss:0.088396\n",
            "[78]\tvalidation_0-logloss:0.088736\n",
            "[79]\tvalidation_0-logloss:0.088153\n",
            "[80]\tvalidation_0-logloss:0.087577\n",
            "[81]\tvalidation_0-logloss:0.087412\n",
            "[82]\tvalidation_0-logloss:0.08849\n",
            "[83]\tvalidation_0-logloss:0.088575\n",
            "[84]\tvalidation_0-logloss:0.08807\n",
            "[85]\tvalidation_0-logloss:0.087641\n",
            "[86]\tvalidation_0-logloss:0.087416\n",
            "[87]\tvalidation_0-logloss:0.087611\n",
            "[88]\tvalidation_0-logloss:0.087065\n",
            "[89]\tvalidation_0-logloss:0.08727\n",
            "[90]\tvalidation_0-logloss:0.087161\n",
            "[91]\tvalidation_0-logloss:0.086962\n",
            "[92]\tvalidation_0-logloss:0.087166\n",
            "[93]\tvalidation_0-logloss:0.087067\n",
            "[94]\tvalidation_0-logloss:0.086592\n",
            "[95]\tvalidation_0-logloss:0.086116\n",
            "[96]\tvalidation_0-logloss:0.087139\n",
            "[97]\tvalidation_0-logloss:0.086768\n",
            "[98]\tvalidation_0-logloss:0.086694\n",
            "[99]\tvalidation_0-logloss:0.086547\n",
            "[100]\tvalidation_0-logloss:0.086498\n",
            "[101]\tvalidation_0-logloss:0.08641\n",
            "[102]\tvalidation_0-logloss:0.086288\n",
            "[103]\tvalidation_0-logloss:0.086258\n",
            "[104]\tvalidation_0-logloss:0.086835\n",
            "[105]\tvalidation_0-logloss:0.086767\n",
            "[106]\tvalidation_0-logloss:0.087321\n",
            "[107]\tvalidation_0-logloss:0.087304\n",
            "[108]\tvalidation_0-logloss:0.08728\n",
            "[109]\tvalidation_0-logloss:0.087298\n",
            "[110]\tvalidation_0-logloss:0.087289\n",
            "[111]\tvalidation_0-logloss:0.088002\n",
            "[112]\tvalidation_0-logloss:0.087936\n",
            "[113]\tvalidation_0-logloss:0.087843\n",
            "[114]\tvalidation_0-logloss:0.088066\n",
            "[115]\tvalidation_0-logloss:0.087649\n",
            "[116]\tvalidation_0-logloss:0.087298\n",
            "[117]\tvalidation_0-logloss:0.087799\n",
            "[118]\tvalidation_0-logloss:0.087751\n",
            "[119]\tvalidation_0-logloss:0.08768\n",
            "[120]\tvalidation_0-logloss:0.087626\n",
            "[121]\tvalidation_0-logloss:0.08757\n",
            "[122]\tvalidation_0-logloss:0.087547\n",
            "[123]\tvalidation_0-logloss:0.087156\n",
            "[124]\tvalidation_0-logloss:0.08767\n",
            "[125]\tvalidation_0-logloss:0.087737\n",
            "[126]\tvalidation_0-logloss:0.088275\n",
            "[127]\tvalidation_0-logloss:0.088309\n",
            "[128]\tvalidation_0-logloss:0.088266\n",
            "[129]\tvalidation_0-logloss:0.087886\n",
            "[130]\tvalidation_0-logloss:0.088861\n",
            "[131]\tvalidation_0-logloss:0.088675\n",
            "[132]\tvalidation_0-logloss:0.088743\n",
            "[133]\tvalidation_0-logloss:0.089218\n",
            "[134]\tvalidation_0-logloss:0.089179\n",
            "[135]\tvalidation_0-logloss:0.088821\n",
            "[136]\tvalidation_0-logloss:0.088512\n",
            "[137]\tvalidation_0-logloss:0.08848\n",
            "[138]\tvalidation_0-logloss:0.088386\n",
            "[139]\tvalidation_0-logloss:0.089145\n",
            "[140]\tvalidation_0-logloss:0.08911\n",
            "[141]\tvalidation_0-logloss:0.088765\n",
            "[142]\tvalidation_0-logloss:0.088678\n",
            "[143]\tvalidation_0-logloss:0.088389\n",
            "[144]\tvalidation_0-logloss:0.089271\n",
            "[145]\tvalidation_0-logloss:0.089238\n",
            "[146]\tvalidation_0-logloss:0.089139\n",
            "[147]\tvalidation_0-logloss:0.088907\n",
            "[148]\tvalidation_0-logloss:0.089416\n",
            "[149]\tvalidation_0-logloss:0.089388\n",
            "[150]\tvalidation_0-logloss:0.089108\n",
            "[151]\tvalidation_0-logloss:0.088735\n",
            "[152]\tvalidation_0-logloss:0.088717\n",
            "[153]\tvalidation_0-logloss:0.088484\n",
            "[154]\tvalidation_0-logloss:0.088471\n",
            "[155]\tvalidation_0-logloss:0.088545\n",
            "[156]\tvalidation_0-logloss:0.088521\n",
            "[157]\tvalidation_0-logloss:0.088547\n",
            "[158]\tvalidation_0-logloss:0.088275\n",
            "[159]\tvalidation_0-logloss:0.0883\n",
            "[160]\tvalidation_0-logloss:0.08828\n",
            "[161]\tvalidation_0-logloss:0.088013\n",
            "[162]\tvalidation_0-logloss:0.087758\n",
            "[163]\tvalidation_0-logloss:0.087784\n",
            "[164]\tvalidation_0-logloss:0.087777\n",
            "[165]\tvalidation_0-logloss:0.087517\n",
            "[166]\tvalidation_0-logloss:0.087542\n",
            "[167]\tvalidation_0-logloss:0.087642\n",
            "[168]\tvalidation_0-logloss:0.08739\n",
            "[169]\tvalidation_0-logloss:0.087377\n",
            "[170]\tvalidation_0-logloss:0.087298\n",
            "[171]\tvalidation_0-logloss:0.087368\n",
            "[172]\tvalidation_0-logloss:0.087395\n",
            "[173]\tvalidation_0-logloss:0.087385\n",
            "[174]\tvalidation_0-logloss:0.087132\n",
            "[175]\tvalidation_0-logloss:0.087159\n",
            "[176]\tvalidation_0-logloss:0.086955\n",
            "[177]\tvalidation_0-logloss:0.087053\n",
            "[178]\tvalidation_0-logloss:0.08697\n",
            "[179]\tvalidation_0-logloss:0.086973\n",
            "[180]\tvalidation_0-logloss:0.087038\n",
            "[181]\tvalidation_0-logloss:0.086799\n",
            "[182]\tvalidation_0-logloss:0.086826\n",
            "[183]\tvalidation_0-logloss:0.086582\n",
            "[184]\tvalidation_0-logloss:0.086588\n",
            "[185]\tvalidation_0-logloss:0.086614\n",
            "[186]\tvalidation_0-logloss:0.086372\n",
            "[187]\tvalidation_0-logloss:0.086369\n",
            "[188]\tvalidation_0-logloss:0.086297\n",
            "[189]\tvalidation_0-logloss:0.086104\n",
            "[190]\tvalidation_0-logloss:0.086023\n",
            "[191]\tvalidation_0-logloss:0.08605\n",
            "[192]\tvalidation_0-logloss:0.086149\n",
            "[193]\tvalidation_0-logloss:0.085916\n",
            "[194]\tvalidation_0-logloss:0.085915\n",
            "[195]\tvalidation_0-logloss:0.085984\n",
            "[196]\tvalidation_0-logloss:0.086012\n",
            "[197]\tvalidation_0-logloss:0.085922\n",
            "[198]\tvalidation_0-logloss:0.085853\n",
            "[199]\tvalidation_0-logloss:0.085874\n",
            "[200]\tvalidation_0-logloss:0.085888\n",
            "[201]\tvalidation_0-logloss:0.08595\n",
            "[202]\tvalidation_0-logloss:0.08573\n",
            "[203]\tvalidation_0-logloss:0.08573\n",
            "[204]\tvalidation_0-logloss:0.085753\n",
            "[205]\tvalidation_0-logloss:0.085821\n",
            "[206]\tvalidation_0-logloss:0.08584\n",
            "[207]\tvalidation_0-logloss:0.085776\n",
            "[208]\tvalidation_0-logloss:0.085686\n",
            "[209]\tvalidation_0-logloss:0.08571\n",
            "[210]\tvalidation_0-logloss:0.085806\n",
            "[211]\tvalidation_0-logloss:0.085593\n",
            "[212]\tvalidation_0-logloss:0.085801\n",
            "[213]\tvalidation_0-logloss:0.085806\n",
            "[214]\tvalidation_0-logloss:0.085744\n",
            "[215]\tvalidation_0-logloss:0.085658\n",
            "[216]\tvalidation_0-logloss:0.085843\n",
            "[217]\tvalidation_0-logloss:0.085632\n",
            "[218]\tvalidation_0-logloss:0.085726\n",
            "[219]\tvalidation_0-logloss:0.085783\n",
            "[220]\tvalidation_0-logloss:0.085791\n",
            "[221]\tvalidation_0-logloss:0.085817\n",
            "[222]\tvalidation_0-logloss:0.085757\n",
            "[223]\tvalidation_0-logloss:0.085674\n",
            "[224]\tvalidation_0-logloss:0.08586\n",
            "[225]\tvalidation_0-logloss:0.085871\n",
            "[226]\tvalidation_0-logloss:0.085927\n",
            "[227]\tvalidation_0-logloss:0.085954\n",
            "[228]\tvalidation_0-logloss:0.085874\n",
            "[229]\tvalidation_0-logloss:0.086057\n",
            "[230]\tvalidation_0-logloss:0.086002\n",
            "[231]\tvalidation_0-logloss:0.085922\n",
            "[232]\tvalidation_0-logloss:0.086102\n",
            "[233]\tvalidation_0-logloss:0.086115\n",
            "[234]\tvalidation_0-logloss:0.086169\n",
            "[235]\tvalidation_0-logloss:0.086263\n",
            "[236]\tvalidation_0-logloss:0.086292\n",
            "[237]\tvalidation_0-logloss:0.086217\n",
            "[238]\tvalidation_0-logloss:0.086395\n",
            "[239]\tvalidation_0-logloss:0.086342\n",
            "[240]\tvalidation_0-logloss:0.08618\n",
            "[241]\tvalidation_0-logloss:0.086195\n",
            "[242]\tvalidation_0-logloss:0.086248\n",
            "[243]\tvalidation_0-logloss:0.086263\n",
            "[244]\tvalidation_0-logloss:0.086293\n",
            "[245]\tvalidation_0-logloss:0.086222\n",
            "[246]\tvalidation_0-logloss:0.086398\n",
            "[247]\tvalidation_0-logloss:0.086347\n",
            "[248]\tvalidation_0-logloss:0.086276\n",
            "[249]\tvalidation_0-logloss:0.086448\n",
            "[250]\tvalidation_0-logloss:0.086294\n",
            "[251]\tvalidation_0-logloss:0.086312\n",
            "[252]\tvalidation_0-logloss:0.086364\n",
            "[253]\tvalidation_0-logloss:0.086394\n",
            "[254]\tvalidation_0-logloss:0.08649\n",
            "[255]\tvalidation_0-logloss:0.086441\n",
            "[256]\tvalidation_0-logloss:0.08629\n",
            "[257]\tvalidation_0-logloss:0.08646\n",
            "[258]\tvalidation_0-logloss:0.086391\n",
            "[259]\tvalidation_0-logloss:0.086441\n",
            "[260]\tvalidation_0-logloss:0.086461\n",
            "[261]\tvalidation_0-logloss:0.086491\n",
            "[262]\tvalidation_0-logloss:0.086445\n",
            "[263]\tvalidation_0-logloss:0.086466\n",
            "[264]\tvalidation_0-logloss:0.086319\n",
            "[265]\tvalidation_0-logloss:0.086488\n",
            "[266]\tvalidation_0-logloss:0.086538\n",
            "[267]\tvalidation_0-logloss:0.086471\n",
            "[268]\tvalidation_0-logloss:0.086501\n",
            "[269]\tvalidation_0-logloss:0.086522\n",
            "[270]\tvalidation_0-logloss:0.086689\n",
            "[271]\tvalidation_0-logloss:0.086738\n",
            "[272]\tvalidation_0-logloss:0.08683\n",
            "[273]\tvalidation_0-logloss:0.086684\n",
            "[274]\tvalidation_0-logloss:0.08664\n",
            "[275]\tvalidation_0-logloss:0.086496\n",
            "[276]\tvalidation_0-logloss:0.086355\n",
            "[277]\tvalidation_0-logloss:0.086519\n",
            "[278]\tvalidation_0-logloss:0.086567\n",
            "[279]\tvalidation_0-logloss:0.08659\n",
            "[280]\tvalidation_0-logloss:0.086679\n",
            "[281]\tvalidation_0-logloss:0.086637\n",
            "[282]\tvalidation_0-logloss:0.086499\n",
            "[283]\tvalidation_0-logloss:0.086356\n",
            "[284]\tvalidation_0-logloss:0.086405\n",
            "[285]\tvalidation_0-logloss:0.086429\n",
            "[286]\tvalidation_0-logloss:0.086456\n",
            "[287]\tvalidation_0-logloss:0.086504\n",
            "[288]\tvalidation_0-logloss:0.08637\n",
            "[289]\tvalidation_0-logloss:0.086457\n",
            "[290]\tvalidation_0-logloss:0.086453\n",
            "[291]\tvalidation_0-logloss:0.086322\n",
            "[292]\tvalidation_0-logloss:0.086284\n",
            "[293]\tvalidation_0-logloss:0.086148\n",
            "[294]\tvalidation_0-logloss:0.086196\n",
            "[295]\tvalidation_0-logloss:0.086221\n",
            "[296]\tvalidation_0-logloss:0.086308\n",
            "[297]\tvalidation_0-logloss:0.086178\n",
            "[298]\tvalidation_0-logloss:0.086263\n",
            "[299]\tvalidation_0-logloss:0.086131\n",
            "[300]\tvalidation_0-logloss:0.086179\n",
            "[301]\tvalidation_0-logloss:0.086052\n",
            "[302]\tvalidation_0-logloss:0.086016\n",
            "[303]\tvalidation_0-logloss:0.086101\n",
            "[304]\tvalidation_0-logloss:0.085977\n",
            "[305]\tvalidation_0-logloss:0.086059\n",
            "[306]\tvalidation_0-logloss:0.085971\n",
            "[307]\tvalidation_0-logloss:0.085998\n",
            "[308]\tvalidation_0-logloss:0.085999\n",
            "[309]\tvalidation_0-logloss:0.085877\n",
            "[310]\tvalidation_0-logloss:0.085923\n",
            "[311]\tvalidation_0-logloss:0.085948\n",
            "Stopping. Best iteration:\n",
            "[211]\tvalidation_0-logloss:0.085593\n",
            "\n"
          ],
          "name": "stdout"
        }
      ]
    },
    {
      "cell_type": "markdown",
      "metadata": {
        "id": "f-EWHnx0l4PD"
      },
      "source": [
        "n_estimators를 400으로 설정하고 400번 반복을 수행하지 않고 311번 반복한 후 학습을 완료했음을 확인할 수 있다.\n",
        "\n",
        "조기 중단으로 학습된 XGBClassifier의 예측 성능을 살펴본다.   \n",
        "조기 중단이 적용되지 않은 결과보다 약간 저조한 성능을 나타냈지만 큰 차이는 아니다."
      ]
    },
    {
      "cell_type": "code",
      "metadata": {
        "colab": {
          "base_uri": "https://localhost:8080/"
        },
        "id": "Mqx94jqBlsxR",
        "outputId": "0e1f36a6-af44-4e31-faac-ae071dc97626"
      },
      "source": [
        "get_clf_eval(y_test, ws100_preds, ws100_pred_proba)"
      ],
      "execution_count": 28,
      "outputs": [
        {
          "output_type": "stream",
          "text": [
            "오차 행렬\n",
            "[[34  3]\n",
            " [ 1 76]]\n",
            "정확도: 0.9649, 정밀도: 0.9620, 재현율: 0.9870, F1: 0.9744, AUC:0.9954\n"
          ],
          "name": "stdout"
        }
      ]
    },
    {
      "cell_type": "markdown",
      "metadata": {
        "id": "LgcJQ7UDmafp"
      },
      "source": [
        "하지만 조기 중단값을 너무 급격하게 줄이면 예측 성능이 저하될 우려가 크다.\n",
        "\n",
        "만일 early_stopping_rounds를 10으로 하면 아직 성능이 향상될 여지가 있음에도 불구하고 10번 반복하는 동안 성능 평가 지표가 향상되지 않으면 반복이 멈춰 버려서 충분한 학습이 되지 않아 예측 성능이 나빠질 수 있다.\n",
        "\n",
        "early_stopping_rounds를 10으로 설정하고 예측 성능을 다시 측정해 본다.\n"
      ]
    },
    {
      "cell_type": "code",
      "metadata": {
        "colab": {
          "base_uri": "https://localhost:8080/"
        },
        "id": "0rFHdbsqmPhC",
        "outputId": "93fc6d1d-1e2d-4b43-9e2c-e6e1fb3ff597"
      },
      "source": [
        "# early_stopping_rounds를 10으로 설정하고 재 학습\n",
        "\n",
        "xgb_wrapper.fit(X_train, y_train, early_stopping_rounds=10, eval_metric=\"logloss\", eval_set=evals, verbose=True)\n",
        "\n",
        "ws10_preds = xgb_wrapper.predict(X_test)\n",
        "ws10_pred_proba = xgb_wrapper.predict_proba(X_test)[:, 1]\n",
        "\n",
        "get_clf_eval(y_test, ws10_preds, ws10_pred_proba)"
      ],
      "execution_count": 29,
      "outputs": [
        {
          "output_type": "stream",
          "text": [
            "[0]\tvalidation_0-logloss:0.61352\n",
            "Will train until validation_0-logloss hasn't improved in 10 rounds.\n",
            "[1]\tvalidation_0-logloss:0.547842\n",
            "[2]\tvalidation_0-logloss:0.494247\n",
            "[3]\tvalidation_0-logloss:0.447986\n",
            "[4]\tvalidation_0-logloss:0.409109\n",
            "[5]\tvalidation_0-logloss:0.374977\n",
            "[6]\tvalidation_0-logloss:0.345714\n",
            "[7]\tvalidation_0-logloss:0.320529\n",
            "[8]\tvalidation_0-logloss:0.29721\n",
            "[9]\tvalidation_0-logloss:0.277991\n",
            "[10]\tvalidation_0-logloss:0.260302\n",
            "[11]\tvalidation_0-logloss:0.246037\n",
            "[12]\tvalidation_0-logloss:0.231556\n",
            "[13]\tvalidation_0-logloss:0.22005\n",
            "[14]\tvalidation_0-logloss:0.208572\n",
            "[15]\tvalidation_0-logloss:0.199993\n",
            "[16]\tvalidation_0-logloss:0.190118\n",
            "[17]\tvalidation_0-logloss:0.181818\n",
            "[18]\tvalidation_0-logloss:0.174729\n",
            "[19]\tvalidation_0-logloss:0.167657\n",
            "[20]\tvalidation_0-logloss:0.158202\n",
            "[21]\tvalidation_0-logloss:0.154725\n",
            "[22]\tvalidation_0-logloss:0.148947\n",
            "[23]\tvalidation_0-logloss:0.143308\n",
            "[24]\tvalidation_0-logloss:0.136344\n",
            "[25]\tvalidation_0-logloss:0.132778\n",
            "[26]\tvalidation_0-logloss:0.127912\n",
            "[27]\tvalidation_0-logloss:0.125263\n",
            "[28]\tvalidation_0-logloss:0.119978\n",
            "[29]\tvalidation_0-logloss:0.116412\n",
            "[30]\tvalidation_0-logloss:0.114502\n",
            "[31]\tvalidation_0-logloss:0.112572\n",
            "[32]\tvalidation_0-logloss:0.11154\n",
            "[33]\tvalidation_0-logloss:0.108681\n",
            "[34]\tvalidation_0-logloss:0.106681\n",
            "[35]\tvalidation_0-logloss:0.104207\n",
            "[36]\tvalidation_0-logloss:0.102962\n",
            "[37]\tvalidation_0-logloss:0.100576\n",
            "[38]\tvalidation_0-logloss:0.098683\n",
            "[39]\tvalidation_0-logloss:0.096444\n",
            "[40]\tvalidation_0-logloss:0.095869\n",
            "[41]\tvalidation_0-logloss:0.094242\n",
            "[42]\tvalidation_0-logloss:0.094715\n",
            "[43]\tvalidation_0-logloss:0.094272\n",
            "[44]\tvalidation_0-logloss:0.093894\n",
            "[45]\tvalidation_0-logloss:0.094184\n",
            "[46]\tvalidation_0-logloss:0.09402\n",
            "[47]\tvalidation_0-logloss:0.09236\n",
            "[48]\tvalidation_0-logloss:0.093012\n",
            "[49]\tvalidation_0-logloss:0.091272\n",
            "[50]\tvalidation_0-logloss:0.090051\n",
            "[51]\tvalidation_0-logloss:0.089605\n",
            "[52]\tvalidation_0-logloss:0.089577\n",
            "[53]\tvalidation_0-logloss:0.090703\n",
            "[54]\tvalidation_0-logloss:0.089579\n",
            "[55]\tvalidation_0-logloss:0.090357\n",
            "[56]\tvalidation_0-logloss:0.091587\n",
            "[57]\tvalidation_0-logloss:0.091527\n",
            "[58]\tvalidation_0-logloss:0.091986\n",
            "[59]\tvalidation_0-logloss:0.091951\n",
            "[60]\tvalidation_0-logloss:0.091939\n",
            "[61]\tvalidation_0-logloss:0.091461\n",
            "[62]\tvalidation_0-logloss:0.090311\n",
            "Stopping. Best iteration:\n",
            "[52]\tvalidation_0-logloss:0.089577\n",
            "\n",
            "오차 행렬\n",
            "[[34  3]\n",
            " [ 2 75]]\n",
            "정확도: 0.9561, 정밀도: 0.9615, 재현율: 0.9740, F1: 0.9677, AUC:0.9947\n"
          ],
          "name": "stdout"
        }
      ]
    },
    {
      "cell_type": "markdown",
      "metadata": {
        "id": "y6Nbrc7znW40"
      },
      "source": [
        "피처의 중요도를 시각화하는 모듈인 plot_importance() API를 통해 시각화한다."
      ]
    },
    {
      "cell_type": "code",
      "metadata": {
        "colab": {
          "base_uri": "https://localhost:8080/",
          "height": 748
        },
        "id": "EBCYI8oQnEnC",
        "outputId": "4858e536-b44b-4248-cda1-50cea5e615dd"
      },
      "source": [
        "from xgboost import plot_importance\n",
        "import matplotlib.pyplot as plt\n",
        "%matplotlib inline\n",
        "\n",
        "fig, ax = plt.subplots(figsize=(10, 12))\n",
        "# 사이킷런 Wrapper 클래스를 입력해도 무방.\n",
        "plot_importance(xgb_wrapper, ax=ax)"
      ],
      "execution_count": 31,
      "outputs": [
        {
          "output_type": "execute_result",
          "data": {
            "text/plain": [
              "<matplotlib.axes._subplots.AxesSubplot at 0x7fd9f7170390>"
            ]
          },
          "metadata": {
            "tags": []
          },
          "execution_count": 31
        },
        {
          "output_type": "display_data",
          "data": {
            "image/png": "[encoded data removed]",
            "text/plain": [
              "<Figure size 720x864 with 1 Axes>"
            ]
          },
          "metadata": {
            "tags": [],
            "needs_background": "light"
          }
        }
      ]
    },
    {
      "cell_type": "code",
      "metadata": {
        "id": "xSsHBqx-mHqx"
      },
      "source": [
        ""
      ],
      "execution_count": 29,
      "outputs": []
    }
  ]
}