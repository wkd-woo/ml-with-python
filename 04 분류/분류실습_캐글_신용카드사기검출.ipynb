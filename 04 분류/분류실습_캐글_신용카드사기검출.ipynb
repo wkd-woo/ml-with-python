{
  "nbformat": 4,
  "nbformat_minor": 0,
  "metadata": {
    "colab": {
      "name": "분류실습-캐글_신용카드사기검출.ipynb",
      "provenance": [],
      "collapsed_sections": [],
      "mount_file_id": "11mW7Kv27NRJipkTi-ztEutpQcMUOzIMm",
      "authorship_tag": "ABX9TyPu56U+1tkXa80Es2EBRc5a"
    },
    "kernelspec": {
      "name": "python3",
      "display_name": "Python 3"
    },
    "language_info": {
      "name": "python"
    }
  },
  "cells": [
    {
      "cell_type": "code",
      "metadata": {
        "id": "iOdV4HfYid5e"
      },
      "source": [
        "import pandas as pd\n",
        "import numpy as np\n",
        "import matplotlib.pyplot as plt\n",
        "import warnings\n",
        "warnings.filterwarnings(\"ignore\")\n",
        "%matplotlib inline"
      ],
      "execution_count": 18,
      "outputs": []
    },
    {
      "cell_type": "code",
      "metadata": {
        "colab": {
          "base_uri": "https://localhost:8080/",
          "height": 162
        },
        "id": "whKhIvfXo2d7",
        "outputId": "e420274c-0329-4d53-efdf-c28a5840169f"
      },
      "source": [
        "card_df = pd.read_csv('/content/drive/MyDrive/파이썬 머신러닝 완벽 가이드/04 분류/creditcard.csv')\n",
        "\n",
        "card_df.head(3)"
      ],
      "execution_count": 19,
      "outputs": [
        {
          "output_type": "execute_result",
          "data": {
            "text/html": [
              "<div>\n",
              "<style scoped>\n",
              "    .dataframe tbody tr th:only-of-type {\n",
              "        vertical-align: middle;\n",
              "    }\n",
              "\n",
              "    .dataframe tbody tr th {\n",
              "        vertical-align: top;\n",
              "    }\n",
              "\n",
              "    .dataframe thead th {\n",
              "        text-align: right;\n",
              "    }\n",
              "</style>\n",
              "<table border=\"1\" class=\"dataframe\">\n",
              "  <thead>\n",
              "    <tr style=\"text-align: right;\">\n",
              "      <th></th>\n",
              "      <th>Time</th>\n",
              "      <th>V1</th>\n",
              "      <th>V2</th>\n",
              "      <th>V3</th>\n",
              "      <th>V4</th>\n",
              "      <th>V5</th>\n",
              "      <th>V6</th>\n",
              "      <th>V7</th>\n",
              "      <th>V8</th>\n",
              "      <th>V9</th>\n",
              "      <th>V10</th>\n",
              "      <th>V11</th>\n",
              "      <th>V12</th>\n",
              "      <th>V13</th>\n",
              "      <th>V14</th>\n",
              "      <th>V15</th>\n",
              "      <th>V16</th>\n",
              "      <th>V17</th>\n",
              "      <th>V18</th>\n",
              "      <th>V19</th>\n",
              "      <th>V20</th>\n",
              "      <th>V21</th>\n",
              "      <th>V22</th>\n",
              "      <th>V23</th>\n",
              "      <th>V24</th>\n",
              "      <th>V25</th>\n",
              "      <th>V26</th>\n",
              "      <th>V27</th>\n",
              "      <th>V28</th>\n",
              "      <th>Amount</th>\n",
              "      <th>Class</th>\n",
              "    </tr>\n",
              "  </thead>\n",
              "  <tbody>\n",
              "    <tr>\n",
              "      <th>0</th>\n",
              "      <td>0.0</td>\n",
              "      <td>-1.359807</td>\n",
              "      <td>-0.072781</td>\n",
              "      <td>2.536347</td>\n",
              "      <td>1.378155</td>\n",
              "      <td>-0.338321</td>\n",
              "      <td>0.462388</td>\n",
              "      <td>0.239599</td>\n",
              "      <td>0.098698</td>\n",
              "      <td>0.363787</td>\n",
              "      <td>0.090794</td>\n",
              "      <td>-0.551600</td>\n",
              "      <td>-0.617801</td>\n",
              "      <td>-0.991390</td>\n",
              "      <td>-0.311169</td>\n",
              "      <td>1.468177</td>\n",
              "      <td>-0.470401</td>\n",
              "      <td>0.207971</td>\n",
              "      <td>0.025791</td>\n",
              "      <td>0.403993</td>\n",
              "      <td>0.251412</td>\n",
              "      <td>-0.018307</td>\n",
              "      <td>0.277838</td>\n",
              "      <td>-0.110474</td>\n",
              "      <td>0.066928</td>\n",
              "      <td>0.128539</td>\n",
              "      <td>-0.189115</td>\n",
              "      <td>0.133558</td>\n",
              "      <td>-0.021053</td>\n",
              "      <td>149.62</td>\n",
              "      <td>0</td>\n",
              "    </tr>\n",
              "    <tr>\n",
              "      <th>1</th>\n",
              "      <td>0.0</td>\n",
              "      <td>1.191857</td>\n",
              "      <td>0.266151</td>\n",
              "      <td>0.166480</td>\n",
              "      <td>0.448154</td>\n",
              "      <td>0.060018</td>\n",
              "      <td>-0.082361</td>\n",
              "      <td>-0.078803</td>\n",
              "      <td>0.085102</td>\n",
              "      <td>-0.255425</td>\n",
              "      <td>-0.166974</td>\n",
              "      <td>1.612727</td>\n",
              "      <td>1.065235</td>\n",
              "      <td>0.489095</td>\n",
              "      <td>-0.143772</td>\n",
              "      <td>0.635558</td>\n",
              "      <td>0.463917</td>\n",
              "      <td>-0.114805</td>\n",
              "      <td>-0.183361</td>\n",
              "      <td>-0.145783</td>\n",
              "      <td>-0.069083</td>\n",
              "      <td>-0.225775</td>\n",
              "      <td>-0.638672</td>\n",
              "      <td>0.101288</td>\n",
              "      <td>-0.339846</td>\n",
              "      <td>0.167170</td>\n",
              "      <td>0.125895</td>\n",
              "      <td>-0.008983</td>\n",
              "      <td>0.014724</td>\n",
              "      <td>2.69</td>\n",
              "      <td>0</td>\n",
              "    </tr>\n",
              "    <tr>\n",
              "      <th>2</th>\n",
              "      <td>1.0</td>\n",
              "      <td>-1.358354</td>\n",
              "      <td>-1.340163</td>\n",
              "      <td>1.773209</td>\n",
              "      <td>0.379780</td>\n",
              "      <td>-0.503198</td>\n",
              "      <td>1.800499</td>\n",
              "      <td>0.791461</td>\n",
              "      <td>0.247676</td>\n",
              "      <td>-1.514654</td>\n",
              "      <td>0.207643</td>\n",
              "      <td>0.624501</td>\n",
              "      <td>0.066084</td>\n",
              "      <td>0.717293</td>\n",
              "      <td>-0.165946</td>\n",
              "      <td>2.345865</td>\n",
              "      <td>-2.890083</td>\n",
              "      <td>1.109969</td>\n",
              "      <td>-0.121359</td>\n",
              "      <td>-2.261857</td>\n",
              "      <td>0.524980</td>\n",
              "      <td>0.247998</td>\n",
              "      <td>0.771679</td>\n",
              "      <td>0.909412</td>\n",
              "      <td>-0.689281</td>\n",
              "      <td>-0.327642</td>\n",
              "      <td>-0.139097</td>\n",
              "      <td>-0.055353</td>\n",
              "      <td>-0.059752</td>\n",
              "      <td>378.66</td>\n",
              "      <td>0</td>\n",
              "    </tr>\n",
              "  </tbody>\n",
              "</table>\n",
              "</div>"
            ],
            "text/plain": [
              "   Time        V1        V2        V3  ...       V27       V28  Amount  Class\n",
              "0   0.0 -1.359807 -0.072781  2.536347  ...  0.133558 -0.021053  149.62      0\n",
              "1   0.0  1.191857  0.266151  0.166480  ... -0.008983  0.014724    2.69      0\n",
              "2   1.0 -1.358354 -1.340163  1.773209  ... -0.055353 -0.059752  378.66      0\n",
              "\n",
              "[3 rows x 31 columns]"
            ]
          },
          "metadata": {
            "tags": []
          },
          "execution_count": 19
        }
      ]
    },
    {
      "cell_type": "code",
      "metadata": {
        "id": "4Yf1pNhuo4NY"
      },
      "source": [
        "from sklearn.model_selection import train_test_split\n",
        "\n",
        "# 인자로 입력받은 DataFrame을 복사한 뒤 Time 칼럼만 삭제하고 복사된 DataFrame 반환\n",
        "def get_preprocessed_df(df=None):\n",
        "  df_copy = df.copy()\n",
        "  df_copy.drop('Time', axis=1, inplace=True)\n",
        "  return df_copy"
      ],
      "execution_count": 20,
      "outputs": []
    },
    {
      "cell_type": "code",
      "metadata": {
        "id": "au0BEfvppaAh"
      },
      "source": [
        "# 사전 데이터 가공 후 학습과 테스트 데이터 세트를 반환하는 함수.\n",
        "def get_train_test_dataset(df=None):\n",
        "  # 인자로 입력된 DataFrame의 사전 데이터 가공이 완료된 복사 DataFrame 반환\n",
        "  df_copy = get_preprocessed_df(df)\n",
        "  # DataFrame의 맨 마지막 칼럼이 레이블, 나머지는 피처들\n",
        "  X_features = df_copy.iloc[:, :-1]\n",
        "  y_target = df_copy.iloc[:, -1]\n",
        "  # train_test_split()으로 학습과 테스트 데이터 분할. stratify=y_target으로 Stratified 기반 분할\n",
        "  X_train, X_test, y_train, y_test = train_test_split(X_features, y_target, test_size=0.3, random_state=0, stratify=y_target)\n",
        "  # 학습과 테스트 데이터 세트 반환\n",
        "  return X_train, X_test, y_train, y_test\n",
        "\n",
        "X_train, X_test, y_train, y_test = get_train_test_dataset(card_df)"
      ],
      "execution_count": 21,
      "outputs": []
    },
    {
      "cell_type": "code",
      "metadata": {
        "colab": {
          "base_uri": "https://localhost:8080/"
        },
        "id": "e-VjpCLcqRdG",
        "outputId": "ffaf6487-c471-412b-86bb-0a89d06648e1"
      },
      "source": [
        "print('학습 데이터 레이블 값 비율')\n",
        "print(y_train.value_counts()/y_train.shape[0] * 100)\n",
        "print('테스트 데이터 레이블 값 비율')\n",
        "print(y_test.value_counts()/y_test.shape[0] * 100)"
      ],
      "execution_count": 22,
      "outputs": [
        {
          "output_type": "stream",
          "text": [
            "학습 데이터 레이블 값 비율\n",
            "0    99.827451\n",
            "1     0.172549\n",
            "Name: Class, dtype: float64\n",
            "테스트 데이터 레이블 값 비율\n",
            "0    99.826785\n",
            "1     0.173215\n",
            "Name: Class, dtype: float64\n"
          ],
          "name": "stdout"
        }
      ]
    },
    {
      "cell_type": "markdown",
      "metadata": {
        "id": "mJRZuX58qmLc"
      },
      "source": [
        "\n",
        "학습 데이터 레이블의 경우 1값이 약 0.172%, 테스트 데이터 레이블의 경우 1 값이 약 0.173%로 큰 차이 없이 잘 분할 되었음\n",
        "\n"
      ]
    },
    {
      "cell_type": "code",
      "metadata": {
        "id": "di1SgBGxqj-x"
      },
      "source": [
        "from sklearn.linear_model import LogisticRegression"
      ],
      "execution_count": 23,
      "outputs": []
    },
    {
      "cell_type": "code",
      "metadata": {
        "id": "NgvD_Cxlrdtw"
      },
      "source": [
        "from sklearn.metrics import accuracy_score, precision_score, recall_score, roc_auc_score\n",
        "from sklearn.metrics import f1_score, confusion_matrix, precision_recall_curve, roc_curve\n",
        "\n",
        "def get_clf_eval(y_test, pred=None, pred_proba=None):\n",
        "  confusion = confusion_matrix( y_test, pred)\n",
        "  accuracy = accuracy_score(y_test, pred)\n",
        "  precision = precision_score(y_test, pred)\n",
        "  recall = recall_score(y_test, pred)\n",
        "  f1 = f1_score(y_test, pred)\n",
        "  # ROC-AUC 추가\n",
        "  roc_auc = roc_auc_score(y_test, pred_proba)\n",
        "  print('오차 행렬')\n",
        "  print(confusion)\n",
        "  # ROC-AUC 추가\n",
        "  print('정확도: {0:.4f}, 정밀도: {1:.4f}, 재현율: {2:.4f}, F1: {3:.4f}, AUC:{4:.4f}'.format(accuracy, precision, recall, f1, roc_auc))"
      ],
      "execution_count": 24,
      "outputs": []
    },
    {
      "cell_type": "code",
      "metadata": {
        "colab": {
          "base_uri": "https://localhost:8080/"
        },
        "id": "IvKTzXz4q3aZ",
        "outputId": "00838a72-a053-41ec-bed2-26c9901eaab0"
      },
      "source": [
        "lr_clf = LogisticRegression()\n",
        "lr_clf.fit(X_train, y_train)\n",
        "lr_pred = lr_clf.predict(X_test)\n",
        "lr_pred_proba = lr_clf.predict_proba(X_test)[:, 1]\n",
        "\n",
        "# get_clf_eval() 함수를 이용해 평가 수행.\n",
        "get_clf_eval(y_test, lr_pred, lr_pred_proba)"
      ],
      "execution_count": 25,
      "outputs": [
        {
          "output_type": "stream",
          "text": [
            "오차 행렬\n",
            "[[85280    15]\n",
            " [   55    93]]\n",
            "정확도: 0.9992, 정밀도: 0.8611, 재현율: 0.6284, F1: 0.7266, AUC:0.9568\n"
          ],
          "name": "stdout"
        }
      ]
    },
    {
      "cell_type": "markdown",
      "metadata": {
        "id": "F0gcifp7rvYt"
      },
      "source": [
        "테스트 데이터 세트로 측정 시 재현율 0.6284, ROC-AUC:0.9568\n",
        "\n",
        "---\n",
        "<br>\n",
        "\n",
        "이번엔 `LightGBM`을 이용한 모델을 생성\n",
        "\n",
        "그에 앞서, 앞으로 수행할 예제 코드에서 반복적으로 모델을 변경해 학습/예측/평가할 것이므로 이를 위한 벼로의 함수를 생성한다.\n",
        "\n",
        "\n",
        "`get_model_train_eval()`는 인자로 사이킷런의 Estimator 객체와 학습/테스트 데이터 세트를 입력 받아서 학습/예측/평가를 수행하는 역할을 하는 함수이다.\n"
      ]
    },
    {
      "cell_type": "code",
      "metadata": {
        "id": "6h73-716q3-B"
      },
      "source": [
        "# 인자로 사이킷런의 Estimator 객체와 학습/테스트 데이터 세트를 입력 받아서 학습/예측/평가 수행.\n",
        "def get_model_train_eval(model, ftr_train=None, ftr_test=None, tgt_train=None, tgt_test=None):\n",
        "  model.fit(ftr_train, tgt_train)\n",
        "  pred = model.predict(ftr_test)\n",
        "  pred_proba = model.predict_proba(ftr_test)[:, 1]\n",
        "  get_clf_eval(tgt_test, pred, pred_proba)"
      ],
      "execution_count": 26,
      "outputs": []
    },
    {
      "cell_type": "markdown",
      "metadata": {
        "id": "nYC_NrZDsW0e"
      },
      "source": [
        "\n",
        "먼저, 본 데이터 세트는 극도로 불균형한 레이블 값 분포도를 가지고 있으므로 LGBMClassifier 객체 생성 시 boost_from_average=False로 파라미터를 설정해야 한다."
      ]
    },
    {
      "cell_type": "code",
      "metadata": {
        "id": "coCsZvMGq363"
      },
      "source": [
        "from lightgbm import LGBMClassifier"
      ],
      "execution_count": 27,
      "outputs": []
    },
    {
      "cell_type": "code",
      "metadata": {
        "colab": {
          "base_uri": "https://localhost:8080/"
        },
        "id": "f-utQBqAq3z4",
        "outputId": "1f6853c6-f723-4022-8a23-67670e241a1f"
      },
      "source": [
        "lgbm_clf = LGBMClassifier(n_estimators=1000, num_leaves=64, n_jobs=-1, boost_from_average=False)\n",
        "\n",
        "get_model_train_eval(lgbm_clf, ftr_train=X_train, ftr_test=X_test, tgt_train=y_train, tgt_test=y_test)"
      ],
      "execution_count": 28,
      "outputs": [
        {
          "output_type": "stream",
          "text": [
            "오차 행렬\n",
            "[[85289     6]\n",
            " [   36   112]]\n",
            "정확도: 0.9995, 정밀도: 0.9492, 재현율: 0.7568, F1: 0.8421, AUC:0.9797\n"
          ],
          "name": "stdout"
        }
      ]
    },
    {
      "cell_type": "markdown",
      "metadata": {
        "id": "PyEhPVcPtLZc"
      },
      "source": [
        "\n",
        "재현율 0.7568, ROC-AUC 0.9797로 앞의 로지스틱 회귀보다 높은 수치를 나타냄.\n",
        "\n"
      ]
    },
    {
      "cell_type": "markdown",
      "metadata": {
        "id": "TWK3csa8tURQ"
      },
      "source": [
        "<br>\n",
        "\n",
        "---\n",
        "\n",
        "### 데이터 분포도 변환 후 모델 학습/예측/평가\n",
        "\n",
        "이번에는 왜곡된 분포도를 가지는 데이터를 재가공한 뒤에 모델을 다시 테스트흔다.\n",
        "\n",
        "먼저 creditcard.csv의 중요 피처 값의 분포도를 살펴본다.\n",
        "\n",
        "로지스틱 회귀는 선형 모델이다. 대부분의 선형 모델은 중요 피처들의 값이 정규 분포 형태를 유지하는 것을 선호한다.\n",
        "\n",
        "Amount 피처는 신용 카드 금액으로 정상/사기 트랜잭션을 결정하는 매우 중요한 속성일 가능성이 높은데, 이 Amount 피처의 분포도를 확인한다.\n",
        "\n"
      ]
    },
    {
      "cell_type": "code",
      "metadata": {
        "id": "nZ1U1ZOvq3ZG"
      },
      "source": [
        "import seaborn as sns"
      ],
      "execution_count": 29,
      "outputs": []
    },
    {
      "cell_type": "code",
      "metadata": {
        "colab": {
          "base_uri": "https://localhost:8080/",
          "height": 320
        },
        "id": "Lu3COVdhtZT8",
        "outputId": "1928e499-1f65-42e7-b421-79caa408bc03"
      },
      "source": [
        "plt.figure(figsize=(8, 4))\n",
        "plt.xticks(range(0, 30000, 1000), rotation=60)\n",
        "sns.distplot(card_df['Amount'])"
      ],
      "execution_count": 33,
      "outputs": [
        {
          "output_type": "execute_result",
          "data": {
            "text/plain": [
              "<matplotlib.axes._subplots.AxesSubplot at 0x7f0022a02490>"
            ]
          },
          "metadata": {
            "tags": []
          },
          "execution_count": 33
        },
        {
          "output_type": "display_data",
          "data": {
            "image/png": "[encoded data removed]",
            "text/plain": [
              "<Figure size 576x288 with 1 Axes>"
            ]
          },
          "metadata": {
            "tags": [],
            "needs_background": "light"
          }
        }
      ]
    },
    {
      "cell_type": "markdown",
      "metadata": {
        "id": "yER8Fh5IvrRF"
      },
      "source": [
        "Amount, 즉 카드 사용금액이 1000불 이하인 데이터가 대부분이며, 27,000불까지 드물지만 많은 금액을 사용한 경우가 발생하면서 꼬리가 긴 형태의 분포 곡선을 가지고 있다.\n",
        "\n",
        "Amount를 표준 정규 분포 형태로 변환한 뒤에 로지스틱 회구의 예측 성능을 측정한다.\n",
        "\n",
        "이를 위해 앞에서 만든 get_processed_df() 함수를 다음과 같이 사이킷런의 StandardScaler 클래스를 이용해 Amount 피처를 정규 분포 형태로 변환하는 코드로 변경한다.\n",
        "\n"
      ]
    },
    {
      "cell_type": "code",
      "metadata": {
        "id": "a8ZwVhGPvoL_"
      },
      "source": [
        "from sklearn.preprocessing import StandardScaler\n",
        "# 사이킷런의 StandardScaler를 이용해 정규 분포 형태로 Amount 피처값 변환하는 로직으로 수정.\n",
        "\n",
        "def get_preprocessed_df(df=None):\n",
        "  df_copy = df.copy()\n",
        "  scaler = StandardScaler()\n",
        "  amount_n = scaler.fit_transform(df_copy['Amount'].values.reshape(-1, 1))\n",
        "  # 변환된 Amount를 Amount_Scaled로 피처명 변경후 DataFrame맨 앞 칼럼으로 입력\n",
        "  df_copy.insert(0, 'Amount_Scaled', amount_n)\n",
        "  # 기존 Time, Amount 피처 삭제\n",
        "  df_copy.drop(['Time', 'Amount'], axis=1, inplace=True)\n",
        "  return df_copy"
      ],
      "execution_count": 34,
      "outputs": []
    },
    {
      "cell_type": "markdown",
      "metadata": {
        "id": "xjcrmDyNwo1L"
      },
      "source": [
        "\n",
        "함수를 수정한 후 get_train_test_dataset()를 호출해 학습/테스트 데이터 세트를 생성한 후에 get_model_train_eval()를 이용해 로지스틱 회귀와 LightGBM 모델을 각각 학습/예측/평가 한다.\n",
        "\n"
      ]
    },
    {
      "cell_type": "code",
      "metadata": {
        "colab": {
          "base_uri": "https://localhost:8080/"
        },
        "id": "cFj2OO9WvoJQ",
        "outputId": "27cd4fde-b6a9-4632-acb1-a74301e824c6"
      },
      "source": [
        "# Amount를 정규 분포 형태로 변환 후 로지스틱 회귀 및 LightGBM 수행.\n",
        "X_train, X_test, y_train, y_test = get_train_test_dataset(card_df)\n",
        "\n",
        "print('### 로지스틱 회귀 예측 성능 ###')\n",
        "lr_clf = LogisticRegression()\n",
        "get_model_train_eval(lr_clf, ftr_train=X_train, ftr_test=X_test, tgt_train=y_train, tgt_test=y_test)\n",
        "\n",
        "print('### LightGBM 예측 성능 ###')\n",
        "lgbm_clf = LGBMClassifier(n_estimators=1000, num_leaves=64, n_jobs=-1, boost_from_average=False)\n",
        "get_model_train_eval(lgbm_clf, ftr_train=X_train, ftr_test=X_test, tgt_train=y_train, tgt_test=y_test)"
      ],
      "execution_count": 47,
      "outputs": [
        {
          "output_type": "stream",
          "text": [
            "### 로지스틱 회귀 예측 성능 ###\n",
            "오차 행렬\n",
            "[[85281    14]\n",
            " [   48    98]]\n",
            "정확도: 0.9993, 정밀도: 0.8750, 재현율: 0.6712, F1: 0.7597, AUC:0.9743\n",
            "### LightGBM 예측 성능 ###\n",
            "오차 행렬\n",
            "[[85291     4]\n",
            " [   25   121]]\n",
            "정확도: 0.9997, 정밀도: 0.9680, 재현율: 0.8288, F1: 0.8930, AUC:0.9831\n"
          ],
          "name": "stdout"
        }
      ]
    },
    {
      "cell_type": "markdown",
      "metadata": {
        "id": "SpipmPqByiA0"
      },
      "source": [
        "\n",
        "정규 분포 형태로 Amount 피처값을 변환한 후 테스트 데이터 세트에 적용한 로지스틱 회귀 및 LightGBM 두 모델 모두 변환 이전과 비교해 성능이 크게 개선되지는 않았다.\n",
        "\n"
      ]
    },
    {
      "cell_type": "markdown",
      "metadata": {
        "id": "KATXMzCsyrXB"
      },
      "source": [
        "\n",
        "---\n",
        "\n",
        "<br>\n",
        "\n",
        "이번에는 StandardScaler가 아니라 로그 변환을 수행한다.\n",
        "\n",
        "로그 변환은 데이터 분포도가 심하게 왜곡되어 있을 경우 적용하는 중요 기법 중에 하나이다.\n",
        "\n",
        "원래 값을 log 값으로 변환해 원래 큰 값을 상대적으로 작은 값으로 변환하기 때문에 데이터 분포도의 왜곡을 상당 수준 개선해준다. - 이는 5장에서 더 자세하게 다룬다.\n",
        "\n",
        "데이터 가공 함수인 get_preprocessed_df()를 로그 변환 로직으로 변경한다.\n",
        "\n"
      ]
    },
    {
      "cell_type": "code",
      "metadata": {
        "id": "H4o82KPavoGL"
      },
      "source": [
        "def get_preprocessed_df(df=None):\n",
        "  df_copy = df.copy()\n",
        "  # 넘파이의 log1p()를 이용해 Amount를 로그 변환\n",
        "  amount_n = np.log1p(df_copy['Amount'])\n",
        "  df_copy.insert(0, 'Amount_Scaled', amount_n)\n",
        "  df_copy.drop(['Time', 'Amount'], axis=1, inplace=True)\n",
        "  return df_copy\n",
        "  "
      ],
      "execution_count": 36,
      "outputs": []
    },
    {
      "cell_type": "code",
      "metadata": {
        "colab": {
          "base_uri": "https://localhost:8080/"
        },
        "id": "AIbajVnLtZYj",
        "outputId": "3f82bf2d-9be4-4122-9c11-c21f4494c61e"
      },
      "source": [
        "X_train, X_test, y_train, y_test = get_train_test_dataset(card_df)\n",
        "\n",
        "print('### 로지스틱 회귀 예측 성능 ###')\n",
        "get_model_train_eval(lr_clf, ftr_train=X_train, ftr_test=X_test, tgt_train=y_train, tgt_test=y_test)\n",
        "\n",
        "print('### LightGBM 예측 성능 ###')\n",
        "get_model_train_eval(lgbm_clf, ftr_train=X_train, ftr_test=X_test, tgt_train=y_train, tgt_test=y_test)"
      ],
      "execution_count": 48,
      "outputs": [
        {
          "output_type": "stream",
          "text": [
            "### 로지스틱 회귀 예측 성능 ###\n",
            "오차 행렬\n",
            "[[85281    14]\n",
            " [   48    98]]\n",
            "정확도: 0.9993, 정밀도: 0.8750, 재현율: 0.6712, F1: 0.7597, AUC:0.9743\n",
            "### LightGBM 예측 성능 ###\n",
            "오차 행렬\n",
            "[[85291     4]\n",
            " [   25   121]]\n",
            "정확도: 0.9997, 정밀도: 0.9680, 재현율: 0.8288, F1: 0.8930, AUC:0.9831\n"
          ],
          "name": "stdout"
        }
      ]
    },
    {
      "cell_type": "markdown",
      "metadata": {
        "id": "KHLHWuz_0e5u"
      },
      "source": [
        "\n",
        "두 모델 모두 정밀도, 재현율, ROC-AUC에서 약간씩 성능이 개선되었음을 나타내고 있다.\n",
        "\n",
        "<br>\n",
        "\n",
        "---\n",
        "\n",
        "<br>"
      ]
    },
    {
      "cell_type": "markdown",
      "metadata": {
        "id": "685HKPSH0nZq"
      },
      "source": [
        "### 이상치 데이터 제거 후 모델 학습/예측/평가\n",
        "\n",
        "이상치 데이터(Outlier)는 전체 데이터의 패턴에서 벗어난 이상 값을 가진 데이터이며, 아웃라이어라고도 불린다.\n",
        "\n",
        "이상치로 인해 머신러닝 모델의 성능에 영향을 받는 경우가 발생하기 쉽다.\n",
        "\n",
        "이러한 이상치를 찾아내는 방법을 알아보고, 이들 데이터를 제거한 뒤에 다시 모델을 평가한다.\n",
        "\n",
        "이상치를 찾는 방법은 여러 가지가 있다. 이 중, `IQR(Inter Quantile Range)` 방식을 적용한다.\n",
        "\n",
        "`IQR`은 사분위(Qunatile) 값의 편차를 이용하는 기법으로 흔히 박스 플롯 (Box Plot) 방식으로 시각화 할 수 있다.\n",
        "\n",
        "<br>\n",
        "\n",
        "---\n",
        "\n",
        "먼저 사분위에 대해 알아본다. 사분위는 전체 데이터를 값이 높은 순으로 정렬하고, 이를 1/4(25%) 씩으로 구간을 분할하는 것을 지칭한다.\n",
        "\n",
        "가령 100명의 시험 성적이 0점부터 100점까지 있다면, 이를 100등부터 1등까지 성적순으로 정렬한 뒤에 1/4 구간으로 Q1, Q2, Q3, Q4 와 같이 나누는 것이다.\n",
        "\n",
        "이들 중 25% 구간인 Q1 ~ 75% 구간인 Q3의 범위를 IQR이라고 한다.\n",
        "\n",
        "<br>\n",
        "\n",
        "IQR을 이용해 이상치 데이터를 검출하는 방식은 보통 IQR에 1.5를 곱해서 생성된 범위를 이용해 최댓값과 최솟값을 결정한 뒤 최댓값을 초과하거나 최솟값에 미달하는 데이터를 이상치로 간주하는 것이다\n",
        "\n",
        "3/4 분위수(Q3)에 IQR * 1.5를 더해서 일반적인 데이터가 가질 수 있는 최댓값으로 가정하고, 1/4 분위수(Q1)에 IQR * 1.5를 빼서 일반적인 데이터가 가질 수 있는 최솟값으로 가정한다.\n",
        "\n",
        "경우에 따라서 1.5가 아닌 다른 값을 적용할 수도 있으며, 보통은 1.5를 적용한다.\n",
        "\n",
        "이렇게 결정된 최댓값보다 큰 값 또는 최솟값보다 작은 값을 이상치 데이터로 간주한다.\n",
        "\n",
        "IQR 방식을 시각화한 도표가 박스 플롯이다.\n",
        "\n",
        "플롯은 다음과 같은 표현 방식으로 사분위의 편차와 IQR, 그리고 이상치를 나타낸다.\n",
        "\n"
      ]
    },
    {
      "cell_type": "code",
      "metadata": {
        "colab": {
          "base_uri": "https://localhost:8080/",
          "height": 588
        },
        "id": "PUPKNfxK2NxA",
        "outputId": "5461e36a-8236-4cf1-c239-eb5bed152786"
      },
      "source": [
        "plt.figure(figsize=(9,9))\n",
        "corr = card_df.corr()\n",
        "sns.heatmap(corr, cmap='RdBu')"
      ],
      "execution_count": 38,
      "outputs": [
        {
          "output_type": "execute_result",
          "data": {
            "text/plain": [
              "<matplotlib.axes._subplots.AxesSubplot at 0x7f0021f74110>"
            ]
          },
          "metadata": {
            "tags": []
          },
          "execution_count": 38
        },
        {
          "output_type": "display_data",
          "data": {
            "image/png": "[encoded data removed]",
            "text/plain": [
              "<Figure size 648x648 with 2 Axes>"
            ]
          },
          "metadata": {
            "tags": [],
            "needs_background": "light"
          }
        }
      ]
    },
    {
      "cell_type": "markdown",
      "metadata": {
        "id": "CJMTcvnA5zP3"
      },
      "source": [
        ""
      ]
    },
    {
      "cell_type": "code",
      "metadata": {
        "id": "ZwzT6LaXzyIG"
      },
      "source": [
        "def get_outlier(df=None, column=None, weight=1.5):\n",
        "  # fraud에 해당하는 column 데이터만 추출, 1/4 분위와 3/4 분위 지점을 np.percentile로 구함.\n",
        "  fraud = df[df['Class']==1][column]\n",
        "  quantile_25 = np.percentile(fraud.values, 25)\n",
        "  quantile_75 = np.percentile(fraud.values, 75)\n",
        "  # IQR을 구하고, IQR에 1.5를 곱해 최댓값과 최솟값 지점 구함.\n",
        "  iqr = quantile_75 - quantile_25\n",
        "  iqr_weight = iqr * weight\n",
        "  lowest_val = quantile_25 - iqr_weight\n",
        "  highest_val = quantile_75 + iqr_weight\n",
        "  # 최댓값보다 크거나 최솟값보다 작은 값을 이상치 데이터로 설정하고 DataFrame index  반환\n",
        "\n",
        "  outlier_index = fraud[(fraud < lowest_val) | (fraud > highest_val)].index\n",
        "  return outlier_index"
      ],
      "execution_count": 43,
      "outputs": []
    },
    {
      "cell_type": "code",
      "metadata": {
        "colab": {
          "base_uri": "https://localhost:8080/"
        },
        "id": "Gqhzxb1Z62xV",
        "outputId": "5bdf6025-de75-4a82-cf0b-1acbe2f4edaf"
      },
      "source": [
        "outlier_index = get_outlier(df=card_df, column='V14', weight=1.5)\n",
        "print('이상치 데이터 인덱스:', outlier_index)"
      ],
      "execution_count": 45,
      "outputs": [
        {
          "output_type": "stream",
          "text": [
            "이상치 데이터 인덱스: Int64Index([8296, 8615, 9035, 9252], dtype='int64')\n"
          ],
          "name": "stdout"
        }
      ]
    },
    {
      "cell_type": "markdown",
      "metadata": {
        "id": "HWOSlzEZ7SHW"
      },
      "source": [
        "\n",
        "총 4개의 데이터인 8296, 8615, 9035, 9252 번 Index가 이상치로 추출되었다.\n",
        "\n",
        "get_outlier()를 이용해 이상치를 추출하고 이를 삭제하는 로직을 get_processed_df() 함수에 추가해 데이터를 가공한 뒤 이 데이터 세트를 이용해 로지스틱 회귀와 LightGBM 모델을 다시 적용한다.\n"
      ]
    },
    {
      "cell_type": "code",
      "metadata": {
        "colab": {
          "base_uri": "https://localhost:8080/"
        },
        "id": "d8fQC-cl7Kua",
        "outputId": "bcee1592-64ad-4eda-9615-ee356444e422"
      },
      "source": [
        "# get_processed_df()를 로그 변환 후 V14 피처의 이상치 데이터를 삭제하는 로직으로 변경.\n",
        "\n",
        "def get_preprocessed_df(df=None):\n",
        "  df_copy = df.copy()\n",
        "  amount_n = np.log1p(df_copy['Amount'])\n",
        "  df_copy.insert(0, 'Amount_Scaled', amount_n)\n",
        "  df_copy.drop(['Time', 'Amount'], axis=1, inplace=True)\n",
        "  # 이상치 데이터 삭제하는 로직 추가\n",
        "  outlier_index = get_outlier(df=df_copy, column='V14', weight=1.5)\n",
        "  df_copy.drop(outlier_index, axis=0, inplace=True)\n",
        "  return df_copy\n",
        "\n",
        "X_train, X_test, y_train, y_test = get_train_test_dataset(card_df)\n",
        "print('### 로지스틱 회귀 예측 성능 ###')\n",
        "get_model_train_eval(lr_clf, ftr_train=X_train, ftr_test=X_test, tgt_train=y_train, tgt_test=y_test)\n",
        "\n",
        "print('### LightGBM 예측 성능 ###')\n",
        "get_model_train_eval(lgbm_clf, ftr_train=X_train, ftr_test=X_test, tgt_train=y_train, tgt_test=y_test)"
      ],
      "execution_count": 49,
      "outputs": [
        {
          "output_type": "stream",
          "text": [
            "### 로지스틱 회귀 예측 성능 ###\n",
            "오차 행렬\n",
            "[[85281    14]\n",
            " [   48    98]]\n",
            "정확도: 0.9993, 정밀도: 0.8750, 재현율: 0.6712, F1: 0.7597, AUC:0.9743\n",
            "### LightGBM 예측 성능 ###\n",
            "오차 행렬\n",
            "[[85291     4]\n",
            " [   25   121]]\n",
            "정확도: 0.9997, 정밀도: 0.9680, 재현율: 0.8288, F1: 0.8930, AUC:0.9831\n"
          ],
          "name": "stdout"
        }
      ]
    },
    {
      "cell_type": "markdown",
      "metadata": {
        "id": "LfsLyREA_OSX"
      },
      "source": [
        "\n",
        "이상치 데이터를 제거한 뒤, 로지스틱 회귀와 LightGBM 모두 예측 성능이 크게 향상되었다.\n",
        "\n",
        "로지스틱 회귀의 경우 재현율이 60.81%에서 67.12%로 크게 증가했으며, LightGBM의 경우도 76.35%에서 82.88%로 역시 크게 증가했다.\n",
        "\n",
        "<br>\n",
        "\n",
        "---\n",
        "\n"
      ]
    },
    {
      "cell_type": "markdown",
      "metadata": {
        "id": "npPHQZFn_idS"
      },
      "source": [
        "### SMOTE 오버 샘플링 적용 후 모델 학습/예측/평가\n",
        "\n",
        "이번에는 SMOTE 기법으로 오버 샘플링을 적용한 뒤 로지스틱 회귀와 LightGBM 모델의예측 성능을 평가한다.\n",
        "\n",
        "먼저 SMOTE는 앞서 설치한 imbalanced-learn 패키지의 SMOTE 클래스를 이용해 간단하게 구현 가능하다.\n",
        "\n",
        "SMOTE를 적용할 때는 반드시 학습 데이터 세트만 오버 샘플링 해야한다.\n",
        "\n",
        "검증 데이터 세트나 테스트 데이터 세트를 오버샘플링할 경우 결국은 원본 데이터 세트가 아닌 데이터 세트에서 검증 또는 테스트를 수행하기 때문에 올바른 검증/테스트가 될 수 없다.\n",
        "\n"
      ]
    },
    {
      "cell_type": "code",
      "metadata": {
        "colab": {
          "base_uri": "https://localhost:8080/"
        },
        "id": "K3ZBpZU-_f9l",
        "outputId": "ebcb1c8a-8360-4f67-bd2c-76d73c780740"
      },
      "source": [
        "from imblearn.over_sampling import SMOTE\n",
        "\n",
        "smote = SMOTE(random_state=0)\n",
        "X_train_over, y_train_over = smote.fit_sample(X_train, y_train)\n",
        "print('SMOTE 적용 전 피처/레이블 데이터 세트: ', X_train.shape, y_train.shape)\n",
        "print('SMOTE 적용 후 학습용 피처/레이블 데이터 세트: ', X_train_over.shape, y_train_over.shape)\n",
        "print('SMOTE 적용 후 레이블 값 분포: \\n', pd.Series(y_train_over).value_counts())"
      ],
      "execution_count": 52,
      "outputs": [
        {
          "output_type": "stream",
          "text": [
            "SMOTE 적용 전 피처/레이블 데이터 세트:  (199362, 29) (199362,)\n",
            "SMOTE 적용 후 학습용 피처/레이블 데이터 세트:  (398040, 29) (398040,)\n",
            "SMOTE 적용 후 레이블 값 분포: \n",
            " 1    199020\n",
            "0    199020\n",
            "dtype: int64\n"
          ],
          "name": "stdout"
        }
      ]
    },
    {
      "cell_type": "markdown",
      "metadata": {
        "id": "bPdgyoSQAz_y"
      },
      "source": [
        "SMOTE 적용 전 학습 데이터는 199362 건이었지만\n",
        "\n",
        "SMOTE 적용 후 2배에 가까운 398040 건으로 데이터가 증식 되었음.\n",
        "\n",
        "그리고 SMOTE 적용 후 레이블 값이 0과 1의 분포가 동일하게 199020 건으로 생성되었다.\n",
        "\n",
        "이제 이렇게 생성된 데이터 세트를 기반으로 먼저 로지스틱 회귀 모델을 학습한 뒤 성능을 평가한다.\n"
      ]
    },
    {
      "cell_type": "code",
      "metadata": {
        "colab": {
          "base_uri": "https://localhost:8080/"
        },
        "id": "k9Gtpg2y8erJ",
        "outputId": "9633e542-837d-4390-e3f5-1b47def3958e"
      },
      "source": [
        "lr_clf = LogisticRegression()\n",
        "# ftr_train과 tgt_train 인자값이 SMOTE 증식된 X_train_over와 y_train_over로 변경됨에 유의\n",
        "get_model_train_eval(lr_clf, ftr_train=X_train_over, ftr_test=X_test, tgt_train=y_train_over, tgt_test=y_test)"
      ],
      "execution_count": 53,
      "outputs": [
        {
          "output_type": "stream",
          "text": [
            "오차 행렬\n",
            "[[82937  2358]\n",
            " [   11   135]]\n",
            "정확도: 0.9723, 정밀도: 0.0542, 재현율: 0.9247, F1: 0.1023, AUC:0.9737\n"
          ],
          "name": "stdout"
        }
      ]
    },
    {
      "cell_type": "markdown",
      "metadata": {
        "id": "Rk8N8w1DBaqq"
      },
      "source": [
        "로지스틱 회귀 모델의 경우 SMOTE로 오버 샘플링된 데이터로 학습할 경우 재현율이 92.47%로 크게 증가하지만,\n",
        "\n",
        "반대로 정밀도가 5.4%로 급격하게 저하된다.\n",
        "\n",
        "재현율이 높더라도 이 정도로 저조한 정밀도로는 현실 업무에 적용할 수 없다.\n",
        "\n",
        "이는 로지스틱 회귀 모델이 오버 샘플링으로 인해 실제 원본 데이터의 유형보다 너무나 많은 Class=1 데이터를 학습하면서 실제 테스트 데이터 세트에서 예측을 지나치게 Class=1로 적용해 정밀도가 급격히 떨어지게 된 것이다.\n",
        "\n",
        "분류 결정 임곗값에 따른 정밀도와 재현율 곡선을 통해 SMOTE로 학습된 로지스틱 회귀 모델에 어떠한 문제가 발생하고 있는지 시각적으로 확인한다.\n",
        "\n"
      ]
    },
    {
      "cell_type": "code",
      "metadata": {
        "id": "5hD5ttnBCGaw"
      },
      "source": [
        "def precision_recall_curve_plot(y_test, pred_proba_c1):\n",
        "  # threshold ndarray와 이 threshold에 따른 정밀도, 재현율 ndarray 추출.\n",
        "  precisions, recalls, thresholds = precision_recall_curve( y_test, pred_proba_c1)\n",
        "\n",
        "  # X축을 threshold 값으로, Y축은 정밀도, 재현율 값으로 각각 Plot 수행, 정밀도는 점선으로 표시\n",
        "  plt.figure(figsize=(8, 6))\n",
        "  threshold_boundary = thresholds.shape[0]\n",
        "  plt.plot(thresholds, precisions[0:threshold_boundary], linestyle='-', label='precision')\n",
        "  plt.plot(thresholds, recalls[0:threshold_boundary], label='recall')\n",
        "\n",
        "  # threshold 값 X 축의 Scale을 0.1 단위로 변경\n",
        "  start, end = plt.xlim()\n",
        "  plt.xticks(np.round(np.arange(start, end, 0.1), 2))\n",
        "  \n",
        "  # x축, y축 label과 legend, 그리고 grid 설정\n",
        "  plt.xlabel('Threshold value'); plt.ylabel('Precision and Recall value')\n",
        "  plt.legend(); plt.grid()\n",
        "  plt"
      ],
      "execution_count": 54,
      "outputs": []
    },
    {
      "cell_type": "code",
      "metadata": {
        "colab": {
          "base_uri": "https://localhost:8080/",
          "height": 388
        },
        "id": "MkIrBKZLBWAa",
        "outputId": "aa76c358-3e07-4df9-947c-11a2377536d8"
      },
      "source": [
        "precision_recall_curve_plot(y_test, lr_clf.predict_proba(X_test)[:, 1])"
      ],
      "execution_count": 56,
      "outputs": [
        {
          "output_type": "display_data",
          "data": {
            "image/png": "[encoded data removed]",
            "text/plain": [
              "<Figure size 576x432 with 1 Axes>"
            ]
          },
          "metadata": {
            "tags": [],
            "needs_background": "light"
          }
        }
      ]
    },
    {
      "cell_type": "markdown",
      "metadata": {
        "id": "_cJ-YhCyCW8t"
      },
      "source": [
        "\n",
        "임계값이 0.99 이하에서는 재현율이 매우 좋고 정밀도가 극단적으로 낮다가 0.99 이상에서는 반대로 재현율이 대폭 떨어지고 정밀도가 높아진다.\n",
        "\n",
        "분류 결정 임계값을 조정하더라도 임계값의 민감도가 너무 심해 올바른 재현율/정밀도 성능을 얻을 수는 없으므로 로지스틱 회귀 모델의 경우 SMOTE 적용 후 올바른 예측 모델이 생성되지 못했다.\n",
        "\n",
        "이번에는 LightGBM 모델을 SMOTE로 오버 샘플링된 데이터 세트로 학습/예측/평가를 수행한다.\n"
      ]
    },
    {
      "cell_type": "code",
      "metadata": {
        "colab": {
          "base_uri": "https://localhost:8080/"
        },
        "id": "IrmUMFR4CLyB",
        "outputId": "03e5a004-7ab8-4ca7-fec9-8f2bb3cfc113"
      },
      "source": [
        "lgbm_clf = LGBMClassifier(n_estimators=1000, num_leaves=64, n_jobs=-1, boost_from_average=False)\n",
        "\n",
        "get_model_train_eval(lgbm_clf, ftr_train=X_train_over, ftr_test=X_test, tgㅡ_train=y_train_over, tgt_test=y_test)"
      ],
      "execution_count": 60,
      "outputs": [
        {
          "output_type": "stream",
          "text": [
            "오차 행렬\n",
            "[[85286     9]\n",
            " [   22   124]]\n",
            "정확도: 0.9996, 정밀도: 0.9323, 재현율: 0.8493, F1: 0.8889, AUC:0.9789\n"
          ],
          "name": "stdout"
        }
      ]
    },
    {
      "cell_type": "markdown",
      "metadata": {
        "id": "fa-8kvSsC7yx"
      },
      "source": [
        "\n",
        "재현율이 이상치만 제거한 경우인 82.88%보다 높은 84.93%가 되었다.\n",
        "\n",
        "그러나 정밀도는 이전의 96.8%보다 낮은 93.23%이다.\n",
        "\n",
        "SMOTE를 적용하면 재현율은 높아지나, 정밀도를 낮아지는 것이 일반적이다.\n",
        "\n",
        "좋은 SMOTE 패키지일수록 재현율 증가율은 높이고 정밀도 감소율은 낮출 수 있도록 효과적으로 데이터를 증식한다.\n",
        "\n"
      ]
    },
    {
      "cell_type": "code",
      "metadata": {
        "id": "xxJAIWtzDZvw"
      },
      "source": [
        ""
      ],
      "execution_count": null,
      "outputs": []
    }
  ]
}