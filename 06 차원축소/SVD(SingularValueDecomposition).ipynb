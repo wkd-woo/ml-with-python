{
  "nbformat": 4,
  "nbformat_minor": 0,
  "metadata": {
    "colab": {
      "name": "SVD(SingularValueDecomposition).ipynb",
      "provenance": [],
      "collapsed_sections": [],
      "mount_file_id": "1qx1fp2_LdbGFoZY7PqEKHIjU56kQz4gZ",
      "authorship_tag": "ABX9TyPyewV5IjrbQk8TO13UscjQ"
    },
    "kernelspec": {
      "name": "python3",
      "display_name": "Python 3"
    },
    "language_info": {
      "name": "python"
    }
  },
  "cells": [
    {
      "cell_type": "markdown",
      "metadata": {
        "id": "Vbed6vPPtyGz"
      },
      "source": [
        "## SVD(Singular Value Decomposition)\n",
        "\n",
        "### SVD 개요\n",
        "\n",
        "`SVD` 역시 `PCA`와 유사한 행렬 분해 기법을 이용한다.\n",
        "\n",
        "PCA의 경우 정방행렬(즉, 행과 열의 크기가 같은 행렬)만을 고유백터로 분해할 수 있지만,\n",
        "\n",
        "SVD는 정방행렬 뿐만 아니라 행과 열의 크기가 다른 행렬에도 적용할 수 있다.\n",
        "\n",
        "일반적으로 SVD는 m X n 크기의 행렬 A를 분해하는 것을 의미한다.\n",
        "\n",
        "`SVD`는 특이값 분해로 불리며, 행렬 U와 V에 속한 벡터는 특이벡터(singular vector)이며, 모든 특이벡터는 서로 직교하는 성질을 가진다.\n",
        "\n"
      ]
    },
    {
      "cell_type": "code",
      "metadata": {
        "colab": {
          "base_uri": "https://localhost:8080/"
        },
        "id": "CE4dlO8Fs6n9",
        "outputId": "241dda4f-7e5d-4bba-9881-4ef857e48bc4"
      },
      "source": [
        "# 넘파이의 svd 모듈 임포트\n",
        "import numpy as np\n",
        "from numpy.linalg import svd\n",
        "\n",
        "# 4X4의 랜덤 행렬 a 생성\n",
        "np.random.seed(121)\n",
        "a = np.random.randn(4, 4)\n",
        "print(np.round(a, 3))"
      ],
      "execution_count": 1,
      "outputs": [
        {
          "output_type": "stream",
          "text": [
            "[[-0.212 -0.285 -0.574 -0.44 ]\n",
            " [-0.33   1.184  1.615  0.367]\n",
            " [-0.014  0.63   1.71  -1.327]\n",
            " [ 0.402 -0.191  1.404 -1.969]]\n"
          ],
          "name": "stdout"
        }
      ]
    },
    {
      "cell_type": "markdown",
      "metadata": {
        "id": "pWRRxCx1yX5J"
      },
      "source": [
        "\n",
        "a 행렬에 SVD를 적용해 U, Sigma, Vt를 도출한다.\n",
        "\n",
        "SVD 분해는 numpy.linalg.svd에 파라미터로 원본 행렬을 입력하면 U행렬, Sigma 행렬, V전치 행렬을 반환한다.\n",
        "\n"
      ]
    },
    {
      "cell_type": "code",
      "metadata": {
        "colab": {
          "base_uri": "https://localhost:8080/"
        },
        "id": "E1J7BAOeyEZb",
        "outputId": "8dee2159-7bb5-4ca1-82f3-d353fc5cc7c8"
      },
      "source": [
        "U, Sigma, Vt = svd(a)\n",
        "print(U.shape, Sigma.shape, Vt.shape)\n",
        "print('U matrix:\\n', np.round(U, 3))\n",
        "print('Sigma Value:\\n', np.round(Sigma, 3))\n",
        "print('V transpose matrix:\\n', np.round(Vt, 3))"
      ],
      "execution_count": 2,
      "outputs": [
        {
          "output_type": "stream",
          "text": [
            "(4, 4) (4,) (4, 4)\n",
            "U matrix:\n",
            " [[-0.079 -0.318  0.867  0.376]\n",
            " [ 0.383  0.787  0.12   0.469]\n",
            " [ 0.656  0.022  0.357 -0.664]\n",
            " [ 0.645 -0.529 -0.328  0.444]]\n",
            "Sigma Value:\n",
            " [3.423 2.023 0.463 0.079]\n",
            "V transpose matrix:\n",
            " [[ 0.041  0.224  0.786 -0.574]\n",
            " [-0.2    0.562  0.37   0.712]\n",
            " [-0.778  0.395 -0.333 -0.357]\n",
            " [-0.593 -0.692  0.366  0.189]]\n"
          ],
          "name": "stdout"
        }
      ]
    },
    {
      "cell_type": "markdown",
      "metadata": {
        "id": "CZ2PBGeezBIY"
      },
      "source": [
        "U 행렬이 4X4, Vt 행렬이 4X4 로 반환됐고, Sigma의 경우는 1차원 행렬인 (4, )로 반환되었다.\n",
        "\n",
        "분해된 이 U, Sigma, Vt를 이용해 다시 원본 행렬로 정확히 복원되는지를 확인한다.\n",
        "\n"
      ]
    },
    {
      "cell_type": "code",
      "metadata": {
        "colab": {
          "base_uri": "https://localhost:8080/"
        },
        "id": "ILTfR8scy5JW",
        "outputId": "85144df2-f136-4934-e674-19a2d2b1976a"
      },
      "source": [
        "# Sigma를 다시 0을 포함한 대칭행렬로 변환\n",
        "Sigma_mat = np.diag(Sigma)\n",
        "a_ = np.dot(np.dot(U, Sigma_mat), Vt)\n",
        "print('1. a_ 행렬\\n {0}\\n'.format(np.round(a_, 3)))\n",
        "\n",
        "print('2. a 행렬\\n {0}'.format(np.round(a, 3)))"
      ],
      "execution_count": 3,
      "outputs": [
        {
          "output_type": "stream",
          "text": [
            "1. a_ 행렬\n",
            " [[-0.212 -0.285 -0.574 -0.44 ]\n",
            " [-0.33   1.184  1.615  0.367]\n",
            " [-0.014  0.63   1.71  -1.327]\n",
            " [ 0.402 -0.191  1.404 -1.969]]\n",
            "\n",
            "2. a 행렬\n",
            " [[-0.212 -0.285 -0.574 -0.44 ]\n",
            " [-0.33   1.184  1.615  0.367]\n",
            " [-0.014  0.63   1.71  -1.327]\n",
            " [ 0.402 -0.191  1.404 -1.969]]\n"
          ],
          "name": "stdout"
        }
      ]
    },
    {
      "cell_type": "markdown",
      "metadata": {
        "id": "QIKJN9IH1TB5"
      },
      "source": [
        "U, Sigma, Vt를 이용해 a_는 원본 행렬 a와 동일하게 복원됨을 알 수 있다.\n",
        "\n",
        "데이터 세트가 로우 간 의존성이 있을 경우 어떻게 Sigma 값이 변하고, 이에 따른 차원 축소가 진행될 수 있는지 알아본다.\n",
        "\n",
        "의존성을 부여하기 위해 a 행렬의 3번째 로우를 '첫 번째 로우 + 두 번째 로우'로 업데이트 하고, 4번째 로우는 첫 번째 로우와 같다고 업데이트한다.\n"
      ]
    },
    {
      "cell_type": "code",
      "metadata": {
        "colab": {
          "base_uri": "https://localhost:8080/"
        },
        "id": "khRnCSYNzLBp",
        "outputId": "e7f6ff39-f22c-40ef-edfa-e28c81e7d1c0"
      },
      "source": [
        "a[2] = a[0] + a[1]\n",
        "a[3] = a[0]\n",
        "print(np.round(a, 3))"
      ],
      "execution_count": 4,
      "outputs": [
        {
          "output_type": "stream",
          "text": [
            "[[-0.212 -0.285 -0.574 -0.44 ]\n",
            " [-0.33   1.184  1.615  0.367]\n",
            " [-0.542  0.899  1.041 -0.073]\n",
            " [-0.212 -0.285 -0.574 -0.44 ]]\n"
          ],
          "name": "stdout"
        }
      ]
    },
    {
      "cell_type": "code",
      "metadata": {
        "colab": {
          "base_uri": "https://localhost:8080/"
        },
        "id": "pemErVhx0Bad",
        "outputId": "f40648fd-793c-4614-8409-d5221dc1aabb"
      },
      "source": [
        "# 다시 SVD를 수행해 Sigma 값 확인\n",
        "U, Sigma, Vt = svd(a)\n",
        "print(U.shape, Sigma.shape, Vt.shape)\n",
        "print('Sigma Value:\\n', np.round(Sigma, 3))"
      ],
      "execution_count": 5,
      "outputs": [
        {
          "output_type": "stream",
          "text": [
            "(4, 4) (4,) (4, 4)\n",
            "Sigma Value:\n",
            " [2.663 0.807 0.    0.   ]\n"
          ],
          "name": "stdout"
        }
      ]
    },
    {
      "cell_type": "code",
      "metadata": {
        "colab": {
          "base_uri": "https://localhost:8080/"
        },
        "id": "Gsdw0ziJ15FR",
        "outputId": "28a38034-e73f-4f80-e247-9fa641f6b17e"
      },
      "source": [
        "# U 행렬의 경우는 Sigma 와 내적을 수행하므로 Sigma의 앞 2행에 대응되는 앞 2열만 추출\n",
        "U_ = U[:, :2]\n",
        "Sigma_ = np.diag(Sigma[:2])\n",
        "# V 전치 행렬의 경우는 앞 2행만 추출\n",
        "Vt_ = Vt[:2]\n",
        "print(U_.shape, Sigma_.shape, Vt_.shape)\n",
        "# U, Sigma, Vt의 내적을 수행하며, 다시 원본 행렬 복원\n",
        "a_ = np.dot(np.dot(U_, Sigma_), Vt_)\n",
        "print(np.round(a_, 3))"
      ],
      "execution_count": 6,
      "outputs": [
        {
          "output_type": "stream",
          "text": [
            "(4, 2) (2, 2) (2, 4)\n",
            "[[-0.212 -0.285 -0.574 -0.44 ]\n",
            " [-0.33   1.184  1.615  0.367]\n",
            " [-0.542  0.899  1.041 -0.073]\n",
            " [-0.212 -0.285 -0.574 -0.44 ]]\n"
          ],
          "name": "stdout"
        }
      ]
    },
    {
      "cell_type": "code",
      "metadata": {
        "id": "-rHISCgN2pJ_"
      },
      "source": [
        "import numpy as np\n",
        "from scipy.sparse.linalg import svds\n",
        "from scipy.linalg import svd"
      ],
      "execution_count": 7,
      "outputs": []
    },
    {
      "cell_type": "code",
      "metadata": {
        "colab": {
          "base_uri": "https://localhost:8080/"
        },
        "id": "3OPkuWgk4cFi",
        "outputId": "5c1a7b06-689b-4ec7-9b2c-67377fcddcd9"
      },
      "source": [
        "# 원본 행렬을 출력하고 SVD를 적용할 경우, U, Sigma, Vt의 차원 확인\n",
        "np.random.seed(121)\n",
        "matrix = np.random.random((6, 6))\n",
        "print('원본 행렬:\\n', matrix)\n",
        "U, Sigma, Vt = svd(matrix, full_matrices=False)\n",
        "print('\\n행렬 분해 차원:', U.shape, Sigma.shape, Vt.shape)\n",
        "print('\\nSigma값 행렬:', Sigma)\n",
        "\n",
        "# Truncated SVD로 SIgma 행렬의 특이값을 4개로 하여 Truncated SVD 수행.\n",
        "num_components = 4\n",
        "U_tr, Sigma_tr, Vt_tr = svds(matrix, k=num_components)\n",
        "print('\\nTruncated SVD 분해 행렬 차원:', U_tr.shape, Sigma_tr.shape, Vt_tr.shape)\n",
        "print('\\nTruncated SVD Sigma 값 행렬:', Sigma_tr)\n",
        "matrix_tr = np.dot(np.dot(U_tr, np.diag(Sigma_tr)), Vt_tr) # output of Truncated SVD\n",
        "\n",
        "print('\\nTruncated SVD로 분해 후 복원 행렬:\\n', matrix_tr)"
      ],
      "execution_count": 8,
      "outputs": [
        {
          "output_type": "stream",
          "text": [
            "원본 행렬:\n",
            " [[0.11133083 0.21076757 0.23296249 0.15194456 0.83017814 0.40791941]\n",
            " [0.5557906  0.74552394 0.24849976 0.9686594  0.95268418 0.48984885]\n",
            " [0.01829731 0.85760612 0.40493829 0.62247394 0.29537149 0.92958852]\n",
            " [0.4056155  0.56730065 0.24575605 0.22573721 0.03827786 0.58098021]\n",
            " [0.82925331 0.77326256 0.94693849 0.73632338 0.67328275 0.74517176]\n",
            " [0.51161442 0.46920965 0.6439515  0.82081228 0.14548493 0.01806415]]\n",
            "\n",
            "행렬 분해 차원: (6, 6) (6,) (6, 6)\n",
            "\n",
            "Sigma값 행렬: [3.2535007  0.88116505 0.83865238 0.55463089 0.35834824 0.0349925 ]\n",
            "\n",
            "Truncated SVD 분해 행렬 차원: (6, 4) (4,) (4, 6)\n",
            "\n",
            "Truncated SVD Sigma 값 행렬: [0.55463089 0.83865238 0.88116505 3.2535007 ]\n",
            "\n",
            "Truncated SVD로 분해 후 복원 행렬:\n",
            " [[0.19222941 0.21792946 0.15951023 0.14084013 0.81641405 0.42533093]\n",
            " [0.44874275 0.72204422 0.34594106 0.99148577 0.96866325 0.4754868 ]\n",
            " [0.12656662 0.88860729 0.30625735 0.59517439 0.28036734 0.93961948]\n",
            " [0.23989012 0.51026588 0.39697353 0.27308905 0.05971563 0.57156395]\n",
            " [0.83806144 0.78847467 0.93868685 0.72673231 0.6740867  0.73812389]\n",
            " [0.59726589 0.47953891 0.56613544 0.80746028 0.13135039 0.03479656]]\n"
          ],
          "name": "stdout"
        }
      ]
    },
    {
      "cell_type": "code",
      "metadata": {
        "id": "Am0saXYr5bhK"
      },
      "source": [
        "from sklearn.decomposition import TruncatedSVD, PCA\n",
        "from sklearn.datasets import load_iris\n",
        "import matplotlib.pyplot as plt\n",
        "%matplotlib inline"
      ],
      "execution_count": 9,
      "outputs": []
    },
    {
      "cell_type": "code",
      "metadata": {
        "colab": {
          "base_uri": "https://localhost:8080/",
          "height": 297
        },
        "id": "CPgFkxmg5pN3",
        "outputId": "966c3c60-6e5c-4496-ca23-7625741ec11b"
      },
      "source": [
        "iris = load_iris()\n",
        "iris_ftrs = iris.data\n",
        "# 2개의 주요 컴포넌트로 TruncatedSVD 변환\n",
        "tsvd = TruncatedSVD(n_components=2)\n",
        "tsvd.fit(iris_ftrs)\n",
        "iris_tsvd = tsvd.transform(iris_ftrs)\n",
        "\n",
        "# 산점도 2차원으로 TruncatedSVD 변환된 데이터 표현. 품종은 색깔로 구분\n",
        "plt.scatter(x=iris_tsvd[:, 0], y=iris_tsvd[:, 1], c=iris.target)\n",
        "plt.xlabel('TruncatedSVD Component 1')\n",
        "plt.ylabel('TruncatedSVD Component 2')"
      ],
      "execution_count": 10,
      "outputs": [
        {
          "output_type": "execute_result",
          "data": {
            "text/plain": [
              "Text(0, 0.5, 'TruncatedSVD Component 2')"
            ]
          },
          "metadata": {},
          "execution_count": 10
        },
        {
          "output_type": "display_data",
          "data": {
            "image/png": "[encoded data removed]",
            "text/plain": [
              "<Figure size 432x288 with 1 Axes>"
            ]
          },
          "metadata": {
            "needs_background": "light"
          }
        }
      ]
    },
    {
      "cell_type": "code",
      "metadata": {
        "id": "8GJKKUbL6Hch"
      },
      "source": [
        "from sklearn.preprocessing import StandardScaler"
      ],
      "execution_count": 11,
      "outputs": []
    },
    {
      "cell_type": "code",
      "metadata": {
        "id": "_sotrCg5m5-p"
      },
      "source": [
        "# 붓꽃 데이터를 StandardScaler로 변환\n",
        "scaler = StandardScaler()\n",
        "iris_scaled = scaler.fit_transform(iris_ftrs)"
      ],
      "execution_count": 12,
      "outputs": []
    },
    {
      "cell_type": "code",
      "metadata": {
        "id": "5sY14AkonCg6"
      },
      "source": [
        "# 스케일링된 데이터를 기반으로 TruncatedSVD 변환 수행\n",
        "tsvd = TruncatedSVD(n_components=2)\n",
        "tsvd.fit(iris_scaled)\n",
        "iris_tsvd = tsvd.fit_transform(iris_scaled)"
      ],
      "execution_count": 22,
      "outputs": []
    },
    {
      "cell_type": "code",
      "metadata": {
        "id": "UdffvnqUnOYn"
      },
      "source": [
        "# 스케일링된 데이터를 기반으로 PCA 변환 수행\n",
        "pca = PCA(n_components=2)\n",
        "pca.fit(iris_scaled)\n",
        "iris_pca = pca.transform(iris_scaled)"
      ],
      "execution_count": 23,
      "outputs": []
    },
    {
      "cell_type": "code",
      "metadata": {
        "colab": {
          "base_uri": "https://localhost:8080/",
          "height": 298
        },
        "id": "lDT4eL6cnb-a",
        "outputId": "11894fd4-08bf-4f68-971f-38a92cb4c54b"
      },
      "source": [
        "# TruncatedSVD 변환 데이터를 왼쪽에, PCA 변환 데이터를 오른쪽에 표현\n",
        "fig, (ax1, ax2) = plt.subplots(figsize=(9, 4), ncols=2)\n",
        "ax1.scatter(x=iris_tsvd[:, 0], y=iris_tsvd[:, 1], c=iris.target)\n",
        "ax2.scatter(x=iris_pca[:, 0], y=iris_pca[:, 1], c=iris.target)\n",
        "ax1.set_title('Truncated SVD Transformed')\n",
        "ax2.set_title('PCA Transformed')"
      ],
      "execution_count": 24,
      "outputs": [
        {
          "output_type": "execute_result",
          "data": {
            "text/plain": [
              "Text(0.5, 1.0, 'PCA Transformed')"
            ]
          },
          "metadata": {},
          "execution_count": 24
        },
        {
          "output_type": "display_data",
          "data": {
            "image/png": "[encoded data removed]",
            "text/plain": [
              "<Figure size 648x288 with 2 Axes>"
            ]
          },
          "metadata": {
            "needs_background": "light"
          }
        }
      ]
    },
    {
      "cell_type": "markdown",
      "metadata": {
        "id": "tVLDH8-DpSWv"
      },
      "source": [
        "두 개의 변환 행렬 값과 원복 속성별 컴포넌트 비율값을 실제로 서로 비교해 보면 거의 같음을 알 수 있다.\n"
      ]
    },
    {
      "cell_type": "code",
      "metadata": {
        "colab": {
          "base_uri": "https://localhost:8080/"
        },
        "id": "oygntDymnb8Q",
        "outputId": "7467d31d-1ccc-4121-aa04-88f28e522da7"
      },
      "source": [
        "print((iris_pca - iris_tsvd).mean())\n",
        "print((pca.components_ - tsvd.components_).mean())"
      ],
      "execution_count": 25,
      "outputs": [
        {
          "output_type": "stream",
          "text": [
            "2.320689936515426e-15\n",
            "6.245004513516506e-17\n"
          ],
          "name": "stdout"
        }
      ]
    },
    {
      "cell_type": "markdown",
      "metadata": {
        "id": "cZk0vES5pZUl"
      },
      "source": [
        "모두 0에 가까운 값이므로 2개의 변환이 서로 동일함을 알 수 있다.\n",
        "\n",
        "즉, *데이터 세트가 스케일링으로 데이터 중심이 동일해지면* 사이킷런의 `SVD`와 `PCA`는 동일한 변환을 수행한다.\n",
        "\n",
        "> 이는 `PCA`가 `SVD` 알고리즘으로 구현됐음을 의미한다.\n",
        "\n",
        "하지만 PCA는 밀집 행렬(Dense Matrix)에 대한 변환만 가능하며 SVD는 희소행렬(Sparse Matrix)에 대한 변환도 가능하다.\n",
        "\n"
      ]
    },
    {
      "cell_type": "code",
      "metadata": {
        "id": "hO8FcpwYp-Hg"
      },
      "source": [
        ""
      ],
      "execution_count": null,
      "outputs": []
    }
  ]
}