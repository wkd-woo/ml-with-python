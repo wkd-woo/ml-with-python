{
  "nbformat": 4,
  "nbformat_minor": 0,
  "metadata": {
    "colab": {
      "name": "정밀도와_재현율.ipynb",
      "provenance": [],
      "collapsed_sections": [],
      "mount_file_id": "1FCr3B1G-ZF6ApBBSlS0awG6C8CeZPMkm",
      "authorship_tag": "ABX9TyPh0TsqCeaeUMgVFEdWIhJ9"
    },
    "kernelspec": {
      "name": "python3",
      "display_name": "Python 3"
    },
    "language_info": {
      "name": "python"
    }
  },
  "cells": [
    {
      "cell_type": "markdown",
      "metadata": {
        "id": "N_MjE7j-mY3D"
      },
      "source": [
        "## 정밀도와 재현율"
      ]
    },
    {
      "cell_type": "markdown",
      "metadata": {
        "id": "2rl9Rb_vtihS"
      },
      "source": [
        "정밀도와 재현율은 Positive 데이터 세트의 예측 성능에 좀 더 초점을 맞춘 평가 지표이다.\n",
        "\n",
        "정밀도와 재현율은 다음과 같은 공식으로 계산된다.\n",
        "\n",
        "> 정밀도 = TP / ( FP + TP )\n",
        "> 재현율 = TP / ( FN + TP )\n",
        "\n",
        "정밀도는 예측을 Positive로 한 대상 중에 예측과 실제 값이 Positive로 일치한 데이터의 비율을 뜻한다.\n",
        "\n",
        "재현율은 실제 값이 Positive인 대상 중에 예측과 실제 값이 Positive로 일치한 데이터의 비율을 뜻한다.\n",
        "\n",
        "공식의 분모인 FN + TP 는 실제 값이 Positive인 모든 데이터 건수이며 공식의 분자인 TP는 예측과 실제 값이 Positive로 일치한 데이터 건수이다.   \n",
        "민감도(Sensitivity) 또는 TPR(True Positive Rate)라고도 불린다.\n",
        "\n",
        "`재현율이 중요 지표인 경우는 실제 Positive 양성 데이터를 Negative로 잘못 판단하게 되면 업무상 큰 영향이 발생하는 경우`\n",
        "\n",
        "ex) 실제 Positive인 암 환자를 Postive 양성이 아닌 Negative 음성으로 판단\n",
        "\n"
      ]
    },
    {
      "cell_type": "code",
      "metadata": {
        "id": "Ce551gJytjWJ"
      },
      "source": [
        "from sklearn.metrics import accuracy_score, precision_score, recall_score, confusion_matrix"
      ],
      "execution_count": 27,
      "outputs": []
    },
    {
      "cell_type": "code",
      "metadata": {
        "id": "yJpN0CVbx3Ms"
      },
      "source": [
        "def get_clf_eval(y_test, pred):\n",
        "  confusion = confusion_matrix( y_test, pred)\n",
        "  accuracy = accuracy_score(y_test, pred)\n",
        "  precision = precision_score(y_test, pred)\n",
        "  recall = recall_score(y_test, pred)\n",
        "  print('오차 행렬')\n",
        "  print(confusion)\n",
        "  print('정확도: {0:.4f}, 재현율: {2:.4f}'.format(accuracy, precision, recall))"
      ],
      "execution_count": 28,
      "outputs": []
    },
    {
      "cell_type": "code",
      "metadata": {
        "id": "DQxN4iy6x7yD"
      },
      "source": [
        "import pandas as pd\n",
        "import numpy as np\n",
        "from sklearn.model_selection import train_test_split\n",
        "from sklearn.linear_model import LogisticRegression"
      ],
      "execution_count": 29,
      "outputs": []
    },
    {
      "cell_type": "code",
      "metadata": {
        "id": "-aKqo07gzw8k"
      },
      "source": [
        "from sklearn.preprocessing import LabelEncoder\n",
        "\n",
        "# Null 처리 함수\n",
        "def fillna(df):\n",
        "    df['Age'].fillna(df['Age'].mean(),inplace=True)\n",
        "    df['Cabin'].fillna('N',inplace=True)\n",
        "    df['Embarked'].fillna('N',inplace=True)\n",
        "    df['Fare'].fillna(0,inplace=True)\n",
        "    return df\n",
        "\n",
        "# 머신러닝 알고리즘에 불필요한 속성 제거\n",
        "def drop_features(df):\n",
        "    df.drop(['PassengerId','Name','Ticket'],axis=1,inplace=True)\n",
        "    return df\n",
        "\n",
        "# 레이블 인코딩 수행. \n",
        "def format_features(df):\n",
        "    df['Cabin'] = df['Cabin'].str[:1]\n",
        "    features = ['Cabin','Sex','Embarked']\n",
        "    for feature in features:\n",
        "        le = LabelEncoder()\n",
        "        le = le.fit(df[feature])\n",
        "        df[feature] = le.transform(df[feature])\n",
        "    return df\n",
        "\n",
        "# 앞에서 설정한 Data Preprocessing 함수 호출\n",
        "def transform_features(df):\n",
        "    df = fillna(df)\n",
        "    df = drop_features(df)\n",
        "    df = format_features(df)\n",
        "    return df"
      ],
      "execution_count": 30,
      "outputs": []
    },
    {
      "cell_type": "code",
      "metadata": {
        "id": "3qk0GlxNx8OT"
      },
      "source": [
        "# 원본 데이터를 재로딩, 데이터 가공, 학습 데이터/테스트 데이터 분할.\n",
        "titanic_df = pd.read_csv('/content/drive/MyDrive/파이썬 머신러닝 완벽 가이드/03 평가/titanic_train.csv')\n",
        "y_titanic_df = titanic_df['Survived']\n",
        "X_titanic_df = titanic_df.drop('Survived', axis=1)\n",
        "X_titanic_df = transform_features(X_titanic_df)"
      ],
      "execution_count": 31,
      "outputs": []
    },
    {
      "cell_type": "code",
      "metadata": {
        "id": "M19JbSGlzh7D"
      },
      "source": [
        "X_train, X_test, y_train, y_test = train_test_split(X_titanic_df, y_titanic_df,\n",
        "                                                    test_size=0.20, random_state=11)"
      ],
      "execution_count": 32,
      "outputs": []
    },
    {
      "cell_type": "code",
      "metadata": {
        "id": "3r-afxqO0PDz"
      },
      "source": [
        "lr_clf = LogisticRegression()"
      ],
      "execution_count": 33,
      "outputs": []
    },
    {
      "cell_type": "code",
      "metadata": {
        "colab": {
          "base_uri": "https://localhost:8080/"
        },
        "id": "8tRv-fUa02h1",
        "outputId": "0fcbc9cf-623e-4359-f668-cdc1dba953a4"
      },
      "source": [
        "lr_clf.fit(X_train, y_train)\n",
        "pred = lr_clf.predict(X_test)\n",
        "get_clf_eval(y_test, pred)"
      ],
      "execution_count": 34,
      "outputs": [
        {
          "output_type": "stream",
          "text": [
            "오차 행렬\n",
            "[[104  14]\n",
            " [ 13  48]]\n",
            "정확도: 0.8492, 재현율: 0.7869\n"
          ],
          "name": "stdout"
        },
        {
          "output_type": "stream",
          "text": [
            "/usr/local/lib/python3.7/dist-packages/sklearn/linear_model/_logistic.py:940: ConvergenceWarning: lbfgs failed to converge (status=1):\n",
            "STOP: TOTAL NO. of ITERATIONS REACHED LIMIT.\n",
            "\n",
            "Increase the number of iterations (max_iter) or scale the data as shown in:\n",
            "    https://scikit-learn.org/stable/modules/preprocessing.html\n",
            "Please also refer to the documentation for alternative solver options:\n",
            "    https://scikit-learn.org/stable/modules/linear_model.html#logistic-regression\n",
            "  extra_warning_msg=_LOGISTIC_SOLVER_CONVERGENCE_MSG)\n"
          ],
          "name": "stderr"
        }
      ]
    },
    {
      "cell_type": "markdown",
      "metadata": {
        "id": "_aP1myFB08Vu"
      },
      "source": [
        "### 정밀도 / 재현율 트레이드오프"
      ]
    },
    {
      "cell_type": "code",
      "metadata": {
        "id": "Ezliyq8S1AiY"
      },
      "source": [
        ""
      ],
      "execution_count": 34,
      "outputs": []
    },
    {
      "cell_type": "markdown",
      "metadata": {
        "id": "uapbHRYO30Pm"
      },
      "source": [
        "분류하려는 업무의 특성상 정밀도 또는 재현율이 특별히 강조돼야 할 경우   \n",
        "결정 임계값(Threshold)을 조정해 정밀도 또는 재현율의 수치를 높일 수 있다.\n",
        "\n",
        "하지만 정밀도와 재현율은 상호 보완적인 평가 지표이기 때문에 어느 한쪽을 강제로 높이면 다른 하나의 수치는 떨어지기 쉽다.\n",
        "\n",
        "이를 `정밀도/재현율의 트레이드오프(Trade-off)` 라고 한다."
      ]
    },
    {
      "cell_type": "code",
      "metadata": {
        "colab": {
          "base_uri": "https://localhost:8080/"
        },
        "id": "YcKoXYK63y81",
        "outputId": "c697a39b-261a-44ee-f45d-5150df5aaa84"
      },
      "source": [
        "pred_proba = lr_clf.predict_proba(X_test)\n",
        "pred = lr_clf.predict(X_test)\n",
        "print('pred_proba() 결과 Shape : {0}'.format(pred_proba.shape))\n",
        "print('pred_proba array에서 앞 3개만 샘플로 추출 \\n:', pred_proba[:3])\n",
        "\n",
        "# 예측 확률 array와 예측 결괏값 array를 병함(concatenate)해 예측 확률과 결괏값을 한눈에 확인\n",
        "pred_proba_result = np.concatenate([pred_proba, pred.reshape(-1, 1)], axis=1)\n",
        "print('두 개의 class 중에서 더 큰 확률을 클래스 값으로 예측 \\n', pred_proba_result[:3])"
      ],
      "execution_count": 35,
      "outputs": [
        {
          "output_type": "stream",
          "text": [
            "pred_proba() 결과 Shape : (179, 2)\n",
            "pred_proba array에서 앞 3개만 샘플로 추출 \n",
            ": [[0.46191519 0.53808481]\n",
            " [0.878675   0.121325  ]\n",
            " [0.87716185 0.12283815]]\n",
            "두 개의 class 중에서 더 큰 확률을 클래스 값으로 예측 \n",
            " [[0.46191519 0.53808481 1.        ]\n",
            " [0.878675   0.121325   0.        ]\n",
            " [0.87716185 0.12283815 0.        ]]\n"
          ],
          "name": "stdout"
        }
      ]
    },
    {
      "cell_type": "code",
      "metadata": {
        "id": "-aC_PmRL4e5G"
      },
      "source": [
        "from sklearn.preprocessing import Binarizer"
      ],
      "execution_count": 36,
      "outputs": []
    },
    {
      "cell_type": "code",
      "metadata": {
        "id": "Ug-cuBeO4oN1"
      },
      "source": [
        "X = [[ 1, -1, 2],\n",
        "     [2, 0, 0],\n",
        "     [0, 1.1, 1.2]]"
      ],
      "execution_count": 37,
      "outputs": []
    },
    {
      "cell_type": "code",
      "metadata": {
        "colab": {
          "base_uri": "https://localhost:8080/"
        },
        "id": "PUcxU15s4tY7",
        "outputId": "61c7199d-135a-4be3-b34d-01d4dd832c82"
      },
      "source": [
        "# X의 개별 원소들이 threshold 값보다 같거나 작으면 0을, 크면 1을 반환\n",
        "binarizer = Binarizer(threshold=1.1)\n",
        "print(binarizer.fit_transform(X))"
      ],
      "execution_count": 38,
      "outputs": [
        {
          "output_type": "stream",
          "text": [
            "[[0. 0. 1.]\n",
            " [1. 0. 0.]\n",
            " [0. 0. 1.]]\n"
          ],
          "name": "stdout"
        }
      ]
    },
    {
      "cell_type": "code",
      "metadata": {
        "id": "35idSDPM44bx"
      },
      "source": [
        "from sklearn.preprocessing import Binarizer"
      ],
      "execution_count": 39,
      "outputs": []
    },
    {
      "cell_type": "code",
      "metadata": {
        "id": "4f0WwB9-7sxQ"
      },
      "source": [
        "# Binarizer의 threshold 설정값. 분류 결정 임곗값임.\n",
        "custom_threshold = 0.5"
      ],
      "execution_count": 40,
      "outputs": []
    },
    {
      "cell_type": "code",
      "metadata": {
        "colab": {
          "base_uri": "https://localhost:8080/"
        },
        "id": "6OxjE5bi7zmq",
        "outputId": "15cbea53-1a6d-4939-a4b1-e5abd4300a38"
      },
      "source": [
        "# predict_proba () 반환값의 두 번째 칼럼, 즉 Positive 클래스 칼럼 하나만 추출해 Binarizer를 적용\n",
        "pred_proba_1 = pred_proba[:, 1].reshape(-1, 1)\n",
        "\n",
        "binarizer = Binarizer(threshold=custom_threshold).fit(pred_proba_1)\n",
        "custom_predict = binarizer.transform(pred_proba_1)\n",
        "\n",
        "get_clf_eval(y_test, custom_predict)"
      ],
      "execution_count": 41,
      "outputs": [
        {
          "output_type": "stream",
          "text": [
            "오차 행렬\n",
            "[[104  14]\n",
            " [ 13  48]]\n",
            "정확도: 0.8492, 재현율: 0.7869\n"
          ],
          "name": "stdout"
        }
      ]
    },
    {
      "cell_type": "markdown",
      "metadata": {
        "id": "RamFUcvO8O2K"
      },
      "source": [
        "임계값을 낮추니 재현율 값이 올라가고, 정밀도가 떨어진다.\n",
        "\n",
        "분류 결정 임계값은 Positive 예측값을 결정하는 확률의 기준이 된다.\n",
        "\n",
        "확률이 0.5가 아닌 0.4부터 Positive로 예측을 더 너그럽게 하기 때문에 임곗값을 낮출수록 True 값이 많아지게 된다.\n",
        "\n"
      ]
    },
    {
      "cell_type": "code",
      "metadata": {
        "id": "KcjstGgIu9_7"
      },
      "source": [
        "# 테스트를 수행할 모든 임곗값을 리스트 객체로 저장.\n",
        "thresholds = [0.4, 0.45, 0.50, 0.55, 0.60]\n",
        "\n",
        "def get_eval_by_threshold(y_test, pred_proba_c1, thresholds):\n",
        "  # thresholds list 객체 내의 값을 차례로 iteration 하면서 Evaluation 수행.\n",
        "  for custom_threshold in thresholds:\n",
        "    binarizer = Binarizer(threshold=custom_threshold).fit(pred_proba_c1)\n",
        "    custom_predict = binarizer.transform(pred_proba_c1)\n",
        "    print('임곗값: ', custom_threshold)\n",
        "    get_clf_eval(y_test, custom_predict)"
      ],
      "execution_count": 42,
      "outputs": []
    },
    {
      "cell_type": "code",
      "metadata": {
        "colab": {
          "base_uri": "https://localhost:8080/"
        },
        "id": "moztyX-d1j_r",
        "outputId": "78e9d961-5c6b-42fe-d7fb-ed97b23c2e37"
      },
      "source": [
        "get_eval_by_threshold(y_test, pred_proba[:, 1].reshape(-1, 1), thresholds )"
      ],
      "execution_count": 43,
      "outputs": [
        {
          "output_type": "stream",
          "text": [
            "임곗값:  0.4\n",
            "오차 행렬\n",
            "[[98 20]\n",
            " [10 51]]\n",
            "정확도: 0.8324, 재현율: 0.8361\n",
            "임곗값:  0.45\n",
            "오차 행렬\n",
            "[[103  15]\n",
            " [ 12  49]]\n",
            "정확도: 0.8492, 재현율: 0.8033\n",
            "임곗값:  0.5\n",
            "오차 행렬\n",
            "[[104  14]\n",
            " [ 13  48]]\n",
            "정확도: 0.8492, 재현율: 0.7869\n",
            "임곗값:  0.55\n",
            "오차 행렬\n",
            "[[109   9]\n",
            " [ 15  46]]\n",
            "정확도: 0.8659, 재현율: 0.7541\n",
            "임곗값:  0.6\n",
            "오차 행렬\n",
            "[[112   6]\n",
            " [ 16  45]]\n",
            "정확도: 0.8771, 재현율: 0.7377\n"
          ],
          "name": "stdout"
        }
      ]
    },
    {
      "cell_type": "code",
      "metadata": {
        "id": "AkR-VIEs1tTf"
      },
      "source": [
        "from sklearn.metrics import precision_recall_curve"
      ],
      "execution_count": 44,
      "outputs": []
    },
    {
      "cell_type": "code",
      "metadata": {
        "colab": {
          "base_uri": "https://localhost:8080/"
        },
        "id": "pG7mrNwk2-aa",
        "outputId": "c95b5862-5531-4580-da72-f5844a2d1406"
      },
      "source": [
        "# 레이블 값이 1일 때의 예측 확률을 추출\n",
        "pred_proba_class1 = lr_clf.predict_proba(X_test)[:, 1]\n",
        "\n",
        "# 실제 데이터 세트와 레이블 값이 1일 때의 예측 확률을 precision_recall_curve 인자로 입력\n",
        "precisions, recalls, thresholds = precision_recall_curve(y_test, pred_proba_class1)\n",
        "print('반환된 분류 결정 임곗값 배열의 Shape:', thresholds.shape)\n",
        "\n",
        "# 반환된 임곗값 배열 로우가 143건이므로 샘플로 10건만 추출하되, 임곗값을 15 Step으로 추출.\n",
        "thr_index = np.arange(0, thresholds.shape[0], 15)\n",
        "print('샘플 추출을 위한 임곗값 배열의 index 10개:', thr_index)\n",
        "print('샘플용 10개의 임곗값: ', np.round(thresholds[thr_index], 2))\n",
        "\n",
        "# 15 step 단위로 추출된 임곗값에 따른 정밀도와 재현율 값\n",
        "print('샘플 임계값별 정밀도: ', np.round(precisions[thr_index], 3))\n",
        "print('샘플 임계값별 재현율: ', np.round(recalls[thr_index], 3))"
      ],
      "execution_count": 45,
      "outputs": [
        {
          "output_type": "stream",
          "text": [
            "반환된 분류 결정 임곗값 배열의 Shape: (143,)\n",
            "샘플 추출을 위한 임곗값 배열의 index 10개: [  0  15  30  45  60  75  90 105 120 135]\n",
            "샘플용 10개의 임곗값:  [0.1  0.12 0.14 0.19 0.28 0.4  0.56 0.67 0.82 0.95]\n",
            "샘플 임계값별 정밀도:  [0.389 0.44  0.466 0.539 0.647 0.729 0.836 0.949 0.958 1.   ]\n",
            "샘플 임계값별 재현율:  [1.    0.967 0.902 0.902 0.902 0.836 0.754 0.607 0.377 0.148]\n"
          ],
          "name": "stdout"
        }
      ]
    },
    {
      "cell_type": "code",
      "metadata": {
        "id": "NOicjnFX46Fn"
      },
      "source": [
        "import matplotlib.pyplot as plt\n",
        "import matplotlib.ticker as ticker\n",
        "%matplotlib inline"
      ],
      "execution_count": 46,
      "outputs": []
    },
    {
      "cell_type": "code",
      "metadata": {
        "colab": {
          "base_uri": "https://localhost:8080/",
          "height": 388
        },
        "id": "m-V6wOcE4h-O",
        "outputId": "36776ba9-1112-422d-f473-636f909ab86c"
      },
      "source": [
        "def precision_recall_curve_plot(y_test, pred_proba_c1):\n",
        "  # threshold ndarray와 이 threshold에 따른 정밀도, 재현율 ndarray 추출.\n",
        "  precisions, recalls, thresholds = precision_recall_curve( y_test, pred_proba_c1)\n",
        "\n",
        "  # X축을 threshold 값으로, Y축은 정밀도, 재현율 값으로 각각 Plot 수행, 정밀도는 점선으로 표시\n",
        "  plt.figure(figsize=(8, 6))\n",
        "  threshold_boundary = thresholds.shape[0]\n",
        "  plt.plot(thresholds, precisions[0:threshold_boundary], linestyle='-', label='precision')\n",
        "  plt.plot(thresholds, recalls[0:threshold_boundary], label='recall')\n",
        "\n",
        "  # threshold 값 X 축의 Scale을 0.1 단위로 변경\n",
        "  start, end = plt.xlim()\n",
        "  plt.xticks(np.round(np.arange(start, end, 0.1), 2))\n",
        "  \n",
        "  # x축, y축 label과 legend, 그리고 grid 설정\n",
        "  plt.xlabel('Threshold value'); plt.ylabel('Precision and Recall value')\n",
        "  plt.legend(); plt.grid()\n",
        "  plt\n",
        "\n",
        "precision_recall_curve_plot(y_test, lr_clf.predict_proba(X_test)[:, 1])"
      ],
      "execution_count": 47,
      "outputs": [
        {
          "output_type": "display_data",
          "data": {
            "image/png": "[encoded data removed]",
            "text/plain": [
              "<Figure size 576x432 with 1 Axes>"
            ]
          },
          "metadata": {
            "tags": [],
            "needs_background": "light"
          }
        }
      ]
    },
    {
      "cell_type": "markdown",
      "metadata": {
        "id": "FZQHPC2767mb"
      },
      "source": [
        "### 정밀도와 재현율의 맹점\n",
        "\n",
        "위에서 Positive 예측의 임곗값을 변경함에 따라 정밀도와 재현율의 수치가 변경된다,\n",
        "\n",
        "임계값의 이러한 변경은 업무 환경에 맞게 두 개의 수치를 상호 보완할 수 있는 수준에서 적용돼야 한다.   \n",
        "그렇지 않고 단순히 하나의 성능 지표 수치를 높이기 위한 수단으로 사용돼서는 안된다.\n",
        "\n",
        "다음은 정밀도 또는 재현율 평가 지표 중 하나를 극단적으로 높이는 방법이지만, 숫자 놀음에 불과하다.\n",
        "\n",
        "---"
      ]
    },
    {
      "cell_type": "markdown",
      "metadata": {
        "id": "_0lzoMM7E4vN"
      },
      "source": [
        "**정밀도가 100%가 되는 방법**\n",
        "\n",
        "확실한 기준이 되는 경우만 Positive로 예측하고 나머지는 모두 Negative로 예측한다.\n",
        "\n",
        "예를 들어 환자가 80세 이상이고 비만이며 이전에 암 진단을 받았고 암 세포의 크기가 상위 0.1% 이상이면 무조건 Positive, 다른 경우는 Negative로 예측하는 거다.\n",
        "\n",
        "`정밀도 = TP / (TP + FP)` 이다.\n",
        "\n",
        "전체 환자 1000명 중 확실한 Positive 징후만 가진 환자는 단 1명이라고 하면, 이 한 명만 Positive 로 예측하고 나머지는 모두 Negative로 예측하더라도 FP는 0, TP는 1 이 되므로\n",
        "\n",
        "정밀도는 1 / (1 + 0) 으로 100%가 된다."
      ]
    },
    {
      "cell_type": "markdown",
      "metadata": {
        "id": "eqlmDldIFpXy"
      },
      "source": [
        "---\n",
        "**재현율이 100%가 되는 방법**\n",
        "\n",
        "모든 환자를 Positive로 예측한다.   \n",
        "재현율 = TP / (TP + FN) 이므로 전체 환자 1000명을 다 Positive로 예측한다.\n",
        "\n",
        "이 중 실제 양성인 사람이 30명 정도라도 TN이 수치에 포함되지 않고 FN은 아예 0이므로 30/(30 + 0) 이므로 100%가 된다.\n",
        "\n"
      ]
    },
    {
      "cell_type": "markdown",
      "metadata": {
        "id": "TyTbgDpvF3XR"
      },
      "source": [
        "---\n",
        "\n",
        "이처럼 정밀도와 재현율 성능 수치도 어느 한쪽만 참조하면 극단적인 수치 조작이 가능하다.\n",
        "\n",
        "따라서 정밀도 또는 재현율 중 하나만 스코어가 좋고 다른 하나는 스코어가 나쁜 분류는 성능이 좋지 않은 분류로 간주할 수 있다.\n",
        "\n",
        "\n"
      ]
    },
    {
      "cell_type": "markdown",
      "metadata": {
        "id": "njh9ooD8GmVZ"
      },
      "source": [
        "---\n",
        "\n",
        "## 04 F1 스코어\n",
        "\n",
        "`F1 스코어(Score)` 는 정밀도와 재현율을 결합한 지표이다.\n",
        "\n",
        "F1 스코어는 정밀도와 재현율이 어느 한 쪽으로 치우치지 않는 수치를 나타낼 때 상대적으로 높은 값을 가진다.\n",
        "\n",
        "사이ㅣ킷런은 F1 스코어를 구하기 위해 f1_score()라는 API를 제공한다.\n",
        "\n",
        "이를 이용해 정밀도와 재현율 절의 예제에서 학습/예측한 로지스틱 회귀 기반 타이타닉 생존자 모델의 F1 스코어를 구한다."
      ]
    },
    {
      "cell_type": "markdown",
      "metadata": {
        "id": "A5Cn6bR6JrBe"
      },
      "source": [
        "` F1 = 2 / (1/recall + 1/precision) = 2 * (precision * recall) /( precison + recall) `"
      ]
    },
    {
      "cell_type": "code",
      "metadata": {
        "id": "7MhOG1WdHPHi"
      },
      "source": [
        "from sklearn.metrics import f1_score"
      ],
      "execution_count": 48,
      "outputs": []
    },
    {
      "cell_type": "code",
      "metadata": {
        "colab": {
          "base_uri": "https://localhost:8080/"
        },
        "id": "KrJu3C0aHTQp",
        "outputId": "8d90630a-399b-457f-9154-767cecba8267"
      },
      "source": [
        "f1 = f1_score(y_test, pred)\n",
        "print('F1 스코어: {0:.4f}'.format(f1))"
      ],
      "execution_count": 49,
      "outputs": [
        {
          "output_type": "stream",
          "text": [
            "F1 스코어: 0.7805\n"
          ],
          "name": "stdout"
        }
      ]
    },
    {
      "cell_type": "code",
      "metadata": {
        "id": "0xRJayceHezI"
      },
      "source": [
        "def get_clf_eval(y_test, pred):\n",
        "  confusion = confusion_matrix(y_test, pred)\n",
        "  accuracy = accuracy_score(y_test, pred)\n",
        "  precision = precision_score(y_test, pred)\n",
        "  recall = recall_score(y_test, pred)\n",
        "  \n",
        "  #F1 스코어 추가\n",
        "  f1 = f1_score(y_test, pred)\n",
        "  print('오차 행렬')\n",
        "  print(confusion)\n",
        "  # f1 score print 추가\n",
        "  print('정확도: {0:.4f}, 정밀도: {1:.4f}, 재현율: {2:.4f}, F1:{3:.4f}'.format(accuracy, precision, recall, f1))\n",
        "\n"
      ],
      "execution_count": 52,
      "outputs": []
    },
    {
      "cell_type": "code",
      "metadata": {
        "colab": {
          "base_uri": "https://localhost:8080/"
        },
        "id": "mlWcKoMmIMKR",
        "outputId": "5f4df891-ff9f-4cfb-c74e-6af2515ff28b"
      },
      "source": [
        "thresholds = [0.4, 0.45, 0.50, 0.55, 0.60]\n",
        "pred_proba = lr_clf.predict_proba(X_test)\n",
        "get_eval_by_threshold(y_test, pred_proba[:, 1].reshape(-1, 1), thresholds)"
      ],
      "execution_count": 53,
      "outputs": [
        {
          "output_type": "stream",
          "text": [
            "임곗값:  0.4\n",
            "오차 행렬\n",
            "[[98 20]\n",
            " [10 51]]\n",
            "정확도: 0.8324, 정밀도: 0.7183, 재현율: 0.8361, F1:0.7727\n",
            "임곗값:  0.45\n",
            "오차 행렬\n",
            "[[103  15]\n",
            " [ 12  49]]\n",
            "정확도: 0.8492, 정밀도: 0.7656, 재현율: 0.8033, F1:0.7840\n",
            "임곗값:  0.5\n",
            "오차 행렬\n",
            "[[104  14]\n",
            " [ 13  48]]\n",
            "정확도: 0.8492, 정밀도: 0.7742, 재현율: 0.7869, F1:0.7805\n",
            "임곗값:  0.55\n",
            "오차 행렬\n",
            "[[109   9]\n",
            " [ 15  46]]\n",
            "정확도: 0.8659, 정밀도: 0.8364, 재현율: 0.7541, F1:0.7931\n",
            "임곗값:  0.6\n",
            "오차 행렬\n",
            "[[112   6]\n",
            " [ 16  45]]\n",
            "정확도: 0.8771, 정밀도: 0.8824, 재현율: 0.7377, F1:0.8036\n"
          ],
          "name": "stdout"
        }
      ]
    },
    {
      "cell_type": "code",
      "metadata": {
        "id": "nH-hKejGIcZZ"
      },
      "source": [
        ""
      ],
      "execution_count": null,
      "outputs": []
    }
  ]
}