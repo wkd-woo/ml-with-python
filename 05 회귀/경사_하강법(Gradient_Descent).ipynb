{
  "nbformat": 4,
  "nbformat_minor": 0,
  "metadata": {
    "colab": {
      "name": "경사_하강법(Gradient_Descent).ipynb",
      "provenance": [],
      "collapsed_sections": [],
      "mount_file_id": "1l-9yew4n0k--rGrv8C_Gc3YVVeQKFnfJ",
      "authorship_tag": "ABX9TyN5nTr9yqV4x4KIrCs5yyzI"
    },
    "kernelspec": {
      "name": "python3",
      "display_name": "Python 3"
    },
    "language_info": {
      "name": "python"
    }
  },
  "cells": [
    {
      "cell_type": "markdown",
      "metadata": {
        "id": "GhIX1CvAoAO6"
      },
      "source": [
        "어떻게 비용 함수가 최소가 되는 *W* 파라미터를 구할 수 있을까?\n",
        "\n",
        "*W* 파라미터의 개수가 적다면 고차원 방정식으로 비용 함수가 최소가 되는 *W* 변수값을 도출할 수 있곘지만,   \n",
        "*W* 파라미터가 많으면? -> 해결하기 어렵다.\n",
        "\n",
        "`경사 하강법`은 이러한 고차원 방정식에 대한 문제를 해결해 주면서 비용 함수 RSS를 최소화하는 방법을 직관적으로 제공하는 뛰어난 방식이다.\n",
        "\n",
        "경사 하강법은 `데이터를 기반으로 알고리즘이 스스로 학습한다`는 머신러닝의 개념을 가능하게 만들어준 핵심 기법의 하나이다.\n",
        "\n",
        "경사 하강법의 사전적 의미인 '점진적인 하강' 이라는 뜻에서도 알 수 있듯이, '점진적으로' 반복적인 계산을 통해 *W* 파라미터 값을 업데이트하면서 오류 값이 최소가 되도록 하는 *W* 파라미터를 구하는 방식이다.\n",
        "\n",
        "<br>\n",
        "\n",
        "---\n",
        "\n",
        "<br>\n",
        "\n"
      ]
    },
    {
      "cell_type": "markdown",
      "metadata": {
        "id": "7kkud_TUouSu"
      },
      "source": [
        "`경사 하강법` 은 반복적으로 비용 함수의 반환 값, 즉 예측값과 실제 값의 차이가 작아지는 방향성을 가지고 *W* 파라밑러르 지속해서 보정해 나간다.    \n",
        "최초 오류 값이 100이었다면 두 번째 오류 값은 100보다 작은 90, 세 번째는 80과 같은 방식으로 지속해서 오류를 감소시키는 방향으로 *W* 값을 계속 업데이트해 나간다.\n",
        "\n",
        "그리고 오류 값이 더 이상 작아지지 않으면 그 오류 값을 최소 비용으로 판단하고 그때의 *W* 값을 최적 파라미터로 반환한다.\n",
        "\n"
      ]
    },
    {
      "cell_type": "markdown",
      "metadata": {
        "id": "7T2jUSftpOiU"
      },
      "source": [
        "\n",
        "> 경사 하강법의 핵심 **\"어떻게 하면 오류가 작아지는 방향으로 *W*값을 보정할 수 있을까?\"**\n",
        "\n",
        "\n",
        "운동장에서 힘껏 야구공을 던지면 이 공의 속도가 처음에는 증가하다가 점차 감소하면서 땅에 떨어진다.   \n",
        "처음에는 가속도가 계속 증가하면서 속도가 증가하고, 더 이상 가속도가 증가하지 않으면 그 때가 최고 속도이며, 그 후에는 가속도가 마이너스(-)가 되면서 속도가 떨어지고 마침내 공이 땅에 떨어진다.\n",
        "\n",
        "<br>\n",
        "\n",
        "비용 함수가 포물선 형태의 2차 함수라면, `경사 하강법`은 최초 *W*에서부터 미분을 적용한 뒤 이 미분 값이 계속 감소하는 방향으로 순차적으로 w를 업데이트한다.\n",
        "\n",
        "마침내 더 이상 미분된 1차 함수의 기울기가 감소하지 않는 지점을 비용 함수가 최소인 지점으로 간주하고 그 때의 *W*를 반환한다.\n",
        "\n"
      ]
    },
    {
      "cell_type": "code",
      "metadata": {
        "id": "KoA-melpn4l4"
      },
      "source": [
        "import numpy as np\n",
        "import matplotlib.pyplot as plt\n",
        "%matplotlib inline"
      ],
      "execution_count": 1,
      "outputs": []
    },
    {
      "cell_type": "code",
      "metadata": {
        "id": "Vwr6mKm5qeI7"
      },
      "source": [
        "np.random.seed(0)\n",
        "\n",
        "# y = 4X + 6을 근사(w1=4, w0=6). 임의의 값은 노이즈를 위해 만듦.\n",
        "X = 2* np.random.rand(100,1)\n",
        "y = 6 + 4 * X + np.random.randn(100,1)"
      ],
      "execution_count": 2,
      "outputs": []
    },
    {
      "cell_type": "code",
      "metadata": {
        "colab": {
          "base_uri": "https://localhost:8080/",
          "height": 282
        },
        "id": "9hW2rpRyquYc",
        "outputId": "e6a80a15-df6b-4f2d-fda3-178902fadc81"
      },
      "source": [
        "# X, y 데이터 세트 산점도로 시각화\n",
        "plt.scatter(X, y)"
      ],
      "execution_count": 3,
      "outputs": [
        {
          "output_type": "execute_result",
          "data": {
            "text/plain": [
              "<matplotlib.collections.PathCollection at 0x7f4fed3d1750>"
            ]
          },
          "metadata": {
            "tags": []
          },
          "execution_count": 3
        },
        {
          "output_type": "display_data",
          "data": {
            "image/png": "[encoded data removed]",
            "text/plain": [
              "<Figure size 432x288 with 1 Axes>"
            ]
          },
          "metadata": {
            "tags": [],
            "needs_background": "light"
          }
        }
      ]
    },
    {
      "cell_type": "markdown",
      "metadata": {
        "id": "dHI6roaXqzrW"
      },
      "source": [
        "\n",
        "데이터는 y = 4X + 6을 중심으로 무작위로 퍼져 있다.\n",
        "\n",
        "다음으로 비용 함수를 정의한다. 함수 get_cost()는 실제 y값과 예측된 y값을 인자로 받아 RSS를 계산해 반환한다."
      ]
    },
    {
      "cell_type": "code",
      "metadata": {
        "id": "ZJPA5aEkqxZh"
      },
      "source": [
        "def get_cost(y, y_pred):\n",
        "    N = len(y)\n",
        "    cost = np.sum(np.square(y - y_pred))/N\n",
        "    return cost"
      ],
      "execution_count": 5,
      "outputs": []
    },
    {
      "cell_type": "code",
      "metadata": {
        "id": "GOUVjDJ-rRNh"
      },
      "source": [
        "# w1과 w0을 업데이트 할 w1_update, w0_update를 반환.\n",
        "def get_weight_updates(w1, w0, X, y, learning_rate=0.01):\n",
        "  N = len(y)\n",
        "  # 먼저 w1_update, w0_update를 각각 w1, w0의 shape와 동일한 크기를 가진 0 값으로 초기화\n",
        "  w1_update = np.zeros_like(w1)\n",
        "  w0_update = np.zeros_like(w0)\n",
        "  # 예측 배열 계산하고 예측과 실제 값의 차이 계산\n",
        "  y_pred = np.dot(X, w1.T) + w0\n",
        "  diff = y-y_pred\n",
        "\n",
        "  # w0_update를 dot 행렬 연산으로 구하기 위해 모두 1값을 가진 행열 생성\n",
        "  w0_factors = np.ones((N, 1))\n",
        "  \n",
        "  # w1과 w0을 업데이트할 w1_update와 w0_update 계산\n",
        "  w1_update = -(2/N)*learning_rate*(np.dot(X.T, diff))\n",
        "  w0_update = -(2/N)*learning_rate*(np.dot(w0_factors.T, diff))\n",
        "\n",
        "  return w1_update, w0_update"
      ],
      "execution_count": 6,
      "outputs": []
    },
    {
      "cell_type": "code",
      "metadata": {
        "id": "vygWnLVIrM3Y"
      },
      "source": [
        "# 입력 인자 iters로 주어진 횟수만큼 반복적으로 w1과 w0을 업데이트 적용함.\n",
        "def gradient_descent_steps(X, y, iters=10000):\n",
        "  # w0과 w1를 모두 0으로 초기화.\n",
        "  w0 = np.zeros((1, 1))\n",
        "  w1 = np.zeros((1, 1))\n",
        "\n",
        "  # 인자로 주어진 iters 만큼 반복적으로 get_weight_updates() 호출해 w1, w0 업데이트 수행.\n",
        "  for ind in range(iters):\n",
        "    w1_update, w0_update = get_weight_updates(w1, w0, X, y, learning_rate=0.01)\n",
        "    w1 = w1 - w1_update\n",
        "    w0 = w0 - w0_update\n",
        "\n",
        "  return w1, w0"
      ],
      "execution_count": 7,
      "outputs": []
    },
    {
      "cell_type": "code",
      "metadata": {
        "id": "RN_IjnlyshTu"
      },
      "source": [
        "def get_cost(y, y_pred):\n",
        "  N = len(y)\n",
        "  cost = np.sum(np.square(y - y_pred))/N\n",
        "  \n",
        "  return cost"
      ],
      "execution_count": 8,
      "outputs": []
    },
    {
      "cell_type": "code",
      "metadata": {
        "colab": {
          "base_uri": "https://localhost:8080/"
        },
        "id": "jtDDZiUdsp8V",
        "outputId": "834c363e-3e60-417e-e016-abbda3985ed5"
      },
      "source": [
        "w1, w0 = gradient_descent_steps(X, y, iters=1000)\n",
        "print(\"w1:{0:.3f} w0{1:.3f}\".format(w1[0,0], w0[0,0]))\n",
        "y_pred = w1[0, 0] * X + w0\n",
        "print('Gradient Descent Total Cost:{0:.4f}'.format(get_cost(y, y_pred)))"
      ],
      "execution_count": 9,
      "outputs": [
        {
          "output_type": "stream",
          "text": [
            "w1:4.022 w06.162\n",
            "Gradient Descent Total Cost:0.9935\n"
          ],
          "name": "stdout"
        }
      ]
    },
    {
      "cell_type": "code",
      "metadata": {
        "colab": {
          "base_uri": "https://localhost:8080/",
          "height": 282
        },
        "id": "1wi86Gf6tABe",
        "outputId": "e5a10c52-62f3-4d0c-9e0b-54bbe9a8619a"
      },
      "source": [
        "plt.scatter(X, y)\n",
        "plt.plot(X, y_pred)"
      ],
      "execution_count": 10,
      "outputs": [
        {
          "output_type": "execute_result",
          "data": {
            "text/plain": [
              "[<matplotlib.lines.Line2D at 0x7f4fecae6550>]"
            ]
          },
          "metadata": {
            "tags": []
          },
          "execution_count": 10
        },
        {
          "output_type": "display_data",
          "data": {
            "image/png": "[encoded data removed]",
            "text/plain": [
              "<Figure size 432x288 with 1 Axes>"
            ]
          },
          "metadata": {
            "tags": [],
            "needs_background": "light"
          }
        }
      ]
    },
    {
      "cell_type": "code",
      "metadata": {
        "id": "LUV5wltRs9pD"
      },
      "source": [
        "def stochastic_gradient_descent_steps(X, y, batch_size=10, iters=1000):\n",
        "  w0 = np.zeros((1, 1))\n",
        "  w1 = np.zeros((1, 1))\n",
        "  prev_cost = 100000\n",
        "  iter_index = 0\n",
        "  \n",
        "  for ind in range(iters):\n",
        "    np.random.seed(ind)\n",
        "    # 전체 X, y 데이터에서 랜덤하게 batch_size 만큼 데이터를 추출해 sample_X, sample_y로 저장\n",
        "    stochastic_random_index = np.random.permutation(X.shape[0])\n",
        "    sample_X = X[stochastic_random_index[0:batch_size]]\n",
        "    sample_y = y[stochastic_random_index[0:batch_size]]\n",
        "\n",
        "    # 랜덤하게 batch_size 만큼 추출된 데이터 기반으로 w1_update, w0_update 계산 후 업데이트\n",
        "    w1_update, w0_update = get_weight_updates(w1, w0, sample_X, sample_y, learning_rate=0.01)\n",
        "    w1 = w1 - w1_update\n",
        "    w0 = w0 - w0_update\n",
        "\n",
        "  return w1, w0\n"
      ],
      "execution_count": 12,
      "outputs": []
    },
    {
      "cell_type": "code",
      "metadata": {
        "colab": {
          "base_uri": "https://localhost:8080/"
        },
        "id": "Lj3OZe-ktrvP",
        "outputId": "02863a44-fc26-4c28-dd19-18a85ee65529"
      },
      "source": [
        "w1, w0 = stochastic_gradient_descent_steps(X, y, iters=1000)\n",
        "print(\"w1:\", round(w1[0, 0], 3), \"w0:\", round(w0[0, 0], 3))\n",
        "y_pred = w1[0, 0] * X + w0\n",
        "print('Stochastic Gradient Descent Total Cost:{0:.4f}'.format(get_cost(y, y_pred)))"
      ],
      "execution_count": 14,
      "outputs": [
        {
          "output_type": "stream",
          "text": [
            "w1: 4.028 w0: 6.156\n",
            "Stochastic Gradient Descent Total Cost:0.9937\n"
          ],
          "name": "stdout"
        }
      ]
    },
    {
      "cell_type": "code",
      "metadata": {
        "id": "IPFMo0ofuTNn"
      },
      "source": [
        ""
      ],
      "execution_count": null,
      "outputs": []
    }
  ]
}