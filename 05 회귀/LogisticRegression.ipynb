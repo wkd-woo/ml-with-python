{
  "nbformat": 4,
  "nbformat_minor": 0,
  "metadata": {
    "colab": {
      "name": "LogisticRegression.ipynb",
      "provenance": [],
      "collapsed_sections": [],
      "mount_file_id": "1EOX79IPD7qVmGC1yCtmx0ihgczm9Cepr",
      "authorship_tag": "ABX9TyPa4+pw87G3sN0hes+dN+nb"
    },
    "kernelspec": {
      "name": "python3",
      "display_name": "Python 3"
    },
    "language_info": {
      "name": "python"
    }
  },
  "cells": [
    {
      "cell_type": "markdown",
      "metadata": {
        "id": "FmjD3ffk2J75"
      },
      "source": [
        "## 로지스틱 회귀\n",
        "\n",
        "`로지스틱 회귀(Rogistic Regression)`은 선형 회귀 방식을 분류에 적용한 알고리즘이다.\n",
        "\n",
        "즉, 로지스틱 회귀는 분류에 사용되는 것이다.\n",
        "\n",
        "로지스틱 회귀 역시 선형 회귀 계열인데, 회귀가 선형인가 비선형인가는 독립변수가 아닌 가중치(weight) 변수가 선형인지 아닌지를 따른다.\n",
        "\n",
        "로지스틱 회귀가 선형 회귀와 다른 점은 학습을 통해 선형 함수와 회귀 최적선을 찾는 것이 아니라   \n",
        "`시그모이드(Sigmoid)` 함수 최적선을 찾고 이 시그모이드 함수의 반환 값을 확률로 간주해 확률에 따라 분류를 결정한다는 것이다.\n",
        "\n",
        "---\n",
        "\n",
        "많은 자연, 사회 현상에서 특정 변수의 확률 값은 선형이 아니라 시그모이드 함수와 같이 S자 커브 형태를 가진다.\n",
        "\n",
        "`시그모이드 함수의 정의` 는 \n",
        "\n",
        "> y = 1 / (1 + e^x)\n",
        "\n",
        "시그모이드 함수는 x값이 +, -로 아무리 커지거나 작아져도 y값은 항상 0과 1 사이 값을 반환한다.\n",
        "\n",
        "x값이 커지면 1에 근사하며, 작아지면 0에 근사한다.\n",
        "\n",
        "\n",
        "---\n",
        "\n",
        "종양에 크기에 따라 악성 종양인지(Yes=1) 그렇지 않은지(No=0)을 회귀를 이용해 1과 0의 값으로 예측한다.\n",
        "\n",
        "종양 크기를 X축, 악성 종양 여부를 Y축에 표시한다.\n",
        "\n",
        "\n"
      ]
    },
    {
      "cell_type": "code",
      "metadata": {
        "id": "7STZCaSC0ZKY"
      },
      "source": [
        "import pandas as pd\n",
        "import matplotlib.pyplot as plt\n",
        "%matplotlib inline\n",
        "\n",
        "from sklearn.datasets import load_breast_cancer\n",
        "from sklearn.linear_model import LogisticRegression"
      ],
      "execution_count": 1,
      "outputs": []
    },
    {
      "cell_type": "code",
      "metadata": {
        "id": "4klxY1Ym3fFJ"
      },
      "source": [
        "cancer = load_breast_cancer()"
      ],
      "execution_count": 2,
      "outputs": []
    },
    {
      "cell_type": "code",
      "metadata": {
        "id": "1tyEnmKt3gjR"
      },
      "source": [
        "from sklearn.preprocessing import StandardScaler\n",
        "from sklearn.model_selection import train_test_split"
      ],
      "execution_count": 3,
      "outputs": []
    },
    {
      "cell_type": "code",
      "metadata": {
        "id": "Xr_CbW283mAw"
      },
      "source": [
        "# StandardScaler()로 평균이 0, 분산 1인 데이터 분포도 변환\n",
        "scaler = StandardScaler()\n",
        "data_scaled = scaler.fit_transform(cancer.data)\n",
        "\n",
        "X_train, X_test, y_train, y_test = train_test_split(data_scaled, cancer.target, test_size=0.3, random_state=0)"
      ],
      "execution_count": 4,
      "outputs": []
    },
    {
      "cell_type": "code",
      "metadata": {
        "colab": {
          "base_uri": "https://localhost:8080/"
        },
        "id": "DmseLXz234TP",
        "outputId": "b4edd34e-f449-4c56-e5d7-bb1733350e25"
      },
      "source": [
        "from sklearn.metrics import accuracy_score, roc_auc_score\n",
        "\n",
        "# 로지스틱 회귀를 이용해 학습 및 예측 수행.\n",
        "lr_clf = LogisticRegression()\n",
        "lr_clf.fit(X_train, y_train)\n",
        "lr_preds = lr_clf.predict(X_test)\n",
        "\n",
        "# 정확도와 roc_auc 측정\n",
        "print('accuracy: {0:.3f}'.format(accuracy_score(y_test, lr_preds)))\n",
        "print('roc_auc: {0:.3f}'.format(roc_auc_score(y_test, lr_preds)))"
      ],
      "execution_count": 5,
      "outputs": [
        {
          "output_type": "stream",
          "text": [
            "accuracy: 0.977\n",
            "roc_auc: 0.972\n"
          ],
          "name": "stdout"
        }
      ]
    },
    {
      "cell_type": "markdown",
      "metadata": {
        "id": "UUwVYpjx4UiN"
      },
      "source": [
        "\n",
        "사이킷런 LogisticRegression 클래스의 주요 하이퍼 파라미터로 penalty와 C가 있다.\n",
        "\n",
        "penalty는 `규제(Regularization)`의 유형을 설정하며    \n",
        "'l2'로 설정 시 L2 규제를, 'l1'으로 설정 시 L1 규제를 뜻한다. 기본은 'l2'이다.\n",
        "\n",
        "C는 규제 강도를 조절하는 `alpha` 값의 역수이다. 즉, C = 1 / alpha \n",
        "\n",
        "C 값이 작을수록 규제 강도가 크다. `GridSearchCV`를 이용해 위스콘신 데이터 세트에서 이 하이퍼 파라미터를 최적화한다.\n",
        "\n"
      ]
    },
    {
      "cell_type": "code",
      "metadata": {
        "id": "o-s5b-Px4SYW"
      },
      "source": [
        "from sklearn.model_selection import GridSearchCV"
      ],
      "execution_count": 6,
      "outputs": []
    },
    {
      "cell_type": "code",
      "metadata": {
        "id": "8VuCJG6w42U8"
      },
      "source": [
        "params = {'penalty':['l2', 'l1'], 'C':[0.01, 0.1, 1, 5, 10]}"
      ],
      "execution_count": 7,
      "outputs": []
    },
    {
      "cell_type": "code",
      "metadata": {
        "colab": {
          "base_uri": "https://localhost:8080/"
        },
        "id": "geY4Mj9_5B6u",
        "outputId": "e93058dd-11ef-4ec2-f639-236a4cf61260"
      },
      "source": [
        "grid_clf = GridSearchCV(lr_clf, param_grid=params, scoring='accuracy', cv=3)\n",
        "grid_clf.fit(data_scaled, cancer.target)\n",
        "print('최적 하이퍼 파라미터:{0}. 최적 평균 정확도:{1:.3f}'.format(grid_clf.best_params_, grid_clf.best_score_))"
      ],
      "execution_count": 8,
      "outputs": [
        {
          "output_type": "stream",
          "text": [
            "/usr/local/lib/python3.7/dist-packages/sklearn/model_selection/_validation.py:536: FitFailedWarning: Estimator fit failed. The score on this train-test partition for these parameters will be set to nan. Details: \n",
            "ValueError: Solver lbfgs supports only 'l2' or 'none' penalties, got l1 penalty.\n",
            "\n",
            "  FitFailedWarning)\n",
            "/usr/local/lib/python3.7/dist-packages/sklearn/model_selection/_validation.py:536: FitFailedWarning: Estimator fit failed. The score on this train-test partition for these parameters will be set to nan. Details: \n",
            "ValueError: Solver lbfgs supports only 'l2' or 'none' penalties, got l1 penalty.\n",
            "\n",
            "  FitFailedWarning)\n",
            "/usr/local/lib/python3.7/dist-packages/sklearn/model_selection/_validation.py:536: FitFailedWarning: Estimator fit failed. The score on this train-test partition for these parameters will be set to nan. Details: \n",
            "ValueError: Solver lbfgs supports only 'l2' or 'none' penalties, got l1 penalty.\n",
            "\n",
            "  FitFailedWarning)\n",
            "/usr/local/lib/python3.7/dist-packages/sklearn/model_selection/_validation.py:536: FitFailedWarning: Estimator fit failed. The score on this train-test partition for these parameters will be set to nan. Details: \n",
            "ValueError: Solver lbfgs supports only 'l2' or 'none' penalties, got l1 penalty.\n",
            "\n",
            "  FitFailedWarning)\n",
            "/usr/local/lib/python3.7/dist-packages/sklearn/model_selection/_validation.py:536: FitFailedWarning: Estimator fit failed. The score on this train-test partition for these parameters will be set to nan. Details: \n",
            "ValueError: Solver lbfgs supports only 'l2' or 'none' penalties, got l1 penalty.\n",
            "\n",
            "  FitFailedWarning)\n"
          ],
          "name": "stderr"
        },
        {
          "output_type": "stream",
          "text": [
            "최적 하이퍼 파라미터:{'C': 1, 'penalty': 'l2'}. 최적 평균 정확도:0.975\n"
          ],
          "name": "stdout"
        }
      ]
    },
    {
      "cell_type": "markdown",
      "metadata": {
        "id": "ZTYZ9sGw5aJO"
      },
      "source": [
        "\n",
        "로지스틱 회귀는 가볍고 빠르지만, 이진 분류 예측 성능도 뛰어나다.\n",
        "\n",
        "이 때문에 로지스틱 회귀를 이진 분류의 기본 모델로 사용하는 경우가 많다.\n",
        "\n",
        "또한 로지스틱 회귀는 희소한 데이터 세트 분류에도 뛰어난 성능을 보여 텍스트 분류에서도 자주 사용된다.\n",
        "\n"
      ]
    },
    {
      "cell_type": "code",
      "metadata": {
        "id": "BzyieaQj5rAz"
      },
      "source": [
        ""
      ],
      "execution_count": null,
      "outputs": []
    }
  ]
}